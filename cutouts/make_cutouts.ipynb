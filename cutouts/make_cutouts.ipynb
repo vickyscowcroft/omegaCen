{
 "cells": [
  {
   "cell_type": "code",
   "execution_count": 1,
   "metadata": {
    "collapsed": true
   },
   "outputs": [],
   "source": [
    "import numpy as np\n",
    "import os\n",
    "import pandas as pd\n",
    "import sys\n",
    "from astropy.coordinates import SkyCoord\n",
    "from astropy.io import fits\n",
    "from astropy.nddata import Cutout2D\n",
    "from astropy.nddata.utils import NoOverlapError\n",
    "from astropy.units import arcsec\n",
    "from astropy.wcs import WCS\n",
    "from collections import OrderedDict"
   ]
  },
  {
   "cell_type": "code",
   "execution_count": 2,
   "metadata": {
    "collapsed": false
   },
   "outputs": [],
   "source": [
    "fitsdir = '../calibrated_files/fitsimg/'\n",
    "csvdir = '../calibrated_files/'\n",
    "df_orig = pd.read_csv('../reworked_fitting_code/final_data_files/kaluzny_2004_rrl_reformat.csv')"
   ]
  },
  {
   "cell_type": "code",
   "execution_count": 10,
   "metadata": {
    "collapsed": true
   },
   "outputs": [],
   "source": [
    "def make_irac_cutout(epoch,filt,df):\n",
    "    base_name = 'omegaCen_{}_{}um'.format(epoch,filt)\n",
    "    in_dataset = pd.read_csv(os.path.join(csvdir, base_name + '_rrl_matched_to_kaluzny.cut'))\n",
    "    fitsfile, fitshead = fits.getdata(os.path.join(fitsdir, base_name + '_n.fits'),0,header=True)\n",
    "    wcs = WCS(fitshead)\n",
    "    size = 18*arcsec\n",
    "    df_cut = df[df['id'].isin(in_dataset['ID'].str.split('V').str[-1].astype(int))]\n",
    "    for index, row in df_cut.iterrows():\n",
    "        cpath = 'cutouts/{}_{}.fits'.format(row.id, filt)\n",
    "        position = SkyCoord(row.ra, row.dec, unit=('hour', 'deg'))\n",
    "        try:\n",
    "            cutout = Cutout2D(fitsfile, position, size, wcs=wcs, mode='partial', fill_value=0)\n",
    "            cutout.data[cutout.data == np.nan] = 0\n",
    "            fits.writeto(cpath, cutout.data, cutout.wcs.to_header(), clobber=True)\n",
    "        except NoOverlapError:\n",
    "            print row.id, 'wat'\n",
    "#         except:\n",
    "#             data = np.zeros((2,2))\n",
    "#             fits.writeto(cpath, data)\n",
    "#     for index, row in df.iterrows():\n",
    "#         cpath = 'cutouts/{}_{}.fits'.format(row.ID.split('V')[-1], filt)\n",
    "#         position = (row.xc_ref, row.yc_ref)\n",
    "#         cutout = Cutout2D(fitsfile, position, size, wcs=wcs, mode='partial')\n",
    "#         fits.writeto(cpath, cutout.data, cutout.wcs.to_header(), clobber=True)"
   ]
  },
  {
   "cell_type": "code",
   "execution_count": 11,
   "metadata": {
    "collapsed": false
   },
   "outputs": [],
   "source": [
    "for epoch in range(1,4):\n",
    "    for filt in ['3p6','4p5']:\n",
    "        make_irac_cutout(epoch,filt,df_orig)"
   ]
  },
  {
   "cell_type": "code",
   "execution_count": 9,
   "metadata": {
    "collapsed": false
   },
   "outputs": [],
   "source": [
    "def make_fourstar_cutout(filt,df):\n",
    "    base_name = 'Omega_Cen_{}'.format(filt)\n",
    "    data, head = fits.getdata(os.path.join(fitsdir, base_name + '.fits'),0,header=True)\n",
    "    wcs = WCS(head)\n",
    "    size = 18*arcsec\n",
    "    for index, row in df.iterrows():\n",
    "        cpath = 'cutouts/{}_{}.fits'.format(row.id, filt)\n",
    "        position = SkyCoord(row.ra, row.dec, unit=('hour', 'deg'))\n",
    "        try:\n",
    "            cutout = Cutout2D(data, position, size, wcs=wcs, mode='partial', fill_value=0)\n",
    "            cutout.data[cutout.data == np.nan] = 0\n",
    "            fits.writeto(cpath, cutout.data, cutout.wcs.to_header(), clobber=True)\n",
    "        except:\n",
    "            print row.id, 'fucked up'"
   ]
  },
  {
   "cell_type": "code",
   "execution_count": 8,
   "metadata": {
    "collapsed": false
   },
   "outputs": [
    {
     "name": "stderr",
     "output_type": "stream",
     "text": [
      "WARNING: FITSFixedWarning: RADECSYS= 'ICRS ' / Astrometric system \n",
      "the RADECSYS keyword is deprecated, use RADESYSa. [astropy.wcs.wcs]\n"
     ]
    },
    {
     "name": "stdout",
     "output_type": "stream",
     "text": [
      "159 fucked up\n",
      "181 fucked up\n",
      "182 fucked up\n",
      "281 fucked up\n"
     ]
    }
   ],
   "source": [
    "make_fourstar_cutout('Ks',df_orig)"
   ]
  },
  {
   "cell_type": "code",
   "execution_count": null,
   "metadata": {
    "collapsed": true
   },
   "outputs": [],
   "source": [
    "def make_blank_cutouts(df):\n",
    "    for index, row in df.iterrows():\n",
    "        cpath = 'cutouts/{}_Ks.fits'.format(row.id)\n",
    "        if os.path.exists(cpath):\n",
    "            for filt in ['3p6','4p5']:\n",
    "                if not os.path.exists(cpath.replace('Ks',filt)):\n",
    "                    data = np.zeros((2,2))\n",
    "                    fits.writeto(cpath.replace('Ks',filt), data, clobber=True)"
   ]
  },
  {
   "cell_type": "code",
   "execution_count": null,
   "metadata": {
    "collapsed": false
   },
   "outputs": [],
   "source": [
    "make_blank_cutouts(df_orig)"
   ]
  },
  {
   "cell_type": "code",
   "execution_count": null,
   "metadata": {
    "collapsed": true
   },
   "outputs": [],
   "source": [
    "import montage_wrapper as m\n",
    "import glob"
   ]
  },
  {
   "cell_type": "code",
   "execution_count": null,
   "metadata": {
    "collapsed": false
   },
   "outputs": [],
   "source": [
    "inlist = glob.glob(fitsdir+\"*_?_?p?um.fits\")\n",
    "outlist = [i.replace('.fits','_n.fits') for i in inlist]"
   ]
  },
  {
   "cell_type": "code",
   "execution_count": null,
   "metadata": {
    "collapsed": false
   },
   "outputs": [],
   "source": [
    "m.reproject(inlist,outlist,north_aligned=True)"
   ]
  },
  {
   "cell_type": "code",
   "execution_count": null,
   "metadata": {
    "collapsed": true
   },
   "outputs": [],
   "source": []
  }
 ],
 "metadata": {
  "kernelspec": {
   "display_name": "Python 2",
   "language": "python",
   "name": "python2"
  },
  "language_info": {
   "codemirror_mode": {
    "name": "ipython",
    "version": 2
   },
   "file_extension": ".py",
   "mimetype": "text/x-python",
   "name": "python",
   "nbconvert_exporter": "python",
   "pygments_lexer": "ipython2",
   "version": "2.7.11"
  }
 },
 "nbformat": 4,
 "nbformat_minor": 0
}
