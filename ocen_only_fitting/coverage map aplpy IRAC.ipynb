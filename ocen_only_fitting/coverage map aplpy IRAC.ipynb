{
 "cells": [
  {
   "cell_type": "code",
   "execution_count": 1,
   "metadata": {
    "collapsed": false
   },
   "outputs": [],
   "source": [
    "%matplotlib inline\n",
    "%config InlineBackend.figure_format='retina'\n",
    "import aplpy\n",
    "import glob\n",
    "import os\n",
    "import numpy as np\n",
    "import pandas as pd\n",
    "from matplotlib import pyplot as plt\n",
    "from astropy.io import fits\n",
    "import astropy.coordinates as coord\n",
    "from astropy.wcs import WCS\n",
    "import montage_wrapper as m\n",
    "import matplotlib.patheffects as PE\n",
    "import brewer2mpl\n",
    "set2 = brewer2mpl.get_map('Set2', 'qualitative', 8).mpl_colors\n",
    "dark2 = brewer2mpl.get_map('Dark2', 'qualitative', 8).mpl_colors\n",
    "import prettyplotlib as ppl\n",
    "import matplotlib.patches as patches\n",
    "import matplotlib.lines as lines\n",
    "from matplotlib import rc\n",
    "from cycler import cycler\n",
    "rc('font', **{'family': 'serif', 'serif': ['Computer Modern Roman'], 'size':14})\n",
    "rc('text', usetex=True)\n",
    "rc('axes', prop_cycle=cycler('color', set2))"
   ]
  },
  {
   "cell_type": "code",
   "execution_count": 2,
   "metadata": {
    "collapsed": true
   },
   "outputs": [],
   "source": [
    "filt = 'fitsimg'"
   ]
  },
  {
   "cell_type": "code",
   "execution_count": 3,
   "metadata": {
    "collapsed": false
   },
   "outputs": [],
   "source": [
    "if not os.path.exists('../calibrated_files/{}mosaic/'.format(filt)):\n",
    "    m.wrappers.mosaic('../calibrated_files/{}/'.format(filt),'../calibrated_files/{}mosaic/'.format(filt))"
   ]
  },
  {
   "cell_type": "code",
   "execution_count": 4,
   "metadata": {
    "collapsed": false
   },
   "outputs": [],
   "source": [
    "fitsfile = '../calibrated_files/{}mosaic/mosaic.fits'.format(filt)\n",
    "#with fits.open(fitsfile) as hdu:\n",
    "wcs2 = WCS(fitsfile)\n",
    "    #dat = hdu[0].data"
   ]
  },
  {
   "cell_type": "code",
   "execution_count": 5,
   "metadata": {
    "collapsed": false
   },
   "outputs": [],
   "source": [
    "blerp = pd.read_csv('Kaluzny2004rrl.txt', usecols=[0,1,2,4], delim_whitespace=True)\n",
    "crowd = pd.read_csv('final_data_files/all_possible_phot_resid_braga.csv')\n",
    "\n",
    "rej = blerp[~blerp.id.isin(crowd.id)]\n",
    "\n",
    "rejab = rej[rej.type == 0]\n",
    "rejc = rej[rej.type == 1]\n",
    "\n",
    "typeab = blerp[blerp.type == 0]\n",
    "typec = blerp[blerp.type == 1]\n",
    "\n",
    "def get_x_y(df):\n",
    "    ra1 = coord.Angle(df.ra, unit='hour')\n",
    "    abra = ra1.degree\n",
    "    dec1 = coord.Angle(df.dec, unit='deg')\n",
    "    abdec = dec1.degree\n",
    "    #x1, y1 = wcs2.all_world2pix(abra, abdec, 1)\n",
    "    return abra, abdec\n",
    "\n",
    "x1, y1 = get_x_y(typeab)\n",
    "x2, y2 = get_x_y(typec)\n",
    "x3, y3 = get_x_y(rejab)\n",
    "x4, y4 = get_x_y(rejc)"
   ]
  },
  {
   "cell_type": "code",
   "execution_count": null,
   "metadata": {
    "collapsed": false
   },
   "outputs": [],
   "source": [
    "#fig, ax0 = plt.subplots(1,1,figsize=(9,8))\n",
    "ax = aplpy.FITSFigure(fitsfile,north=True)\n",
    "ax.show_grayscale(vmin=10**-0.5,vmax=10**1.3,stretch='log')\n",
    "ax.set_theme('publication')\n",
    "#ax.ticks.hide()\n",
    "ax.tick_labels.set_yformat('dd:mm')\n",
    "ax.tick_labels.set_xformat('hh:mm')\n",
    "#ax.recenter(ra_center, dec_center, width=width/1.5, height=height)\n",
    "ax.frame.set_linewidth(0.75)\n",
    "\n",
    "# for i in glob.glob('../../ocen_images/omegaCen_*.fits'):\n",
    "#     mapnum = int(i.split('_')[2])\n",
    "#     filt = i.split('_')[5].split('.')[0]\n",
    "#     #with fits.open(i) as f:\n",
    "#     instrument_wcs = WCS(fits.getheader(i,0))\n",
    "#     vertices = instrument_wcs.calc_footprint().T\n",
    "#     if filt == '3p6um':\n",
    "#         if mapnum == 1:\n",
    "#             ax.show_polygons([vertices], linewidth = 3, facecolor='none',\n",
    "#                              edgecolor='k', label = '$3.6\\ \\mu$m', zorder = 5-mapnum)\n",
    "#         else:\n",
    "#             ax.show_polygons([vertices], linewidth = 3, facecolor='none',\n",
    "#                              edgecolor='k', zorder = 5-mapnum)\n",
    "#     if filt == '4p5um':\n",
    "#         if mapnum == 1:\n",
    "#             ax.show_polygons([vertices], linewidth = 2, facecolor='none',\n",
    "#                              edgecolor='w', label = '$4.5\\ \\mu$m', zorder = 5-mapnum,\n",
    "#                              path_effects=[PE.withStroke(linewidth=3.5, foreground='k')])\n",
    "#         else:\n",
    "#             ax.show_polygons([vertices], linewidth = 2, facecolor='none',\n",
    "#                              edgecolor='w', zorder = 5-mapnum,\n",
    "#                              path_effects=[PE.withStroke(linewidth=3.5, foreground='k')])\n",
    "ax.show_markers(x1, y1, s=35., alpha=1, facecolor=dark2[3], linewidth=0.5, \n",
    "                label='RRab', rasterized=True, edgecolor='k')\n",
    "ax.show_markers(x2, y2, s=40., marker='^', alpha=1, facecolor=dark2[3], linewidth=0.5, \n",
    "                label='RRc', rasterized=True, edgecolor='k')\n",
    "ax.show_markers(x3, y3, s=35., alpha=1, facecolor='#FAFAFA', linewidth=0.5, \n",
    "                label='RRab', rasterized=True, edgecolor='k')\n",
    "ax.show_markers(x4, y4, s=40., marker='^', alpha=1, facecolor='#FAFAFA', linewidth=0.5, \n",
    "                label='RRc', rasterized=True, edgecolor='k')\n",
    "# ax.set_title('IRAC (both filters)')# [{}.{}]'.format(*filt.split('p')))\n",
    "\n",
    "# patch1 = patches.Rectangle([0, 0], 1, 1, linewidth = 3, facecolor='none',\n",
    "#                            edgecolor='k')\n",
    "# patch2 = patches.Rectangle([0, 0], 1, 1, linewidth = 2, facecolor='none',\n",
    "#                              edgecolor='w',\n",
    "#                              path_effects=[PE.withStroke(linewidth=3.5, foreground='k')])\n",
    "\n",
    "rrab = lines.Line2D([], [], marker='o', markersize=np.sqrt(35.), alpha=1, color=dark2[3], lw=0)\n",
    "rrc = lines.Line2D([], [], marker='^', markersize=np.sqrt(40.), alpha=1, color=dark2[3], lw=0)\n",
    "rrab_rej = lines.Line2D([], [], marker='o', markersize=np.sqrt(35.), alpha=1, color='#FAFAFA', lw=0)\n",
    "rrc_rej = lines.Line2D([], [], marker='^', markersize=np.sqrt(40.), alpha=1, color='#FAFAFA', lw=0)\n",
    "\n",
    "#handles0, labels0 = ax.get_legend_handles_labels()\n",
    "handles = [rrab, rrc]\n",
    "labels = ['RRab', 'RRc']\n",
    "\n",
    "ppl.legend(handles=handles, labels=labels, loc=1, prop={'size':14}, handlelength=1, numpoints=1)\n",
    "\n",
    "ax.save('final_plots/coverage_both_newimages.eps', dpi=400)"
   ]
  },
  {
   "cell_type": "code",
   "execution_count": null,
   "metadata": {
    "collapsed": true
   },
   "outputs": [],
   "source": []
  },
  {
   "cell_type": "code",
   "execution_count": null,
   "metadata": {
    "collapsed": true
   },
   "outputs": [],
   "source": []
  },
  {
   "cell_type": "code",
   "execution_count": null,
   "metadata": {
    "collapsed": true
   },
   "outputs": [],
   "source": []
  },
  {
   "cell_type": "code",
   "execution_count": null,
   "metadata": {
    "collapsed": true
   },
   "outputs": [],
   "source": []
  }
 ],
 "metadata": {
  "kernelspec": {
   "display_name": "Python 2",
   "language": "python",
   "name": "python2"
  },
  "language_info": {
   "codemirror_mode": {
    "name": "ipython",
    "version": 2
   },
   "file_extension": ".py",
   "mimetype": "text/x-python",
   "name": "python",
   "nbconvert_exporter": "python",
   "pygments_lexer": "ipython2",
   "version": "2.7.11"
  }
 },
 "nbformat": 4,
 "nbformat_minor": 0
}
