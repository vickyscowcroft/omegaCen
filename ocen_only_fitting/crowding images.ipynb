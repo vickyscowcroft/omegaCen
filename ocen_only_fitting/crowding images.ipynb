{
 "cells": [
  {
   "cell_type": "code",
   "execution_count": 1,
   "metadata": {
    "collapsed": false
   },
   "outputs": [],
   "source": [
    "%matplotlib inline\n",
    "%config InlineBackend.figure_format='retina'\n",
    "import aplpy\n",
    "import glob\n",
    "import numpy as np\n",
    "import pandas as pd\n",
    "from matplotlib import pyplot as plt\n",
    "from astropy.io import fits\n",
    "import astropy.coordinates as coord\n",
    "from astropy.wcs import WCS\n",
    "import matplotlib.patheffects as PE\n",
    "import brewer2mpl\n",
    "set2 = brewer2mpl.get_map('Set2', 'qualitative', 8).mpl_colors\n",
    "dark2 = brewer2mpl.get_map('Dark2', 'qualitative', 8).mpl_colors\n",
    "import prettyplotlib as ppl\n",
    "import matplotlib.patches as patches\n",
    "import matplotlib.lines as lines\n",
    "from matplotlib import rc\n",
    "from cycler import cycler\n",
    "rc('font', **{'family': 'serif', 'serif': ['Computer Modern Roman'], 'size':14})\n",
    "rc('text', usetex=True)\n",
    "rc('axes', prop_cycle=cycler('color', set2))"
   ]
  },
  {
   "cell_type": "code",
   "execution_count": 2,
   "metadata": {
    "collapsed": false
   },
   "outputs": [],
   "source": [
    "fitsstr = '../calibrated_files/fitsimg/'\n",
    "fitsfiles = [fitsstr + 'Omega_Cen_Ks.fits',\n",
    "             fitsstr + 'omegaCen_3_3p6um.fits',\n",
    "             fitsstr + 'omegaCen_3_4p5um.fits',\n",
    "             fitsstr + 'Omega_Cen_Ks.fits',\n",
    "             fitsstr + 'omegaCen_2_3p6um.fits',\n",
    "             fitsstr + 'omegaCen_2_4p5um.fits']"
   ]
  },
  {
   "cell_type": "code",
   "execution_count": 11,
   "metadata": {
    "collapsed": false
   },
   "outputs": [],
   "source": [
    "rrl = pd.read_csv('final_data_files/kaluzny.txt', usecols=[0,1,2,4], delim_whitespace=True)\n",
    "\n",
    "id_crowded = 366\n",
    "id_uncrowded = 13\n",
    "\n",
    "crowded = rrl[rrl.id == id_crowded] # 118, 264, 366\n",
    "uncrowded = rrl[rrl.id == id_uncrowded] # 3, 5, 13\n",
    "\n",
    "def get_x_y(df):\n",
    "    ra1 = coord.Angle(df.ra, unit='hour')\n",
    "    abra = ra1.degree\n",
    "    dec1 = coord.Angle(df.dec, unit='deg')\n",
    "    abdec = dec1.degree\n",
    "    #x1, y1 = wcs2.all_world2pix(abra, abdec, 1)\n",
    "    return abra, abdec\n",
    "\n",
    "x1, y1 = get_x_y(crowded)\n",
    "x2, y2 = get_x_y(uncrowded)"
   ]
  },
  {
   "cell_type": "code",
   "execution_count": 12,
   "metadata": {
    "collapsed": false
   },
   "outputs": [
    {
     "data": {
      "text/plain": [
       "<matplotlib.text.Text at 0x1161f7d50>"
      ]
     },
     "execution_count": 12,
     "metadata": {},
     "output_type": "execute_result"
    },
    {
     "data": {
      "image/png": "[encoded data removed]",
      "text/plain": [
       "<matplotlib.figure.Figure at 0x112af9f10>"
      ]
     },
     "metadata": {
      "image/png": {
       "height": 363,
       "width": 507
      }
     },
     "output_type": "display_data"
    }
   ],
   "source": [
    "fig, axes = plt.subplots(2,3,figsize=(7,5), sharex=True, sharey=True)\n",
    "axes = axes.ravel()\n",
    "\n",
    "fig.tight_layout()\n",
    "fig.subplots_adjust(hspace=0.05,wspace=0.05)\n",
    "axes[3].set_xlabel('$K_s$')\n",
    "axes[4].set_xlabel('$[3.6]$')\n",
    "axes[5].set_xlabel('$[4.5]$')\n",
    "axes[0].set_ylabel('Crowded RRL (V{})'.format(id_crowded))\n",
    "axes[3].set_ylabel('Uncrowded RRL (V{})'.format(id_uncrowded))\n",
    "# for x,y in herp:\n",
    "#     ax.add_label(x, y, str(x) + ',' + str(y), color='pink')\n",
    "\n",
    "\n",
    "# ppl.legend(handles=handles, labels=labels, loc=2, prop={'size':14}, handlelength=1, numpoints=1)\n",
    "\n",
    "\n",
    "#ax.save('final_plots/omegacen_coverage_map_new.pdf', dpi=400)"
   ]
  },
  {
   "cell_type": "code",
   "execution_count": 13,
   "metadata": {
    "collapsed": false
   },
   "outputs": [
    {
     "name": "stdout",
     "output_type": "stream",
     "text": [
      "INFO: Deleting work directory /var/folders/_2/fhrfr21s36b5dqkbxgpdjdp00000gn/T/tmpVOXQGo [montage_wrapper.wrappers]\n",
      "INFO: Deleting work directory /var/folders/_2/fhrfr21s36b5dqkbxgpdjdp00000gn/T/tmpq6ivSo [montage_wrapper.wrappers]\n",
      "INFO: Deleting work directory /var/folders/_2/fhrfr21s36b5dqkbxgpdjdp00000gn/T/tmp7yHiyW [montage_wrapper.wrappers]\n",
      "INFO: Deleting work directory /var/folders/_2/fhrfr21s36b5dqkbxgpdjdp00000gn/T/tmp3XJMEV [montage_wrapper.wrappers]\n",
      "INFO: Deleting work directory /var/folders/_2/fhrfr21s36b5dqkbxgpdjdp00000gn/T/tmpFxvQ8F [montage_wrapper.wrappers]\n",
      "INFO: Deleting work directory /var/folders/_2/fhrfr21s36b5dqkbxgpdjdp00000gn/T/tmp9jir6X [montage_wrapper.wrappers]\n"
     ]
    }
   ],
   "source": [
    "for i in range(6):\n",
    "    ax0 = axes[i]\n",
    "    pos0 = ax0.get_position()\n",
    "    ax0.set_xticks([])\n",
    "    ax0.set_yticks([])\n",
    "    ax = aplpy.FITSFigure(fitsfiles[i], north=True,\n",
    "                          figure=fig, subplot=[pos0.x0, pos0.y0, pos0.width, pos0.height])\n",
    "    if i in [0,3]:\n",
    "        ax.show_grayscale(vmin=10**2.5,vmax=10**3.5,stretch='log') #,vmid=-1\n",
    "    else:\n",
    "        ax.show_grayscale(vmin=1.,vmax=50,stretch='log') #,vmid=-1\n",
    "    ax.set_theme('publication')\n",
    "    ax.ticks.hide()\n",
    "    ax.tick_labels.hide()\n",
    "    ax.axis_labels.hide()\n",
    "    #ax.tick_labels.set_yformat('dd:mm')\n",
    "    #ax.tick_labels.set_xformat('hh:mm')\n",
    "    if i < 3:\n",
    "        ax.recenter(x1, y1, width=0.006, height=0.006)\n",
    "        ax.show_circles(x1, y1, radius=3.6/3600)\n",
    "    else:\n",
    "        ax.recenter(x2, y2, width=0.006, height=0.006)\n",
    "        ax.show_circles(x2, y2, radius=3.6/3600)        \n",
    "    ax.frame.set_linewidth(0.75)\n"
   ]
  },
  {
   "cell_type": "code",
   "execution_count": 14,
   "metadata": {
    "collapsed": true
   },
   "outputs": [],
   "source": [
    "fig.savefig('final_plots/crowding_example_{}_{}.eps'.format(id_uncrowded,id_crowded))"
   ]
  },
  {
   "cell_type": "code",
   "execution_count": null,
   "metadata": {
    "collapsed": true
   },
   "outputs": [],
   "source": []
  }
 ],
 "metadata": {
  "kernelspec": {
   "display_name": "Python 2",
   "language": "python",
   "name": "python2"
  },
  "language_info": {
   "codemirror_mode": {
    "name": "ipython",
    "version": 2
   },
   "file_extension": ".py",
   "mimetype": "text/x-python",
   "name": "python",
   "nbconvert_exporter": "python",
   "pygments_lexer": "ipython2",
   "version": "2.7.11"
  }
 },
 "nbformat": 4,
 "nbformat_minor": 0
}
