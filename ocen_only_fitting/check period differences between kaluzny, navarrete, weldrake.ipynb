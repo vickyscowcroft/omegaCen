{
 "cells": [
  {
   "cell_type": "code",
   "execution_count": 1,
   "metadata": {
    "collapsed": true
   },
   "outputs": [],
   "source": [
    "%matplotlib inline\n",
    "from matplotlib import pyplot as plt\n",
    "import pandas as pd\n",
    "import numpy as np"
   ]
  },
  {
   "cell_type": "code",
   "execution_count": 9,
   "metadata": {
    "collapsed": true
   },
   "outputs": [],
   "source": [
    "df_weldrake = pd.read_csv('final_data_files/welldrake_readable.txt', index_col='id', delim_whitespace=True)\n",
    "df_kaluz = pd.read_csv('final_data_files/kaluzny_2004_rrl_reformat.txt', index_col='id', delim_whitespace=True)\n",
    "df_weldrake.index = df_weldrake.index.str.split('V').str[-1].astype(int)\n",
    "df_kaluz.index = df_kaluz.index.str.split('V').str[-1].astype(int)"
   ]
  },
  {
   "cell_type": "code",
   "execution_count": 12,
   "metadata": {
    "collapsed": false
   },
   "outputs": [],
   "source": [
    "df_joined = df_kaluz.join(df_weldrake,rsuffix='_w')"
   ]
  },
  {
   "cell_type": "code",
   "execution_count": 19,
   "metadata": {
    "collapsed": false
   },
   "outputs": [
    {
     "name": "stdout",
     "output_type": "stream",
     "text": [
      "         per  per_w other_per\n",
      "id                           \n",
      "69  0.635221  0.653         -\n",
      "81  0.389392  0.779         -\n"
     ]
    }
   ],
   "source": [
    "period_diff = df_joined.per_w - df_joined.per\n",
    "print df_joined.filter(regex='per')[np.abs(period_diff) > 0.01]"
   ]
  },
  {
   "cell_type": "code",
   "execution_count": 36,
   "metadata": {
    "collapsed": false
   },
   "outputs": [],
   "source": [
    "df_nav = pd.read_csv('final_data_files/navarrete_2015_table1.txt', index_col='id', delim_whitespace=True)\n",
    "df_nav.index = df_nav.index.str.split('V').str[-1].astype(int)"
   ]
  },
  {
   "cell_type": "code",
   "execution_count": 41,
   "metadata": {
    "collapsed": false
   },
   "outputs": [],
   "source": [
    "df_joined2 = df_kaluz.join(df_nav,rsuffix='_n')"
   ]
  },
  {
   "cell_type": "code",
   "execution_count": 40,
   "metadata": {
    "collapsed": false
   },
   "outputs": [
    {
     "name": "stdout",
     "output_type": "stream",
     "text": [
      "Empty DataFrame\n",
      "Columns: [per, per_n]\n",
      "Index: []\n"
     ]
    }
   ],
   "source": [
    "period_diff2 = df_joined2.per_n - df_joined2.per\n",
    "print df_joined2.filter(regex='per')[np.abs(period_diff2) > 0.01]"
   ]
  },
  {
   "cell_type": "code",
   "execution_count": null,
   "metadata": {
    "collapsed": true
   },
   "outputs": [],
   "source": []
  }
 ],
 "metadata": {
  "kernelspec": {
   "display_name": "Python 2",
   "language": "python",
   "name": "python2"
  },
  "language_info": {
   "codemirror_mode": {
    "name": "ipython",
    "version": 2
   },
   "file_extension": ".py",
   "mimetype": "text/x-python",
   "name": "python",
   "nbconvert_exporter": "python",
   "pygments_lexer": "ipython2",
   "version": "2.7.11"
  }
 },
 "nbformat": 4,
 "nbformat_minor": 0
}
