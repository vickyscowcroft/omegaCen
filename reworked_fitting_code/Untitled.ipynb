{
 "cells": [
  {
   "cell_type": "code",
   "execution_count": 1,
   "metadata": {
    "collapsed": true
   },
   "outputs": [],
   "source": [
    "%matplotlib inline\n",
    "%config InlineBackend.figure_format='retina'\n",
    "import numpy as np\n",
    "import pandas as pd\n",
    "import prettyplotlib as ppl\n",
    "from scipy.optimize import curve_fit\n",
    "from matplotlib import pyplot as plt\n",
    "from matplotlib import rc\n",
    "rc('font', **{'family': 'serif', 'serif': ['Computer Modern Roman'], 'size':14})\n",
    "rc('text', usetex=True)"
   ]
  },
  {
   "cell_type": "code",
   "execution_count": 5,
   "metadata": {
    "collapsed": true
   },
   "outputs": [],
   "source": [
    "df = pd.read_csv('final_data_files/uncrowded_everything_m4_clipped.csv')#_clipped.csv')\n",
    "dfab = df[df.type == 0]\n",
    "dfc = df[df.type == 1]"
   ]
  },
  {
   "cell_type": "code",
   "execution_count": 8,
   "metadata": {
    "collapsed": false
   },
   "outputs": [
    {
     "name": "stdout",
     "output_type": "stream",
     "text": [
      "(6, 22)\n",
      "(2, 22)\n"
     ]
    }
   ],
   "source": [
    "print dfab[np.isfinite(dfab.mag_3) & np.isnan(dfab.resid_m4_3) & np.isfinite(dfab.spectfeh)].shape\n",
    "print dfc[np.isfinite(dfc.mag_3) & np.isnan(dfc.resid_m4_3) & np.isfinite(dfc.spectfeh)].shape"
   ]
  },
  {
   "cell_type": "code",
   "execution_count": 10,
   "metadata": {
    "collapsed": false
   },
   "outputs": [
    {
     "name": "stdout",
     "output_type": "stream",
     "text": [
      "(3, 22)\n",
      "(2, 22)\n"
     ]
    }
   ],
   "source": [
    "print dfab[np.isfinite(dfab.mag_4) & np.isnan(dfab.resid_m4_4) & np.isfinite(dfab.spectfeh)].shape\n",
    "print dfc[np.isfinite(dfc.mag_4) & np.isnan(dfc.resid_m4_4) & np.isfinite(dfc.spectfeh)].shape"
   ]
  },
  {
   "cell_type": "code",
   "execution_count": 11,
   "metadata": {
    "collapsed": false
   },
   "outputs": [
    {
     "name": "stdout",
     "output_type": "stream",
     "text": [
      "(8, 22)\n",
      "(4, 22)\n"
     ]
    }
   ],
   "source": [
    "print dfab[np.isfinite(dfab.mag_3) & np.isnan(dfab.resid_m4_4) & np.isfinite(dfab.photfeh)].shape\n",
    "print dfc[np.isfinite(dfc.mag_3) & np.isnan(dfc.resid_m4_4) & np.isfinite(dfc.photfeh)].shape"
   ]
  },
  {
   "cell_type": "code",
   "execution_count": null,
   "metadata": {
    "collapsed": true
   },
   "outputs": [],
   "source": []
  }
 ],
 "metadata": {
  "kernelspec": {
   "display_name": "Python 2",
   "language": "python",
   "name": "python2"
  },
  "language_info": {
   "codemirror_mode": {
    "name": "ipython",
    "version": 2
   },
   "file_extension": ".py",
   "mimetype": "text/x-python",
   "name": "python",
   "nbconvert_exporter": "python",
   "pygments_lexer": "ipython2",
   "version": "2.7.11"
  }
 },
 "nbformat": 4,
 "nbformat_minor": 0
}
