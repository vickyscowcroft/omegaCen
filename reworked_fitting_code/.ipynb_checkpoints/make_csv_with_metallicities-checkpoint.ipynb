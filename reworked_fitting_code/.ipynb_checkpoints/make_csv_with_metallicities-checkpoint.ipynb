{
 "cells": [
  {
   "cell_type": "code",
   "execution_count": 1,
   "metadata": {
    "collapsed": true
   },
   "outputs": [],
   "source": [
    "import pandas as pd"
   ]
  },
  {
   "cell_type": "code",
   "execution_count": 2,
   "metadata": {
    "collapsed": false
   },
   "outputs": [],
   "source": [
    "#df_resid_theo = pd.read_csv('final_data_files/uncrowded_withresid.csv')\n",
    "df_resid = pd.read_csv('final_data_files/uncrowded_withresid_all_clipped.csv')"
   ]
  },
  {
   "cell_type": "code",
   "execution_count": 7,
   "metadata": {
    "collapsed": false
   },
   "outputs": [],
   "source": [
    "photfeh = pd.read_csv('final_data_files/rey_2000.cat', usecols=[0,2,3],\n",
    "                      names = ['id', 'photfeh', 'photfeh_err'],\n",
    "                      delim_whitespace=True, skiprows=1)"
   ]
  },
  {
   "cell_type": "code",
   "execution_count": null,
   "metadata": {
    "collapsed": false
   },
   "outputs": [],
   "source": [
    "df_with_feh = df_resid.merge(photfeh, how='outer', on='id')"
   ]
  },
  {
   "cell_type": "code",
   "execution_count": 9,
   "metadata": {
    "collapsed": true
   },
   "outputs": [],
   "source": [
    "spectfeh = pd.read_csv('final_data_files/sollima_2006.cat', usecols=[0,2,3],\n",
    "                      names = ['id', 'spectfeh', 'spectfeh_err'],\n",
    "                      delim_whitespace=True, skiprows=1)"
   ]
  },
  {
   "cell_type": "code",
   "execution_count": null,
   "metadata": {
    "collapsed": true
   },
   "outputs": [],
   "source": [
    "df_with_feh = df_with_feh.merge(spectfeh, how='outer', on='id')"
   ]
  },
  {
   "cell_type": "code",
   "execution_count": null,
   "metadata": {
    "collapsed": false
   },
   "outputs": [],
   "source": [
    "cols = list(df_with_feh.columns.values)\n",
    "print cols"
   ]
  },
  {
   "cell_type": "code",
   "execution_count": null,
   "metadata": {
    "collapsed": true
   },
   "outputs": [],
   "source": [
    "cols_reordered = ['id', 'type', 'per', 'mag_j', 'merr_j', 'mag_h', 'merr_h',\n",
    "                  'mag_k', 'merr_k', 'mag_3', 'merr_3', 'mag_4', 'merr_4',\n",
    "                  'resid_m4_j', 'resid_m4_h', 'resid_m4_k', 'resid_m4_3',\n",
    "                  'resid_m4_4', 'resid_all_j', 'resid_all_h', 'resid_all_k', 'resid_all_3',\n",
    "                  'resid_all_4', 'photfeh', 'photfeh_err', 'spectfeh', 'spectfeh_err']"
   ]
  },
  {
   "cell_type": "code",
   "execution_count": null,
   "metadata": {
    "collapsed": false
   },
   "outputs": [],
   "source": [
    "df = df_with_feh[cols_reordered].sort('id')"
   ]
  },
  {
   "cell_type": "code",
   "execution_count": null,
   "metadata": {
    "collapsed": false
   },
   "outputs": [],
   "source": [
    "df.columns.values"
   ]
  },
  {
   "cell_type": "code",
   "execution_count": null,
   "metadata": {
    "collapsed": false
   },
   "outputs": [],
   "source": [
    "df.to_csv('final_data_files/uncrowded_everything_all_clipped.csv', index=False)"
   ]
  },
  {
   "cell_type": "code",
   "execution_count": null,
   "metadata": {
    "collapsed": true
   },
   "outputs": [],
   "source": []
  },
  {
   "cell_type": "code",
   "execution_count": null,
   "metadata": {
    "collapsed": true
   },
   "outputs": [],
   "source": []
  }
 ],
 "metadata": {
  "kernelspec": {
   "display_name": "Python 2",
   "language": "python",
   "name": "python2"
  },
  "language_info": {
   "codemirror_mode": {
    "name": "ipython",
    "version": 2
   },
   "file_extension": ".py",
   "mimetype": "text/x-python",
   "name": "python",
   "nbconvert_exporter": "python",
   "pygments_lexer": "ipython2",
   "version": "2.7.11"
  }
 },
 "nbformat": 4,
 "nbformat_minor": 0
}
