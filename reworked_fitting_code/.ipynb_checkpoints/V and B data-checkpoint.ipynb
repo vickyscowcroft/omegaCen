{
 "cells": [
  {
   "cell_type": "code",
   "execution_count": 1,
   "metadata": {
    "collapsed": true
   },
   "outputs": [],
   "source": [
    "import glob\n",
    "import pandas as pd\n",
    "import numpy as np\n",
    "# 2 = Kaluzny Vband   3 = Kaluzny Bband"
   ]
  },
  {
   "cell_type": "code",
   "execution_count": 14,
   "metadata": {
    "collapsed": false
   },
   "outputs": [],
   "source": [
    "df = pd.read_csv('final_data_files/uncrowded_photometry.csv')#_clipped.csv'\n",
    "#df_good = df[np.isfinite(df.resid_m4_3)]\n",
    "#ids = df_good.id\n",
    "df['mag_v'] = np.empty(len(df.id))\n",
    "df['merr_v'] = np.empty(len(df.id))\n",
    "df['mag_b'] = np.empty(len(df.id))\n",
    "df['merr_b'] = np.empty(len(df.id))"
   ]
  },
  {
   "cell_type": "code",
   "execution_count": 24,
   "metadata": {
    "collapsed": false
   },
   "outputs": [],
   "source": [
    "for i in glob.glob('Omega_Cen_phot/*.txt'):\n",
    "    df1 = pd.read_csv(i, delim_whitespace=True, names=['mjd','mag','merr','band','uh'])\n",
    "    starid = int(i.split('/')[-1].split('.')[0])\n",
    "    v = df1[df1.band == 2]\n",
    "    b = df1[df1.band == 3]\n",
    "    vflux = np.mean(10**(v.mag / -2.5))\n",
    "    vmag = -2.5 * np.log10(vflux)\n",
    "    bflux = np.mean(10**(b.mag / -2.5))\n",
    "    bmag = -2.5 * np.log10(bflux)\n",
    "    verrsq = v.merr**2\n",
    "    berrsq = b.merr**2\n",
    "    verr = verrsq.sum() / np.sqrt(len(v.merr))\n",
    "    berr = berrsq.sum() / np.sqrt(len(b.merr))\n",
    "    if verr == 0:\n",
    "        verr = np.nan\n",
    "    if berr == 0:\n",
    "        berr = np.nan\n",
    "    df.mag_v[df.id == starid] = vmag\n",
    "    df.mag_b[df.id == starid] = bmag\n",
    "    df.merr_v[df.id == starid] = verr\n",
    "    df.merr_b[df.id == starid] = berr"
   ]
  },
  {
   "cell_type": "code",
   "execution_count": 27,
   "metadata": {
    "collapsed": false
   },
   "outputs": [
    {
     "data": {
      "text/plain": [
       "0     0.007766\n",
       "1     0.008550\n",
       "2     0.013028\n",
       "3          NaN\n",
       "4     0.015851\n",
       "5     0.012443\n",
       "6     0.010148\n",
       "7     0.008911\n",
       "8     0.008068\n",
       "9     0.012808\n",
       "10    0.014180\n",
       "11    0.014958\n",
       "12    0.012007\n",
       "13    0.011251\n",
       "14    0.009287\n",
       "...\n",
       "85    0.011228\n",
       "86    0.015319\n",
       "87         NaN\n",
       "88    0.011009\n",
       "89    0.020038\n",
       "90    0.012686\n",
       "91    0.012823\n",
       "92    0.009092\n",
       "93         NaN\n",
       "94    0.013010\n",
       "95    0.009351\n",
       "96    0.009229\n",
       "97         NaN\n",
       "98         NaN\n",
       "99         NaN\n",
       "Name: merr_v, Length: 100, dtype: float64"
      ]
     },
     "execution_count": 27,
     "metadata": {},
     "output_type": "execute_result"
    }
   ],
   "source": [
    "df.merr_v"
   ]
  },
  {
   "cell_type": "code",
   "execution_count": null,
   "metadata": {
    "collapsed": true
   },
   "outputs": [],
   "source": []
  }
 ],
 "metadata": {
  "kernelspec": {
   "display_name": "Python 2",
   "language": "python",
   "name": "python2"
  },
  "language_info": {
   "codemirror_mode": {
    "name": "ipython",
    "version": 2
   },
   "file_extension": ".py",
   "mimetype": "text/x-python",
   "name": "python",
   "nbconvert_exporter": "python",
   "pygments_lexer": "ipython2",
   "version": "2.7.5"
  }
 },
 "nbformat": 4,
 "nbformat_minor": 0
}
