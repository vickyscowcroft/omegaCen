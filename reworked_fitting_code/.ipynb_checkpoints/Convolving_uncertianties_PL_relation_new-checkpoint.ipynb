{
 "cells": [
  {
   "cell_type": "code",
   "execution_count": 1,
   "metadata": {
    "collapsed": false
   },
   "outputs": [],
   "source": [
    "%matplotlib inline\n",
    "%config InlineBackend.figure_format='retina'\n",
    "import brewer2mpl\n",
    "from cycler import cycler\n",
    "import matplotlib.pyplot as plt\n",
    "import pandas as pd\n",
    "import prettyplotlib as ppl\n",
    "import numpy as np\n",
    "import scipy.stats as stats\n",
    "import scipy\n",
    "from scipy import signal\n",
    "from scipy.optimize import curve_fit\n",
    "from sklearn.neighbors import KernelDensity\n",
    "from sklearn.grid_search import GridSearchCV\n",
    "from matplotlib import rc\n",
    "set2 = brewer2mpl.get_map('Dark2', 'qualitative', 8).mpl_colors\n",
    "rc('font', **{'family': 'serif', 'serif': ['Computer Modern Roman'], 'size':14})\n",
    "rc('text', usetex=True)\n",
    "rc('lines', linewidth=2)\n",
    "rc('axes', prop_cycle=cycler('color', set2))"
   ]
  },
  {
   "cell_type": "code",
   "execution_count": 2,
   "metadata": {
    "collapsed": true
   },
   "outputs": [],
   "source": [
    "def get_pseudo_pdf(big_grid, data, bmin=0.01, bmax=0.2, normed = False):\n",
    "    grid = GridSearchCV(KernelDensity(),\n",
    "                        {'bandwidth': np.linspace(bmin, bmax, 100)},\n",
    "                        cv=len(data) - 1)\n",
    "    grid.fit(data[:,None])\n",
    "\n",
    "    kde = grid.best_estimator_\n",
    "    pseudo_pdf = np.exp(kde.score_samples(big_grid[:, None]))\n",
    "    \n",
    "    if normed:\n",
    "        pseudo_pdf /= sum(pseudo_pdf)\n",
    "    return pseudo_pdf, kde"
   ]
  },
  {
   "cell_type": "code",
   "execution_count": 15,
   "metadata": {
    "collapsed": false
   },
   "outputs": [
    {
     "name": "stdout",
     "output_type": "stream",
     "text": [
      "Number of metallicity values: 74\n"
     ]
    }
   ],
   "source": [
    "df = pd.read_csv('final_data_files/uncrowded_everything_m4_clipped.csv')\n",
    "df_ab = df[df.type == 0]\n",
    "df_c = df[df.type == 1]\n",
    "\n",
    "df1 = df_ab\n",
    "if df1.type.any() == 0:\n",
    "    dftype = 'ab'\n",
    "else:\n",
    "    dftype = 'c'\n",
    "    \n",
    "filt = '4'\n",
    "\n",
    "resid_finite = np.isfinite(df1.resid_m4_3.values)\n",
    "resid3 = df1['resid_m4_' + filt].values[resid_finite]\n",
    "merr3 = df1['merr_' + filt].values[resid_finite]\n",
    "\n",
    "spect_finite = np.isfinite(df.spectfeh.values)\n",
    "spectfeh = df.spectfeh.values[spect_finite]\n",
    "print 'Number of metallicity values:', len(spectfeh)\n",
    "meanfeh = spectfeh.mean()\n",
    "spectfeh -= meanfeh\n",
    "\n",
    "spect_finite_2 = np.isfinite(df1.spectfeh.values)\n",
    "\n",
    "spect_resid = df1.spectfeh.values[spect_finite_2 & resid_finite]\n",
    "mean_feh_resid = spect_resid.mean()\n",
    "spect_resid -= mean_feh_resid\n",
    "\n",
    "delta = 1e-4\n",
    "big_grid = np.arange(-1,1,delta)"
   ]
  },
  {
   "cell_type": "code",
   "execution_count": null,
   "metadata": {
    "collapsed": false
   },
   "outputs": [],
   "source": [
    "# get the not-actually-pdfs for the residuals and metallicity\n",
    "\n",
    "obs_pdf, obs_kde = get_pseudo_pdf(big_grid, resid3)\n",
    "feh_pdf, feh_kde = get_pseudo_pdf(big_grid, spectfeh)\n",
    "feh_pdf_trim, feh_kde_trim = get_pseudo_pdf(big_grid, spect_resid)\n",
    "errscale = np.median(merr3)\n",
    "\n",
    "meanfeh_diff = meanfeh - mean_feh_resid"
   ]
  },
  {
   "cell_type": "code",
   "execution_count": null,
   "metadata": {
    "collapsed": false
   },
   "outputs": [],
   "source": [
    "print errscale"
   ]
  },
  {
   "cell_type": "code",
   "execution_count": null,
   "metadata": {
    "collapsed": false
   },
   "outputs": [],
   "source": [
    "histbins = np.linspace(spectfeh.min(), spectfeh.max(), len(spectfeh) / 2.)\n",
    "\n",
    "fig, ax = plt.subplots()\n",
    "ax2 = ax.twinx()\n",
    "ppl.plot(ax2, big_grid, feh_pdf/sum(feh_pdf), color=set2[0], alpha=0.8,\n",
    "         linewidth=2, label='All [Fe/H]')\n",
    "n,b,p=ax.hist(spectfeh, histbins, fc=set2[0], histtype='stepfilled', alpha=0.5)\n",
    "ppl.plot(ax,[],[])\n",
    "ax2.plot(big_grid - meanfeh_diff, feh_pdf_trim/sum(feh_pdf_trim), color=set2[1], \n",
    "        alpha=0.8, label='In sample')\n",
    "ax.hist(spect_resid - meanfeh_diff, histbins, fc=set2[1], histtype='stepfilled', alpha=0.5)\n",
    "ppl.legend(loc='best', prop={'size':14})\n",
    "ax.set_xlabel('Deviation from mean [Fe/H] (dex)')\n",
    "ax.set_ylabel('Number of RRL')\n",
    "ax2.set_ylabel('Probability')\n",
    "ax2.set_ylim(0, 12 / sum(feh_pdf))\n",
    "#plt.vlines(0,0,10,'k',linestyle='--',linewidth=0.75)\n",
    "plt.xlim(-0.8,0.85)\n",
    "fig.tight_layout()\n",
    "fig.savefig('final_plots/feh_distribution_{}_{}.pdf'.format(dftype, filt))\n"
   ]
  },
  {
   "cell_type": "code",
   "execution_count": null,
   "metadata": {
    "collapsed": false
   },
   "outputs": [],
   "source": [
    "full_width_of_PL = np.sqrt(12.)*0.035\n",
    "center_of_PL = -full_width_of_PL / 2\n",
    "intrinsic = stats.uniform(loc=center_of_PL,scale=full_width_of_PL)\n",
    "photometric = stats.norm(loc=0,scale=errscale)\n",
    "\n",
    "## Setting up the PDFs and PMFs for the components\n",
    "pmf_o = obs_pdf*delta\n",
    "pmf_i = intrinsic.pdf(big_grid)*delta\n",
    "pmf_p = photometric.pdf(big_grid)*delta\n",
    "\n",
    "#convolve \n",
    "conv_pmf = scipy.signal.fftconvolve(pmf_i,pmf_p,'same')\n",
    "conv_pmf = conv_pmf/sum(conv_pmf)\n",
    "\n",
    "fig = plt.figure()\n",
    "ppl.plot(big_grid,pmf_i, label='Intrinsic PL', linewidth=2, alpha=0.8)\n",
    "plt.plot(big_grid,pmf_p, label='Median phot $\\sigma$', alpha=0.8)\n",
    "plt.plot(big_grid,pmf_o, label='Observed PL', alpha=0.8)\n",
    "plt.plot(big_grid,conv_pmf, label='Intrinsic + phot', alpha=0.8)\n",
    "ppl.legend(prop={'size':14})\n",
    "#plt.suptitle('Observed PL relation and known components')\n",
    "plt.ylim(-0.00002,0.001)\n",
    "plt.xlim(-0.45,0.55)\n",
    "plt.xlabel('Deviation from PL (mag)')\n",
    "plt.ylabel('Probability')\n",
    "fig.tight_layout()\n",
    "fig.savefig('final_plots/distributions_nofeh_{}_{}.pdf'.format(dftype, filt))"
   ]
  },
  {
   "cell_type": "code",
   "execution_count": null,
   "metadata": {
    "collapsed": true
   },
   "outputs": [],
   "source": [
    "# so we divide big_grid by a scale factor to force the metallicity distribution\n",
    "# to fit within the observed distribution\n",
    "# this is essentially the same as changing the width of a gaussian\n",
    "# i really can't explain rigorously why this works but it does\n",
    "\n",
    "# this gets the pseudo-pdf for the rescaled metallicity distribution\n",
    "\n",
    "def get_pmf_m(big_grid, scale):\n",
    "    big_grid_scaled = big_grid/scale\n",
    "    resampled_pdf_feh = np.exp(feh_kde.score_samples(big_grid_scaled[:, None]))\n",
    "    pmf_m = resampled_pdf_feh / sum(resampled_pdf_feh)\n",
    "    return pmf_m"
   ]
  },
  {
   "cell_type": "code",
   "execution_count": null,
   "metadata": {
    "collapsed": true
   },
   "outputs": [],
   "source": [
    "# this convolves the metallicity distribution with the previous convolution\n",
    "# of the intrinsic distribution and photometric errors\n",
    "\n",
    "def get_convolved_m(big_grid, scale):\n",
    "    pmf_m = get_pmf_m(big_grid, scale)\n",
    "    metallicity_convolved = scipy.signal.fftconvolve(conv_pmf, pmf_m, 'same')\n",
    "    metallicity_convolved = metallicity_convolved/sum(metallicity_convolved)\n",
    "    return metallicity_convolved"
   ]
  },
  {
   "cell_type": "code",
   "execution_count": null,
   "metadata": {
    "collapsed": false
   },
   "outputs": [],
   "source": [
    "# this may be the worst fitting a thing to a thing I have ever done\n",
    "# optimize the scale factor on this shit\n",
    "\n",
    "popt, pcov = curve_fit(get_convolved_m, big_grid, pmf_o, p0 = 0.5)\n",
    "print popt, pcov"
   ]
  },
  {
   "cell_type": "code",
   "execution_count": null,
   "metadata": {
    "collapsed": false
   },
   "outputs": [],
   "source": [
    "pmf_m = get_pmf_m(big_grid, popt[0])\n",
    "metallicity_convolved = get_convolved_m(big_grid, popt[0])"
   ]
  },
  {
   "cell_type": "code",
   "execution_count": null,
   "metadata": {
    "collapsed": false
   },
   "outputs": [],
   "source": [
    "fig, (ax1, ax2) = plt.subplots(2,1,figsize=(6,6.5), sharex=True)\n",
    "\n",
    "ppl.plot(ax1, big_grid,pmf_i, label='Intrinsic PL', linewidth=2, alpha=0.8)\n",
    "ax1.plot(big_grid,pmf_p, label='Median phot $\\sigma$', alpha=0.8)\n",
    "ax1.plot(big_grid,pmf_o, label='Observed PL', alpha=0.8)\n",
    "ax1.plot(big_grid,conv_pmf, alpha=0.)\n",
    "ax1.plot(big_grid,pmf_m, label=\"Scaled [Fe/H] dist\", alpha=0.8)\n",
    "ax1.plot(big_grid,metallicity_convolved, label=\"Best model\", linestyle='--', color=set2[6], alpha=0.8)\n",
    "\n",
    "ppl.plot(ax2, big_grid, pmf_o, label='Observed PL', color=set2[2], linewidth=2, alpha=0.8)\n",
    "ax2.plot(big_grid,metallicity_convolved, label=\"Best model\", linestyle='--', color=set2[6], alpha=0.8)\n",
    "\n",
    "ax2.set_xlabel('Deviation from PL (mag)')\n",
    "ax1.set_ylabel('Probability')\n",
    "ax2.set_ylabel('Probability')\n",
    "\n",
    "#title_text = 'Best fit metallicity model, scale factor = {:.3f}'.format(popt[0])\n",
    "ppl.legend(ax1, loc='best', prop={'size':14})\n",
    "ppl.legend(ax2, loc='best', prop={'size':14})\n",
    "#plt.suptitle(title_text)\n",
    "ax1.set_xlim(-0.45,0.55)\n",
    "ylim = np.array([-0.00001, 0.001])\n",
    "ax1.set_ylim(ylim)\n",
    "ax2.set_ylim(ylim * 0.41)\n",
    "fig.tight_layout()\n",
    "fig.savefig('final_plots/distributions_{}_{}.pdf'.format(dftype, filt))"
   ]
  },
  {
   "cell_type": "code",
   "execution_count": null,
   "metadata": {
    "collapsed": false
   },
   "outputs": [],
   "source": [
    "from IPython.display import Image\n",
    "from IPython.display import display\n",
    "display(Image(url='http://i.imgur.com/vLYLQ.gif'))"
   ]
  },
  {
   "cell_type": "code",
   "execution_count": null,
   "metadata": {
    "collapsed": true
   },
   "outputs": [],
   "source": [
    "# soooooooooooooo what does this...mean\n",
    "# how do we quantify \"the metallicity contributes x to the scatter\" from here"
   ]
  },
  {
   "cell_type": "code",
   "execution_count": null,
   "metadata": {
    "collapsed": true
   },
   "outputs": [],
   "source": []
  },
  {
   "cell_type": "code",
   "execution_count": null,
   "metadata": {
    "collapsed": true
   },
   "outputs": [],
   "source": []
  },
  {
   "cell_type": "code",
   "execution_count": null,
   "metadata": {
    "collapsed": true
   },
   "outputs": [],
   "source": []
  },
  {
   "cell_type": "code",
   "execution_count": null,
   "metadata": {
    "collapsed": true
   },
   "outputs": [],
   "source": []
  }
 ],
 "metadata": {
  "kernelspec": {
   "display_name": "Python 2",
   "language": "python",
   "name": "python2"
  },
  "language_info": {
   "codemirror_mode": {
    "name": "ipython",
    "version": 2
   },
   "file_extension": ".py",
   "mimetype": "text/x-python",
   "name": "python",
   "nbconvert_exporter": "python",
   "pygments_lexer": "ipython2",
   "version": "2.7.11"
  }
 },
 "nbformat": 4,
 "nbformat_minor": 0
}
