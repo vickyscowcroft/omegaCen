{
 "cells": [
  {
   "cell_type": "code",
   "execution_count": 1,
   "metadata": {
    "collapsed": true
   },
   "outputs": [],
   "source": [
    "%matplotlib inline\n",
    "import pandas as pd\n",
    "import numpy as np\n",
    "import matplotlib.pyplot as plt"
   ]
  },
  {
   "cell_type": "code",
   "execution_count": 4,
   "metadata": {
    "collapsed": false
   },
   "outputs": [
    {
     "name": "stdout",
     "output_type": "stream",
     "text": [
      "j 0.127\n",
      "j 0.082\n",
      "h 0.170\n",
      "h 0.107\n",
      "k 0.147\n",
      "k 0.089\n",
      "3 0.124\n",
      "3 0.096\n",
      "4 0.154\n",
      "4 0.219\n"
     ]
    }
   ],
   "source": [
    "df = pd.read_csv('final_data_files/uncrowded_everything_all_clipped.csv')\n",
    "df_ab = df[df.type == 0]\n",
    "df_c = df[df.type == 1]\n",
    "\n",
    "dfs = [df_ab, df_c] * 10\n",
    "filts = ['j', 'j', 'h', 'h', 'k', 'k', '3', '3', '4', '4']\n",
    "\n",
    "for i in range(10):\n",
    "    df1 = dfs[i]\n",
    "    filt = filts[i]\n",
    "    print filt, '{:.3f}'.format(np.nanstd(df1['resid_all_' + filt]))"
   ]
  },
  {
   "cell_type": "code",
   "execution_count": null,
   "metadata": {
    "collapsed": true
   },
   "outputs": [],
   "source": []
  }
 ],
 "metadata": {
  "kernelspec": {
   "display_name": "Python 2",
   "language": "python",
   "name": "python2"
  },
  "language_info": {
   "codemirror_mode": {
    "name": "ipython",
    "version": 2
   },
   "file_extension": ".py",
   "mimetype": "text/x-python",
   "name": "python",
   "nbconvert_exporter": "python",
   "pygments_lexer": "ipython2",
   "version": "2.7.11"
  }
 },
 "nbformat": 4,
 "nbformat_minor": 0
}
