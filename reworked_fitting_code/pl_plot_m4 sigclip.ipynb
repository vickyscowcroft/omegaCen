{
 "cells": [
  {
   "cell_type": "code",
   "execution_count": 1,
   "metadata": {
    "collapsed": false
   },
   "outputs": [
    {
     "name": "stderr",
     "output_type": "stream",
     "text": [
      "/Users/Meredith/anaconda2/lib/python2.7/site-packages/matplotlib/font_manager.py:273: UserWarning: Matplotlib is building the font cache using fc-list. This may take a moment.\n",
      "  warnings.warn('Matplotlib is building the font cache using fc-list. This may take a moment.')\n"
     ]
    }
   ],
   "source": [
    "%matplotlib inline\n",
    "%config InlineBackend.figure_format='retina'\n",
    "import numpy as np\n",
    "import pandas as pd\n",
    "import prettyplotlib as ppl\n",
    "from pls_m4 import *\n",
    "from scipy.optimize import curve_fit\n",
    "from matplotlib import pyplot as plt\n",
    "from matplotlib import rc\n",
    "rc('font', **{'family': 'serif', 'serif': ['Computer Modern Roman'], 'size':14})\n",
    "rc('text', usetex=True)"
   ]
  },
  {
   "cell_type": "code",
   "execution_count": 2,
   "metadata": {
    "collapsed": false
   },
   "outputs": [],
   "source": [
    "df_orig = pd.read_csv('final_data_files/uncrowded_photometry.csv')\n",
    "df_orig.mag_4[df_orig.id==122] = -2.5*np.log10(np.mean(10**(df_orig.mag_4[df_orig.id==122] / -2.5)))\n",
    "df_orig.merr_4[df_orig.id==122] = np.mean(df_orig.merr_4[df_orig.id==122]) / np.sqrt(2)\n",
    "df_orig = df_orig.drop_duplicates()"
   ]
  },
  {
   "cell_type": "code",
   "execution_count": 3,
   "metadata": {
    "collapsed": false
   },
   "outputs": [
    {
     "name": "stdout",
     "output_type": "stream",
     "text": [
      "j 96\n",
      "h 96\n",
      "k 98\n",
      "3 36\n",
      "4 42\n"
     ]
    }
   ],
   "source": [
    "for label in ['j', 'h', 'k', '3', '4']:\n",
    "    print label, len(df_orig['mag_{}'.format(label)][np.isfinite(df_orig['mag_{}'.format(label)])])"
   ]
  },
  {
   "cell_type": "code",
   "execution_count": 4,
   "metadata": {
    "collapsed": false
   },
   "outputs": [],
   "source": [
    "bad_ids = [103, 107]#, 40, 169]#, 169] #120, , 357\n",
    "df_bad = df_orig[df_orig.id.isin(bad_ids)]\n",
    "df_bad_ab = df_bad[df_bad.type == 0]\n",
    "df_bad_c = df_bad[df_bad.type == 1]\n",
    "\n",
    "df = df_orig[~df_orig.id.isin(bad_ids)]"
   ]
  },
  {
   "cell_type": "code",
   "execution_count": null,
   "metadata": {
    "collapsed": false
   },
   "outputs": [],
   "source": [
    "# things for plotting loop\n",
    "funcs = [j_ab, j_c, h_ab, h_c, k_ab, k_c, t_ab, t_c, f_ab, f_c]\n",
    "band_labels = ['j', 'h', 'k', '3', '4']\n",
    "band_names = ['J', 'H', 'K_s', '[3.6]', '[4.5]']\n",
    "cmap = plt.cm.get_cmap('gist_rainbow')\n",
    "plot_colors = list(reversed([cmap(i) for i in np.linspace(0,1,len(band_labels))]))\n",
    "mag_offset = [8, 6, 4, 2, 0]\n",
    "wavelength = [1.220, 1.630, 2.190, 3.550, 4.493]"
   ]
  },
  {
   "cell_type": "code",
   "execution_count": null,
   "metadata": {
    "collapsed": false
   },
   "outputs": [],
   "source": [
    "print feh_ab, feh_c"
   ]
  },
  {
   "cell_type": "code",
   "execution_count": null,
   "metadata": {
    "collapsed": false
   },
   "outputs": [],
   "source": [
    "# select only the rows with photometry for all bands\n",
    "df1 = df[(np.isfinite(df.mag_j)) & (np.isfinite(df.mag_h)) & (np.isfinite(df.mag_k)) &\n",
    "        (np.isfinite(df.mag_3)) & (np.isfinite(df.mag_4))]"
   ]
  },
  {
   "cell_type": "code",
   "execution_count": null,
   "metadata": {
    "collapsed": false
   },
   "outputs": [],
   "source": [
    "fig = plt.figure(figsize=(7,8))\n",
    "ax = fig.add_subplot(1,1,1)\n",
    "ax.set_ylim(14.9, 4.1)\n",
    "ax.set_xlim(-0.71, 0.13)\n",
    "\n",
    "# separate full and cut sample dataframes into abs and cs\n",
    "df_ab = df[df.type == 0]\n",
    "df_c = df[df.type == 1]\n",
    "\n",
    "df1_ab = df1[df1.type == 0]\n",
    "df1_c = df1[df1.type == 1]\n",
    "\n",
    "dmod_prior = 14.\n",
    "feh = -1.56749344383\n",
    "\n",
    "per_ab = np.log10(df1_ab.per)\n",
    "per_c = np.log10(df1_c.per)\n",
    "xspace_ab = np.linspace(np.min(per_ab) - 0.03, np.max(per_ab) + 0.03, 100)\n",
    "xspace_c = np.linspace(np.min(per_c) - 0.03, np.max(per_c) + 0.03, 100)\n",
    "\n",
    "distance_df = {}\n",
    "distance_df['wavelength'] = wavelength\n",
    "distance_df['dist_ab'] = []\n",
    "distance_df['dist_c'] = []\n",
    "distance_df['err_ab'] = []\n",
    "distance_df['err_c'] = []\n",
    "\n",
    "for i in range(5):\n",
    "    mag_ab = df1_ab['mag_' + band_labels[i]]\n",
    "    merr_ab = df1_ab['merr_' + band_labels[i]]\n",
    "    mag_c = df1_c['mag_' + band_labels[i]]\n",
    "    merr_c = df1_c['merr_' + band_labels[i]]\n",
    "    \n",
    "    # do the fitting\n",
    "    popt_ab, pcov_ab = curve_fit(funcs[i*2], per_ab, mag_ab, p0 = dmod_prior)\n",
    "    popt_c, pcov_c = curve_fit(funcs[i*2 + 1], per_c, mag_c, p0 = dmod_prior)\n",
    "    dist_ab, err_ab = popt_ab[0], np.sqrt(np.diag(pcov_ab))[0]\n",
    "    dist_c, err_c = popt_c[0], np.sqrt(np.diag(pcov_c))[0]\n",
    "    \n",
    "    distance_df['dist_ab'].append(dist_ab)\n",
    "    distance_df['err_ab'].append(err_ab)\n",
    "    distance_df['dist_c'].append(dist_c)\n",
    "    distance_df['err_c'].append(err_c)\n",
    "    \n",
    "    # fit lines for plotting + get residuals\n",
    "    linfit_ab = funcs[i*2](xspace_ab, dist_ab)\n",
    "    resid_ab = funcs[i*2](per_ab, dist_ab) - mag_ab\n",
    "    linfit_c = funcs[i*2 + 1](xspace_c, dist_c)\n",
    "    resid_c = funcs[i*2 + 1](per_c, dist_c) - mag_c\n",
    "    \n",
    "    df1_ab['resid_m4_' + band_labels[i]] = resid_ab\n",
    "    df1_c['resid_m4_' + band_labels[i]] = resid_c\n",
    "\n",
    "    print band_names[i], 'ab', dist_ab, err_ab, 'c', dist_c, err_c\n",
    "    \n",
    "    # plot full sample in grey\n",
    "    plt.errorbar(np.log10(df_ab.per), df_ab['mag_' + band_labels[i]] - mag_offset[i],\n",
    "                 yerr=df_ab['merr_' + band_labels[i]].values, fmt='o', color='#AAAAAA',\n",
    "                 mec='#AAAAAA', zorder=-1)\n",
    "    plt.errorbar(np.log10(df_c.per), df_c['mag_' + band_labels[i]] - mag_offset[i],\n",
    "                 yerr=df_c['merr_' + band_labels[i]].values, fmt='^', color='#AAAAAA',\n",
    "                 mec='#AAAAAA', zorder=-1)\n",
    "\n",
    "    #err_wtf = df_bad_ab['merr_' + band_labels[i]].values\n",
    "                     \n",
    "    plt.errorbar(np.log10(df_bad_ab.per), df_bad_ab['mag_' + band_labels[i]] - mag_offset[i],\n",
    "                 yerr=df_bad_ab['merr_' + band_labels[i]].values, fmt='o', color='k',\n",
    "                 mfc='w', zorder=10)\n",
    "    plt.errorbar(np.log10(df_bad_c.per), df_bad_c['mag_' + band_labels[i]] - mag_offset[i],\n",
    "                 yerr=df_bad_c['merr_' + band_labels[i]].values, fmt='^', color='k',\n",
    "                 mfc='w', zorder=10)\n",
    "    \n",
    "\n",
    "    # plot cut sample in color\n",
    "    plt.errorbar(per_ab, mag_ab - mag_offset[i], yerr=merr_ab, fmt='o', color=plot_colors[i])\n",
    "    plt.errorbar(per_c.values, mag_c.values - mag_offset[i], yerr=merr_c.values, fmt='^', color=plot_colors[i])\n",
    "    \n",
    "    ppl.plot(xspace_ab, linfit_ab - mag_offset[i], 'k--', lw=1)\n",
    "    ppl.plot(xspace_c, linfit_c - mag_offset[i], 'k--', lw=1)\n",
    "    \n",
    "    # add labels\n",
    "    if mag_offset[i] == 0:\n",
    "        plt.text(ax.get_xlim()[1] - 0.02, np.median(mag_ab - mag_offset[i] + 0.2),\n",
    "                 '${}$'.format(band_names[i]), ha='right')\n",
    "    else:\n",
    "        plt.text(ax.get_xlim()[1] - 0.02, np.median(mag_ab - mag_offset[i] + 0.2),\n",
    "                 '${} - {}$'.format(band_names[i], mag_offset[i]), ha='right')\n",
    "\n",
    "ax.set_ylabel('Apparent magnitude')\n",
    "ax.set_xlabel(r'$\\log P$')\n",
    "fig.tight_layout()\n",
    "# fig.savefig('final_plots/multiwavelength_PL_m4_clipped.pdf')"
   ]
  },
  {
   "cell_type": "code",
   "execution_count": null,
   "metadata": {
    "collapsed": false
   },
   "outputs": [],
   "source": [
    "# make table of distances\n",
    "\n",
    "weight_ab = len(per_ab)/float(len(df1))\n",
    "weight_c = len(per_c)/float(len(df1))\n",
    "\n",
    "distance_df['dist_mean'] = np.asarray(distance_df['dist_ab']) * weight_ab + \\\n",
    "                           np.asarray(distance_df['dist_c']) * weight_c\n",
    "distance_df['err_mean'] = np.sqrt((np.asarray(distance_df['err_ab']) * weight_ab)**2 + \\\n",
    "                          (np.asarray(distance_df['err_c']) * weight_c)**2)\n",
    "distance_df = pd.DataFrame.from_dict(distance_df)\n",
    "distance_df = distance_df[['wavelength','dist_ab','err_ab','dist_c','err_c','dist_mean','err_mean']]\n",
    "distance_df.to_csv('final_data_files/dist_spect_m4_clipped.csv', index=False)"
   ]
  },
  {
   "cell_type": "code",
   "execution_count": null,
   "metadata": {
    "collapsed": false
   },
   "outputs": [],
   "source": [
    "# incorporate residuals into full table and save\n",
    "\n",
    "df1_withresid = pd.concat([df1_ab, df1_c])\n",
    "df_withresid = df_orig.merge(df1_withresid, how='outer', on=list(set(df.keys()) & set(df1_withresid.keys())))\n",
    "df_withresid.sort('id', inplace=True)\n",
    "df_withresid.to_csv('final_data_files/uncrowded_withresid_m4_clipped.csv', index=False)"
   ]
  },
  {
   "cell_type": "code",
   "execution_count": null,
   "metadata": {
    "collapsed": true
   },
   "outputs": [],
   "source": []
  },
  {
   "cell_type": "code",
   "execution_count": null,
   "metadata": {
    "collapsed": true
   },
   "outputs": [],
   "source": []
  }
 ],
 "metadata": {
  "kernelspec": {
   "display_name": "Python 2",
   "language": "python",
   "name": "python2"
  },
  "language_info": {
   "codemirror_mode": {
    "name": "ipython",
    "version": 2
   },
   "file_extension": ".py",
   "mimetype": "text/x-python",
   "name": "python",
   "nbconvert_exporter": "python",
   "pygments_lexer": "ipython2",
   "version": "2.7.11"
  }
 },
 "nbformat": 4,
 "nbformat_minor": 0
}
