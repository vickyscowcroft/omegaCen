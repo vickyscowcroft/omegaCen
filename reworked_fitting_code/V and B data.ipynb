{
 "cells": [
  {
   "cell_type": "code",
   "execution_count": 1,
   "metadata": {
    "collapsed": true
   },
   "outputs": [],
   "source": [
    "import glob\n",
    "import pandas as pd\n",
    "import numpy as np\n",
    "# 2 = Kaluzny Vband   3 = Kaluzny Bband"
   ]
  },
  {
   "cell_type": "code",
   "execution_count": 2,
   "metadata": {
    "collapsed": false
   },
   "outputs": [],
   "source": [
    "df = pd.read_csv('final_data_files/uncrowded_photometry.csv')#_clipped.csv'\n",
    "#df_good = df[np.isfinite(df.resid_m4_3)]\n",
    "#ids = df_good.id\n",
    "df['mag_v'] = np.empty(len(df.id))\n",
    "df['merr_v'] = np.empty(len(df.id))\n",
    "df['mag_b'] = np.empty(len(df.id))\n",
    "df['merr_b'] = np.empty(len(df.id))"
   ]
  },
  {
   "cell_type": "code",
   "execution_count": 3,
   "metadata": {
    "collapsed": false
   },
   "outputs": [
    {
     "name": "stdout",
     "output_type": "stream",
     "text": [
      "['id', 'mag_j', 'merr_j', 'type', 'per', 'mag_h', 'merr_h', 'mag_k', 'merr_k', 'mag_3', 'merr_3', 'mag_4', 'merr_4', 'mag_v', 'merr_v', 'mag_b', 'merr_b']\n"
     ]
    }
   ],
   "source": [
    "dfcols = list(df.columns.values)\n",
    "print dfcols"
   ]
  },
  {
   "cell_type": "code",
   "execution_count": 4,
   "metadata": {
    "collapsed": true
   },
   "outputs": [],
   "source": [
    "kdf = pd.read_csv('Kaluzny2004rrl.txt', delim_whitespace=True)"
   ]
  },
  {
   "cell_type": "code",
   "execution_count": 7,
   "metadata": {
    "collapsed": false
   },
   "outputs": [],
   "source": [
    "for i in glob.glob('Omega_Cen_phot/*.txt'):\n",
    "    df1 = pd.read_csv(i, delim_whitespace=True, names=['mjd','mag','merr','band','uh'])\n",
    "    starid = int(i.split('/')[-1].split('.')[0])\n",
    "    v = df1[df1.band == 2]\n",
    "    b = df1[df1.band == 3]\n",
    "    vflux = np.mean(10**(v.mag / -2.5))\n",
    "    vmag = -2.5 * np.log10(vflux)\n",
    "    bflux = np.mean(10**(b.mag / -2.5))\n",
    "    bmag = -2.5 * np.log10(bflux)\n",
    "    verrsq = v.merr**2\n",
    "    berrsq = b.merr**2\n",
    "    verr = np.sqrt(verrsq.sum()) / np.sqrt(len(v.merr))\n",
    "    berr = np.sqrt(berrsq.sum()) / np.sqrt(len(b.merr))\n",
    "    if vmag == 0:\n",
    "        vmag = np.nan\n",
    "    if bmag == 0:\n",
    "        bmag = np.nan\n",
    "    if verr == 0:\n",
    "        verr = np.nan\n",
    "    if berr == 0:\n",
    "        berr = np.nan\n",
    "    if len(df.id[df.id == starid]) == 0:\n",
    "        kdf_id = kdf[kdf.id == starid]\n",
    "        newdf = pd.DataFrame(data=np.zeros((1,17)) + 99.99, columns=dfcols)\n",
    "        newdf.id = starid\n",
    "        newdf.per = float(kdf_id.per.values[0])\n",
    "        newdf.type = float(kdf_id.type.values[0])\n",
    "        newdf.mag_v = vmag\n",
    "        newdf.mag_b = bmag\n",
    "        newdf.merr_v = verr\n",
    "        newdf.merr_b = berr\n",
    "        newdf[newdf == 99.99] = np.nan\n",
    "        df = df.append(newdf, ignore_index=True)\n",
    "    else:\n",
    "        df.mag_v[df.id == starid] = vmag\n",
    "        df.mag_b[df.id == starid] = bmag\n",
    "        df.merr_v[df.id == starid] = verr\n",
    "        df.merr_b[df.id == starid] = berr"
   ]
  },
  {
   "cell_type": "code",
   "execution_count": 8,
   "metadata": {
    "collapsed": false
   },
   "outputs": [],
   "source": [
    "df.sort('id').to_csv('final_data_files/uncrowded_photometry_bv.csv', index=False)"
   ]
  },
  {
   "cell_type": "code",
   "execution_count": null,
   "metadata": {
    "collapsed": true
   },
   "outputs": [],
   "source": []
  }
 ],
 "metadata": {
  "kernelspec": {
   "display_name": "Python 2",
   "language": "python",
   "name": "python2"
  },
  "language_info": {
   "codemirror_mode": {
    "name": "ipython",
    "version": 2
   },
   "file_extension": ".py",
   "mimetype": "text/x-python",
   "name": "python",
   "nbconvert_exporter": "python",
   "pygments_lexer": "ipython2",
   "version": "2.7.5"
  }
 },
 "nbformat": 4,
 "nbformat_minor": 0
}
