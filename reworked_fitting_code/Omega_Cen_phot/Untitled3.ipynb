{
 "metadata": {
  "name": "",
  "signature": "sha256:d8400e138e07ba1dfc0d4fbf5b637193c1994143c899d1030a8af9a1b374d43f"
 },
 "nbformat": 3,
 "nbformat_minor": 0,
 "worksheets": [
  {
   "cells": [
    {
     "cell_type": "code",
     "collapsed": false,
     "input": [
      "#2 = Kaluzny Vband   3 = Kaluzny Bband -1 = Fourstar H    -2 = Fourstar Ks  -5 = Fourstar J\n",
      "fuckindata = []\n",
      "import numpy as np\n",
      "import glob\n",
      "for filename in glob.glob('*.txt'):\n",
      "    k_v = []\n",
      "    k_b = []\n",
      "    f_h = []\n",
      "    f_k = []\n",
      "    f_j = []\n",
      "    f = open(filename)\n",
      "    data = np.genfromtxt(f)\n",
      "    for i in data:\n",
      "        if i[3] == 2:\n",
      "            k_v.append(i)\n",
      "        if i[3] == 3:\n",
      "            k_b.append(i)\n",
      "        if i[3] == -1:\n",
      "            f_h.append(i)\n",
      "        if i[3] == -2:\n",
      "            f_k.append(i)\n",
      "        if i[3] == -5:\n",
      "            f_j.append(i)\n",
      "    #print len(k_v), len(k_b), len(f_h), len(f_k), len(f_j)\n"
     ],
     "language": "python",
     "metadata": {},
     "outputs": [],
     "prompt_number": 1
    },
    {
     "cell_type": "code",
     "collapsed": false,
     "input": [
      "print k_v[0]"
     ],
     "language": "python",
     "metadata": {},
     "outputs": [
      {
       "output_type": "stream",
       "stream": "stdout",
       "text": [
        "[  5.12163218e+04   1.45800000e+01   5.00000000e-03   2.00000000e+00\n",
        "   1.00000000e+00]\n"
       ]
      }
     ],
     "prompt_number": 2
    },
    {
     "cell_type": "code",
     "collapsed": false,
     "input": [
      "%pylab inline\n",
      "import prettyplotlib as ppl"
     ],
     "language": "python",
     "metadata": {},
     "outputs": [
      {
       "output_type": "stream",
       "stream": "stdout",
       "text": [
        "Populating the interactive namespace from numpy and matplotlib\n"
       ]
      },
      {
       "output_type": "stream",
       "stream": "stderr",
       "text": [
        "WARNING: pylab import has clobbered these variables: ['f']\n",
        "`%matplotlib` prevents importing * from pylab and numpy\n"
       ]
      }
     ],
     "prompt_number": 3
    },
    {
     "cell_type": "code",
     "collapsed": false,
     "input": [
      "ppl.plot(zip(*k_v)[0], zip(*k_v)[1], 'o')\n",
      "xlim(51660,51720)"
     ],
     "language": "python",
     "metadata": {},
     "outputs": [
      {
       "metadata": {},
       "output_type": "pyout",
       "prompt_number": 4,
       "text": [
        "(51660, 51720)"
       ]
      },
      {
       "metadata": {},
       "output_type": "display_data",
       "png": "[encoded data removed]",
       "text": [
        "<matplotlib.figure.Figure at 0x10a430a90>"
       ]
      }
     ],
     "prompt_number": 4
    },
    {
     "cell_type": "code",
     "collapsed": false,
     "input": [],
     "language": "python",
     "metadata": {},
     "outputs": []
    }
   ],
   "metadata": {}
  }
 ]
}