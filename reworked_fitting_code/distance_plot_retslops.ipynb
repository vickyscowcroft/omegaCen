{
 "cells": [
  {
   "cell_type": "code",
   "execution_count": 1,
   "metadata": {
    "collapsed": false
   },
   "outputs": [],
   "source": [
    "%matplotlib inline\n",
    "%config InlineBackend.figure_format='retina'\n",
    "import numpy as np\n",
    "import pandas as pd\n",
    "import prettyplotlib as ppl\n",
    "from reddening_laws import *\n",
    "from matplotlib import pyplot as plt\n",
    "from matplotlib import rc\n",
    "rc('font', **{'family': 'serif', 'serif': ['Computer Modern Roman'], 'size':14})\n",
    "rc('text', usetex=True)"
   ]
  },
  {
   "cell_type": "code",
   "execution_count": 2,
   "metadata": {
    "collapsed": false
   },
   "outputs": [
    {
     "name": "stdout",
     "output_type": "stream",
     "text": [
      "['wavelength' 'dist_ab' 'err_ab' 'dist_c' 'err_c' 'dist_mean' 'err_mean']\n"
     ]
    }
   ],
   "source": [
    "dist_df = pd.read_csv('final_data_files/dist_reticulumslopes.csv')\n",
    "# fill in with zeros to conform to fit_reddening input requirements\n",
    "fill_values = pd.DataFrame(np.zeros([4,7]), columns=dist_df.columns.values)\n",
    "fill_values_2 = pd.DataFrame(np.zeros([1,7]), columns=dist_df.columns.values)\n",
    "# show columns for reference\n",
    "print dist_df.columns.values"
   ]
  },
  {
   "cell_type": "code",
   "execution_count": 3,
   "metadata": {
    "collapsed": false
   },
   "outputs": [],
   "source": [
    "throw_out = False\n",
    "def throw_out_rrc(df):\n",
    "    df.drop(df.tail(1).index, inplace=True)\n",
    "    throw_out = True\n",
    "    return df, throw_out\n",
    "\n",
    "#dist_df, throw_out = throw_out_rrc(dist_df)\n",
    "#print dist_df"
   ]
  },
  {
   "cell_type": "code",
   "execution_count": 4,
   "metadata": {
    "collapsed": true
   },
   "outputs": [],
   "source": [
    "def do_the_fit(dist_df, startype):\n",
    "    dist_df['dist_plus2'] = dist_df['dist_' + startype] + 2*dist_df['err_' + startype]\n",
    "    dist_df['dist_minus2'] = dist_df['dist_' + startype] - 2*dist_df['err_' + startype]\n",
    "    dist_full_df = pd.concat([fill_values, dist_df])\n",
    "    if throw_out:\n",
    "        dist_full_df = pd.concat([fill_values, dist_df, fill_values_2])\n",
    "    reddening_input = pd.concat([dist_full_df['dist_' + startype], dist_full_df['err_' + startype]], axis=0)\n",
    "    dist, Av, dist_err, Av_err, Alam = fit_reddening(*reddening_input)\n",
    "    reddening_input2 = pd.concat([dist_full_df.dist_plus2, dist_full_df['err_' + startype]], axis=0)\n",
    "    dist2, Av2, dist_err2, Av_err2, Alam = fit_reddening(*reddening_input2)\n",
    "    reddening_input3 = pd.concat([dist_full_df.dist_minus2, dist_full_df['err_' + startype]], axis=0)\n",
    "    dist3, Av3, dist_err3, Av_err3, Alam = fit_reddening(*reddening_input3)\n",
    "    return dist_df, dist, dist_err, Av, Av_err, Av2, Av3, Alam"
   ]
  },
  {
   "cell_type": "code",
   "execution_count": 5,
   "metadata": {
    "collapsed": false
   },
   "outputs": [
    {
     "name": "stdout",
     "output_type": "stream",
     "text": [
      "weighting by error\n",
      "weighting by error\n",
      "weighting by error\n"
     ]
    }
   ],
   "source": [
    "startype = 'mean'\n",
    "if startype=='mean':\n",
    "    alpha=1.\n",
    "else:\n",
    "    alpha=0.3\n",
    "dist_df, dist, dist_err, Av, Av_err, Av2, Av3, Alam = do_the_fit(dist_df, startype)\n",
    "\n",
    "dist_df['u0_mean'] = dist_df.dist_mean.values - (Alam * Av)\n",
    "dist_df['u0err_mean'] = np.sqrt(dist_df.err_mean.values**2 + (Alam * Av_err)**2)\n",
    "dist_df['u0_ab'] = dist_df.dist_ab.values - (Alam * Av)\n",
    "dist_df['u0err_ab'] = np.sqrt(dist_df.err_ab.values**2 + (Alam * Av_err)**2)\n",
    "dist_df['u0_c'] = dist_df.dist_c.values - (Alam * Av)\n",
    "dist_df['u0err_c'] = np.sqrt(dist_df.err_c.values**2 + (Alam * Av_err)**2)"
   ]
  },
  {
   "cell_type": "code",
   "execution_count": null,
   "metadata": {
    "collapsed": false
   },
   "outputs": [],
   "source": [
    "# make extinction curve\n",
    "nearir_x = np.linspace(1.22,1.5,50)\n",
    "midir_x = np.linspace(1.5,4.5,100)\n",
    "\n",
    "Rv = 3.1\n",
    "Ak = ccm_nearir(2.164,Rv)\n",
    "\n",
    "nearir_y = ccm_nearir(nearir_x,Rv) * Av + dist\n",
    "midir_y = indebetouw_ir(midir_x) * Ak * Av + dist\n",
    "\n",
    "nearir_y_2 = ccm_nearir(nearir_x,Rv) * Av2 + dist\n",
    "midir_y_2 = indebetouw_ir(midir_x) * Ak * Av2 + dist\n",
    "\n",
    "nearir_y_3 = ccm_nearir(nearir_x,Rv) * Av3 + dist\n",
    "midir_y_3 = indebetouw_ir(midir_x) * Ak * Av3 + dist"
   ]
  },
  {
   "cell_type": "code",
   "execution_count": null,
   "metadata": {
    "collapsed": false
   },
   "outputs": [],
   "source": [
    "fig = plt.figure(figsize=(7,7))\n",
    "\n",
    "ax = plt.subplot2grid((4,1),(0,0), rowspan=3)\n",
    "ax1 = plt.subplot2grid((4,1),(3,0))\n",
    "# add shadow axis object for wavelength labels\n",
    "ax2 = ax.twiny()\n",
    "ppl.plot(ax2, [], [])\n",
    "# make line for distance modulus\n",
    "x = np.linspace(-0.05,1.95,2)\n",
    "y = x * 0 + dist\n",
    "ax.errorbar(1/dist_df.wavelength.values, dist_df.dist_mean.values, yerr=dist_df.err_mean.values, \n",
    "            color='k', mfc='k', fmt='o', label='$\\mu$ (RRab + RRc)', zorder=10, alpha=alpha)\n",
    "ax.errorbar(1/dist_df.wavelength.values, dist_df.dist_ab.values, yerr=dist_df.err_ab.values,\n",
    "            color='k', mfc='w', fmt='o', label='$\\mu$ (RRab)', zorder=0)\n",
    "ax.errorbar(1/dist_df.wavelength.values, dist_df.dist_c.values, yerr=dist_df.err_c.values,\n",
    "            color='k', mfc='w', fmt='^', label='$\\mu$ (RRc)', zorder=0, alpha=alpha)\n",
    "ppl.plot(ax, x, y, 'k-', lw=2, label=r'$\\langle\\mu_0\\rangle = {:.3f}\\pm{:.3f}$'.format(dist,dist_err))\n",
    "ppl.plot(ax, x, y + dist_err, 'k--')\n",
    "ppl.plot(ax, x, y - dist_err, 'k--')\n",
    "ppl.plot(ax, 1/nearir_x, nearir_y, 'k-', label='Extinction curve')\n",
    "ppl.plot(ax, 1/midir_x, midir_y, 'k-')\n",
    "ppl.plot(ax2, 1/nearir_x, nearir_y_2, 'k:')\n",
    "ppl.plot(ax, 1/midir_x, midir_y_2, 'k:')\n",
    "ppl.plot(ax, 1/nearir_x, nearir_y_3, 'k:')\n",
    "ppl.plot(ax, 1/midir_x, midir_y_3, 'k:')\n",
    "ax.set_xlim(-0.02,1.02)\n",
    "ax1.set_xlim(ax.get_xlim())\n",
    "ax.set_xticklabels([])\n",
    "ppl.legend(ax, loc=4, prop={'size':14}, numpoints=1, handlelength=1, ncol=2)\n",
    "ax2.set_xlim(ax.get_xlim())\n",
    "# ax2.xaxis.set_ticks_position('none')\n",
    "# set top tick labels to bandpasses\n",
    "ax2.set_xticks(1/dist_df.wavelength)\n",
    "ax2.set_xticklabels(['$J$', '$H$',  '$K_s$', '[3.6]', '[4.5]'])\n",
    "#ax.set_ylim(13.62,13.98)\n",
    "ax.set_ylim(13.6,14)\n",
    "ax.text(ax.get_xlim()[1]-0.025,ax.get_ylim()[1]-0.015,\n",
    "        '$E(B-V) = {:.3f} \\pm {:.3f}$'.format(Av/3.1,Av_err/3.1), ha='right',va='top')\n",
    "\n",
    "ppl.plot(ax1, x, y, 'k-', lw=2)\n",
    "ppl.plot(ax1, x, y + dist_err, 'k--')\n",
    "ppl.plot(ax1, x, y - dist_err, 'k--')\n",
    "if startype=='ab':\n",
    "    mfc = 'w'\n",
    "    label = 'RRab'\n",
    "    ylabel = 'RRab'\n",
    "else:\n",
    "    mfc = 'k'\n",
    "    label = 'mean'\n",
    "    ylabel = 'RRab + RRc'\n",
    "ax1.errorbar(1/dist_df.wavelength.values, dist_df[r'u0_{}'.format(startype)].values,\n",
    "             yerr=dist_df[r'u0err_{}'.format(startype)].values, \n",
    "             color='k', mfc=mfc, fmt='o', zorder=10, label=r'$\\mu_0$ ({})'.format(label))\n",
    "\n",
    "ax1.set_xlabel(r'$1/\\lambda\\ (\\mu\\mathrm{m}^{-1})$')\n",
    "ax.set_ylabel(r'$\\mu$ ({})'.format(ylabel))\n",
    "ax1.set_ylabel(r'$\\mu_0$ ({})'.format(ylabel))\n",
    "#if startype=='ab':\n",
    "    #ax1.set_ylim(13.68,13.82)\n",
    "    #ax1.set_yticks(np.linspace(13.7,13.8,3))\n",
    "#else:\n",
    "ax1.set_ylim(13.685,13.863)\n",
    "ax1.set_yticks(np.linspace(13.7,13.85,4))\n",
    "#ppl.legend(ax1, loc='upper left', prop={'size':14}, numpoints=1, handlelength=0.1)\n",
    "fig.tight_layout()\n",
    "fig.subplots_adjust(hspace=0.1)\n",
    "#fig.savefig('final_plots/multiwavelength_distance_m4_clipped_{}.pdf'.format(startype), dpi=300)"
   ]
  },
  {
   "cell_type": "code",
   "execution_count": null,
   "metadata": {
    "collapsed": false
   },
   "outputs": [],
   "source": [
    "u0 = np.array([dist_df.wavelength, dist_df.dist_ab, dist_df.err_ab, dist_df.dist_c,\n",
    "               dist_df.err_c, dist_df.dist_mean, dist_df.err_mean,\n",
    "               dist_df.u0_ab, dist_df.u0err_ab, dist_df.u0_c,\n",
    "               dist_df.u0err_c, dist_df.u0_mean, dist_df.u0err_mean]).T"
   ]
  },
  {
   "cell_type": "code",
   "execution_count": null,
   "metadata": {
    "collapsed": false
   },
   "outputs": [],
   "source": [
    "for i in u0:\n",
    "    strlist = [r'${:.3f} \\pm {:.3f}$'.format(i[j],i[j+1]) for j in np.arange(1, len(i) / 2 + 1)*2 - 1]\n",
    "    print i[0], '&', ' & '.join(strlist), r'& sigab & sigc \\\\'\n",
    "    #print r'& ${:.3f} \\pm {:.3f}$ & ${:.3f} \\pm {:.3f}$ & ${:.3f} \\pm {:.3f}$ \\\\'.\\\n",
    "    #format(i[0], i[1], i[2], i[3], i[4], i[5])"
   ]
  },
  {
   "cell_type": "code",
   "execution_count": null,
   "metadata": {
    "collapsed": true
   },
   "outputs": [],
   "source": []
  }
 ],
 "metadata": {
  "kernelspec": {
   "display_name": "Python 2",
   "language": "python",
   "name": "python2"
  },
  "language_info": {
   "codemirror_mode": {
    "name": "ipython",
    "version": 2
   },
   "file_extension": ".py",
   "mimetype": "text/x-python",
   "name": "python",
   "nbconvert_exporter": "python",
   "pygments_lexer": "ipython2",
   "version": "2.7.11"
  }
 },
 "nbformat": 4,
 "nbformat_minor": 0
}
