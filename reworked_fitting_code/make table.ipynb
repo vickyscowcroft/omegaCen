{
 "cells": [
  {
   "cell_type": "code",
   "execution_count": 1,
   "metadata": {
    "collapsed": true
   },
   "outputs": [],
   "source": [
    "import pandas as pd"
   ]
  },
  {
   "cell_type": "code",
   "execution_count": 48,
   "metadata": {
    "collapsed": false
   },
   "outputs": [],
   "source": [
    "df1 = pd.read_csv('final_data_files/uncrowded_everything_m4_clipped.csv')\n",
    "df2 = pd.read_csv('Kaluzny2004rrl.txt', delim_whitespace=True)\n",
    "\n",
    "df1.per.dtype, df2.per\n",
    "\n",
    "df = df1.merge(df2, on=['id', 'type', 'per'])"
   ]
  },
  {
   "cell_type": "code",
   "execution_count": 49,
   "metadata": {
    "collapsed": false
   },
   "outputs": [],
   "source": [
    "df.type[df.type==0] = 'RRab'\n",
    "df.type[df.type==1] = 'RRc'"
   ]
  },
  {
   "cell_type": "code",
   "execution_count": 50,
   "metadata": {
    "collapsed": false
   },
   "outputs": [
    {
     "name": "stdout",
     "output_type": "stream",
     "text": [
      "['id', 'type', 'per', 'mag_j', 'merr_j', 'mag_h', 'merr_h', 'mag_k', 'merr_k', 'mag_3', 'merr_3', 'mag_4', 'merr_4', 'resid_m4_j', 'resid_m4_h', 'resid_m4_k', 'resid_m4_3', 'resid_m4_4', 'photfeh', 'photfeh_err', 'spectfeh', 'spectfeh_err', 'ra', 'dec', 'other_id']\n"
     ]
    }
   ],
   "source": [
    "cols = df.columns.tolist()\n",
    "print cols"
   ]
  },
  {
   "cell_type": "code",
   "execution_count": 53,
   "metadata": {
    "collapsed": true
   },
   "outputs": [],
   "source": [
    "cols_reordered = ['id', 'ra', 'dec', 'type', 'per', 'mag_j', 'merr_j', \n",
    "                  'mag_h', 'merr_h', 'mag_k', 'merr_k', \n",
    "                  'mag_3', 'merr_3', 'resid_m4_3', 'mag_4', 'merr_4', 'resid_m4_4',\n",
    "                  'photfeh', 'photfeh_err', 'spectfeh', 'spectfeh_err']\n",
    "\n",
    "df_out = df[cols_reordered]\n",
    "df_out.id = df_out.id.astype(int)"
   ]
  },
  {
   "cell_type": "code",
   "execution_count": 54,
   "metadata": {
    "collapsed": false
   },
   "outputs": [],
   "source": [
    "df_out.to_csv('final_data_files/new_table.txt', index=False, sep='&', float_format='%0.3f',\n",
    "              na_rep = '---', line_terminator = ' \\\\\\\\\\r')"
   ]
  },
  {
   "cell_type": "code",
   "execution_count": null,
   "metadata": {
    "collapsed": true
   },
   "outputs": [],
   "source": []
  }
 ],
 "metadata": {
  "kernelspec": {
   "display_name": "Python 2",
   "language": "python",
   "name": "python2"
  },
  "language_info": {
   "codemirror_mode": {
    "name": "ipython",
    "version": 2
   },
   "file_extension": ".py",
   "mimetype": "text/x-python",
   "name": "python",
   "nbconvert_exporter": "python",
   "pygments_lexer": "ipython2",
   "version": "2.7.5"
  }
 },
 "nbformat": 4,
 "nbformat_minor": 0
}
