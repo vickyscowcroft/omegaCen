{
 "cells": [
  {
   "cell_type": "code",
   "execution_count": 1,
   "metadata": {
    "collapsed": true
   },
   "outputs": [],
   "source": [
    "import pandas as pd"
   ]
  },
  {
   "cell_type": "code",
   "execution_count": 2,
   "metadata": {
    "collapsed": false
   },
   "outputs": [],
   "source": [
    "df1 = pd.read_csv('final_data_files/uncrowded_everything_m4_clipped.csv')\n",
    "df2 = pd.read_csv('Kaluzny2004rrl.txt', delim_whitespace=True)\n",
    "\n",
    "df1.per.dtype, df2.per\n",
    "\n",
    "df = df1.merge(df2, on=['id', 'type', 'per'])"
   ]
  },
  {
   "cell_type": "code",
   "execution_count": 3,
   "metadata": {
    "collapsed": false
   },
   "outputs": [
    {
     "name": "stderr",
     "output_type": "stream",
     "text": [
      "/Users/Meredith/anaconda2/lib/python2.7/site-packages/ipykernel/__main__.py:1: SettingWithCopyWarning: \n",
      "A value is trying to be set on a copy of a slice from a DataFrame\n",
      "\n",
      "See the caveats in the documentation: http://pandas.pydata.org/pandas-docs/stable/indexing.html#indexing-view-versus-copy\n",
      "  if __name__ == '__main__':\n"
     ]
    }
   ],
   "source": [
    "df.type[df.type==0] = 'RRab'\n",
    "df.type[df.type==1] = 'RRc'"
   ]
  },
  {
   "cell_type": "code",
   "execution_count": 4,
   "metadata": {
    "collapsed": false
   },
   "outputs": [
    {
     "name": "stdout",
     "output_type": "stream",
     "text": [
      "['id', 'type', 'per', 'mag_j', 'merr_j', 'mag_h', 'merr_h', 'mag_k', 'merr_k', 'mag_3', 'merr_3', 'mag_4', 'merr_4', 'resid_m4_j', 'resid_m4_h', 'resid_m4_k', 'resid_m4_3', 'resid_m4_4', 'photfeh', 'photfeh_err', 'spectfeh', 'spectfeh_err', 'ra', 'dec', 'other_id']\n"
     ]
    }
   ],
   "source": [
    "cols = df.columns.tolist()\n",
    "print cols"
   ]
  },
  {
   "cell_type": "code",
   "execution_count": 5,
   "metadata": {
    "collapsed": false
   },
   "outputs": [
    {
     "name": "stderr",
     "output_type": "stream",
     "text": [
      "/Users/Meredith/anaconda2/lib/python2.7/site-packages/pandas/core/generic.py:2387: SettingWithCopyWarning: \n",
      "A value is trying to be set on a copy of a slice from a DataFrame.\n",
      "Try using .loc[row_indexer,col_indexer] = value instead\n",
      "\n",
      "See the caveats in the documentation: http://pandas.pydata.org/pandas-docs/stable/indexing.html#indexing-view-versus-copy\n",
      "  self[name] = value\n"
     ]
    }
   ],
   "source": [
    "cols_reordered = ['id', 'ra', 'dec', 'type', 'per', 'mag_j', 'merr_j', \n",
    "                  'mag_h', 'merr_h', 'mag_k', 'merr_k', \n",
    "                  'mag_3', 'merr_3', 'resid_m4_3', 'mag_4', 'merr_4', 'resid_m4_4',\n",
    "                  'photfeh', 'photfeh_err', 'spectfeh', 'spectfeh_err']\n",
    "\n",
    "df_out = df[cols_reordered]\n",
    "df_out.id = df_out.id.astype(int)"
   ]
  },
  {
   "cell_type": "code",
   "execution_count": 6,
   "metadata": {
    "collapsed": false
   },
   "outputs": [],
   "source": [
    "df_out.to_csv('final_data_files/new_table_122.txt', index=False, sep='&', float_format='%0.3f',\n",
    "              na_rep = '---', line_terminator = ' \\\\\\\\\\r')"
   ]
  },
  {
   "cell_type": "code",
   "execution_count": 7,
   "metadata": {
    "collapsed": false
   },
   "outputs": [
    {
     "name": "stdout",
     "output_type": "stream",
     "text": [
      "(99, 21)\n"
     ]
    }
   ],
   "source": [
    "print df_out.shape"
   ]
  }
 ],
 "metadata": {
  "kernelspec": {
   "display_name": "Python 2",
   "language": "python",
   "name": "python2"
  },
  "language_info": {
   "codemirror_mode": {
    "name": "ipython",
    "version": 2
   },
   "file_extension": ".py",
   "mimetype": "text/x-python",
   "name": "python",
   "nbconvert_exporter": "python",
   "pygments_lexer": "ipython2",
   "version": "2.7.11"
  }
 },
 "nbformat": 4,
 "nbformat_minor": 0
}
