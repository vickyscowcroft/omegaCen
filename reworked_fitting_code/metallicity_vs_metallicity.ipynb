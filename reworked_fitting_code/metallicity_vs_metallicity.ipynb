{
 "cells": [
  {
   "cell_type": "code",
   "execution_count": 10,
   "metadata": {
    "collapsed": false
   },
   "outputs": [],
   "source": [
    "%matplotlib inline\n",
    "%config InlineBackend.figure_format='retina'\n",
    "import numpy as np\n",
    "import pandas as pd\n",
    "import prettyplotlib as ppl\n",
    "from scipy.optimize import curve_fit\n",
    "from matplotlib import pyplot as plt\n",
    "from matplotlib import rc\n",
    "rc('font', **{'family': 'serif', 'serif': ['Computer Modern Roman'], 'size':14})\n",
    "rc('text', usetex=True)"
   ]
  },
  {
   "cell_type": "code",
   "execution_count": 11,
   "metadata": {
    "collapsed": false
   },
   "outputs": [],
   "source": [
    "df_s = pd.read_csv('final_data_files/sollima_2006.cat', delim_whitespace=True, index_col=False)\n",
    "df_p = pd.read_csv('final_data_files/rey_2000.cat', delim_whitespace=True, index_col=False)"
   ]
  },
  {
   "cell_type": "code",
   "execution_count": 16,
   "metadata": {
    "collapsed": true
   },
   "outputs": [],
   "source": [
    "df = pd.merge(df_s, df_p, on=['id','type'])"
   ]
  },
  {
   "cell_type": "code",
   "execution_count": 19,
   "metadata": {
    "collapsed": true
   },
   "outputs": [],
   "source": [
    "dfab = df[df.type == 0]\n",
    "dfc = df[df.type == 1]"
   ]
  },
  {
   "cell_type": "code",
   "execution_count": 54,
   "metadata": {
    "collapsed": false
   },
   "outputs": [
    {
     "data": {
      "image/png": "[encoded data removed]",
      "text/plain": [
       "<matplotlib.figure.Figure at 0x11d8d7890>"
      ]
     },
     "metadata": {
      "image/png": {
       "height": 342,
       "width": 704
      }
     },
     "output_type": "display_data"
    }
   ],
   "source": [
    "fig, (ax1, ax2) = plt.subplots(1,2,sharex=True,sharey=True,figsize=(10,5))\n",
    "ax1.set_aspect('equal')\n",
    "ax1.set_xlim(-2.36,-1.04)\n",
    "ax1.set_ylim(ax1.get_xlim())\n",
    "ppl.plot(ax1,dfab['spectfeh'],dfab['photfeh'],'ko')\n",
    "ppl.plot(ax2,dfc['spectfeh'],dfc['photfeh'],'k^')\n",
    "ax1.errorbar(-2,-1.25,yerr=dfab['photfeh_err'].mean(),xerr=dfab['spectfeh_err'].mean(),fmt=',',color='k')\n",
    "ax2.errorbar(-1.8,-1.25,yerr=dfc['photfeh_err'].mean(),xerr=dfc['spectfeh_err'].mean(),fmt=',',color='k')\n",
    "fig.tight_layout()\n",
    "\n",
    "#print dfab['photfeh_err'].mean(), dfab['spectfeh_err'].mean()"
   ]
  },
  {
   "cell_type": "code",
   "execution_count": null,
   "metadata": {
    "collapsed": false
   },
   "outputs": [],
   "source": [
    "for resid in ['j', 'h', 'k', '3', '4']:\n",
    "    print '& {:.3f} & {:.3f}'.format(np.std(dfab['resid_m4_{}'.format(resid)]),\n",
    "                                     np.std(dfc['resid_m4_{}'.format(resid)]))\n"
   ]
  },
  {
   "cell_type": "code",
   "execution_count": null,
   "metadata": {
    "collapsed": false
   },
   "outputs": [],
   "source": [
    "# get color and color error values\n",
    "df['color'] = df.mag_3 - df.mag_4\n",
    "df['color_err'] = np.sqrt(df.merr_3**2 + df.merr_4**2)"
   ]
  },
  {
   "cell_type": "code",
   "execution_count": null,
   "metadata": {
    "collapsed": false
   },
   "outputs": [],
   "source": [
    "# select only rows with non-nan residuals; this is equivalent\n",
    "# to selecting rows with data in all wavelengths\n",
    "condition_1 = (np.isfinite(df.resid_all_3))\n",
    "# select only rows with non-nan spectroscopic metallicities\n",
    "condition_2 = (np.isfinite(df.spectfeh))\n",
    "# select only rows with non-nan photometric metallicities\n",
    "condition_3 = (np.isfinite(df.photfeh))\n",
    "\n",
    "condition_4 = (np.isfinite(df.resid_all_4))\n",
    "\n",
    "# create new dataframes based on conditions\n",
    "# star with id=103 is an outlier so we take it out\n",
    "# and make a new dataframe with it so it's\n",
    "# excluded from the linear fit but still plottable\n",
    "df1 = df[condition_1 & condition_2]\n",
    "df2 = df[condition_1 & condition_3]\n",
    "df3 = df[condition_4 & condition_2]\n",
    "df4 = df[condition_4 & condition_3]\n",
    "\n",
    "# create lists of values for use in the plotting loop\n",
    "# order is important here\n",
    "resids = [df1.resid_all_3, df2.resid_all_3, df3.resid_all_4, df4.resid_all_4]\n",
    "fehs = [df1.spectfeh, df2.photfeh, df3.spectfeh, df4.photfeh]\n",
    "resid_errs = [df1.merr_3, df2.merr_3, df3.merr_4, df4.merr_4]\n",
    "feh_errs = [df1.spectfeh_err, df2.photfeh_err, df3.spectfeh_err, df4.photfeh_err]\n",
    "\n",
    "dfs = [df1, df2, df3, df4]\n",
    "\n",
    "def get_type_list(inlist):\n",
    "    outlist = []\n",
    "    for i,obj in enumerate(inlist):\n",
    "        outlist.append(obj[dfs[i].type==0])\n",
    "    for i,obj in enumerate(inlist):\n",
    "        outlist.append(obj[dfs[i].type==1])\n",
    "    outlist = outlist[:2] + outlist[4:6] + outlist[2:4] + outlist[6:]\n",
    "    return outlist\n",
    "\n",
    "labels=['RRab, spectroscopic, [3.6]',\n",
    "        'RRab, photometric, [3.6]',\n",
    "        'RRab, spectroscopic, [4.5]',\n",
    "        'RRab, photometric, [4.5]',\n",
    "        'RRc, spectroscopic, [3.6]',\n",
    "        'RRc, photometric, [3.6]',\n",
    "        'RRc, spectroscopic, [4.5]',\n",
    "        'RRc, photometric, [4.5]']\n",
    "\n",
    "labels = labels[:2] + labels[4:6] + labels[2:4] + labels[6:]\n",
    "\n",
    "resids2 = get_type_list(resids)\n",
    "fehs2 = get_type_list(fehs)\n",
    "resid_errs2 = get_type_list(resid_errs)\n",
    "feh_errs2 = get_type_list(feh_errs)"
   ]
  },
  {
   "cell_type": "code",
   "execution_count": null,
   "metadata": {
    "collapsed": false
   },
   "outputs": [],
   "source": [
    "# define line-fitting function\n",
    "def fitfunc(x,slope,intc):\n",
    "    return slope*x + intc\n",
    "\n",
    "# make the figure and subplots\n",
    "fig, ((ax1, ax2), (ax3, ax4)) = plt.subplots(2, 2, sharey=True, sharex=True, figsize=(8,6))\n",
    "ax = [ax1, ax2, ax3, ax4]\n",
    "\n",
    "# plot the things\n",
    "for i in range(4):\n",
    "    ax[i].errorbar(fehs[i][dfs[i].type == 0].values, resids[i][dfs[i].type == 0].values,\n",
    "                   yerr=resid_errs[i][dfs[i].type == 0].values, xerr = feh_errs[i][dfs[i].type == 0].values,\n",
    "                   fmt='o', color='k', label='RRab')\n",
    "    ax[i].errorbar(fehs[i][dfs[i].type == 1].values, resids[i][dfs[i].type == 1].values,\n",
    "                   yerr=resid_errs[i][dfs[i].type == 1].values, xerr = feh_errs[i][dfs[i].type == 1].values,\n",
    "                   fmt='^', color='k', label='RRc')\n",
    "    x = np.linspace(-4, 0, 10)\n",
    "    popt, pcov = curve_fit(fitfunc, fehs[i], resids[i])\n",
    "    sig = np.sqrt(np.diag(pcov))\n",
    "    y1 = popt[0] * x + popt[1]\n",
    "    y2 = (popt[0] + sig[0]) * x + (popt[1] + sig[1])\n",
    "    y3 = (popt[0] - sig[0]) * x + (popt[1] - sig[1])\n",
    "    ppl.plot(ax[i],x,y1,'k-',lw=2)\n",
    "    ppl.plot(ax[i],x,y2,'k--')\n",
    "    ppl.plot(ax[i],x,y3,'k--')\n",
    "    ax[i].text(-0.28,0.65,r'$\\gamma$ = ${:.3f} \\pm {:.3f}$'.format(popt[0], sig[0]),\n",
    "               va='top', ha='right')\n",
    "ax3.set_xlabel('[Fe/H] (spectroscopic)')\n",
    "ax4.set_xlabel('[Fe/H] (photometric)')\n",
    "ax3.set_ylabel('$\\Delta [4.5]$')\n",
    "ax1.set_ylabel('$\\Delta [3.6]$')\n",
    "ax1.set_ylim(-0.69,0.69)\n",
    "#ax1.set_xlim(-2.75,-0.25)\n",
    "ax1.set_xlim(-2.3,-0.85)\n",
    "ppl.legend(ax1, loc=0, prop={'size':14}, numpoints=1, handlelength=1)\n",
    "fig.tight_layout()\n",
    "#fig.savefig('final_plots/metallicity_vs_residuals_m4_clipped.pdf')"
   ]
  },
  {
   "cell_type": "code",
   "execution_count": null,
   "metadata": {
    "collapsed": false
   },
   "outputs": [],
   "source": [
    "# define line-fitting function\n",
    "def fitfunc(x,slope,intc):\n",
    "    return slope*x + intc\n",
    "\n",
    "# make the figure and subplots\n",
    "fig, ((ax1, ax2), (ax3, ax4), (ax5, ax6), (ax7, ax8)) = plt.subplots(4, 2, sharey=True, sharex=True, figsize=(8,11))\n",
    "ax = [ax1, ax2, ax3, ax4, ax5, ax6, ax7, ax8]\n",
    "\n",
    "# plot the things\n",
    "for i in range(8):\n",
    "    if labels[i].startswith('RRab'):\n",
    "        ax[i].plot(fehs2[i].values, resids2[i].values,\n",
    "                   'ok', label='RRab')\n",
    "#         ax[i].errorbar(fehs2[i].values, resids2[i].values,\n",
    "#                        yerr=resid_errs2[i].values, xerr = feh_errs2[i].values,\n",
    "#                        fmt='o', color='k', label='RRab')\n",
    "    else:\n",
    "        ax[i].plot(fehs2[i].values, resids2[i].values,\n",
    "                   '^k', label='RRc')\n",
    "#         ax[i].errorbar(fehs2[i].values, resids2[i].values,\n",
    "#                        yerr=resid_errs2[i].values, xerr = feh_errs2[i].values,\n",
    "#                        fmt='^', color='k', label='RRc')\n",
    "    ax[i].errorbar(-2.3 + feh_errs2[i].median() + 0.03,-0.6,\n",
    "                   yerr=resid_errs2[i].median(),xerr=feh_errs2[i].median(),fmt=',',color='k')\n",
    "    x = np.linspace(-4, 0, 10)\n",
    "    popt, pcov = curve_fit(fitfunc, fehs2[i], resids2[i])\n",
    "    sig = np.sqrt(np.diag(pcov))\n",
    "    y1 = popt[0] * x + popt[1]\n",
    "    y2 = (popt[0] + sig[0]) * x + (popt[1] + sig[1])\n",
    "    y3 = (popt[0] - sig[0]) * x + (popt[1] - sig[1])\n",
    "    ppl.plot(ax[i],x,y1,'k-',lw=2)\n",
    "    ppl.plot(ax[i],x,y2,'k--')\n",
    "    ppl.plot(ax[i],x,y3,'k--')\n",
    "    ax[i].text(-0.87,0.65,r'$\\gamma$ = ${:.3f} \\pm {:.3f}$'.format(popt[0], sig[0]),\n",
    "               va='top', ha='right')\n",
    "    #ax[i].text(-2,-0.6,labels[i])\n",
    "ax7.set_xlabel('[Fe/H], spectroscopic')\n",
    "ax8.set_xlabel('[Fe/H], photometric')\n",
    "ax1.set_ylabel('$\\Delta [3.6]$, RRab')\n",
    "ax3.set_ylabel('$\\Delta [3.6]$, RRc')\n",
    "ax5.set_ylabel('$\\Delta [4.5]$, RRab')\n",
    "ax7.set_ylabel('$\\Delta [4.5]$, RRc')\n",
    "ax1.set_ylim(-0.69,0.69)\n",
    "#ax1.set_xlim(-2.75,-0.25)\n",
    "ax1.set_xlim(-2.3,-0.85)\n",
    "\n",
    "ax1.plot(-5,-5,'^k', label='RRc') #legend hackery\n",
    "#ax1.errorbar(-5,-5,'^k', label='RRc') #legend hackery\n",
    "\n",
    "#ppl.legend(ax1, loc='lower right', prop={'size':14}, numpoints=1, handlelength=1)\n",
    "fig.tight_layout()\n",
    "fig.subplots_adjust(hspace=0.1)\n",
    "#fig.savefig('final_plots/metallicity_vs_residuals_m4_split.pdf')"
   ]
  },
  {
   "cell_type": "code",
   "execution_count": null,
   "metadata": {
    "collapsed": false
   },
   "outputs": [],
   "source": [
    "df1_ab = df1[df1.type == 0]\n",
    "df1_c = df1[df1.type == 1]\n",
    "df2_ab = df2[df2.type == 0]\n",
    "df2_c = df2[df2.type == 1]\n",
    "\n",
    "print 'Type       mean [Fe/H]     num data points'\n",
    "print 'Spect_all'.ljust(10), str(np.mean(df1.spectfeh)).ljust(15), len(df1.spectfeh)\n",
    "print 'Spect_ab'.ljust(10), str(np.mean(df1_ab.spectfeh)).ljust(15), len(df1_ab.spectfeh)\n",
    "print 'Spect_c'.ljust(10), str(np.mean(df1_c.spectfeh)).ljust(15), len(df1_c.spectfeh)\n",
    "print 'Phot_all'.ljust(10), str(np.mean(df2.photfeh)).ljust(15), len(df2.photfeh)\n",
    "print 'Phot_ab'.ljust(10), str(np.mean(df2_ab.photfeh)).ljust(15), len(df2_ab.photfeh)\n",
    "print 'Phot_c'.ljust(10), str(np.mean(df2_c.photfeh)).ljust(15), len(df2_c.photfeh)"
   ]
  },
  {
   "cell_type": "code",
   "execution_count": null,
   "metadata": {
    "collapsed": false
   },
   "outputs": [],
   "source": [
    "# period color plot\n",
    "\n",
    "df5 = df[condition_1 & condition_4]\n",
    "\n",
    "df5_ab = df5[df5.type == 0]\n",
    "df5_c = df5[df5.type == 1]\n",
    "\n",
    "color='#AAAAAA'\n",
    "\n",
    "fig = plt.figure()\n",
    "ax = fig.add_subplot(1,1,1)\n",
    "# hack to style plot with prettyplotlib\n",
    "ppl.plot(ax, [],[])\n",
    "# actual plotting\n",
    "ax.errorbar(np.log10(df5_ab.per.values), df5_ab.color.values,\n",
    "            yerr = df5_ab.color_err.values, fmt='o', color='k',\n",
    "            label='RRab')\n",
    "ax.errorbar(np.log10(df5_c.per.values), df5_c.color.values,\n",
    "            yerr = df5_c.color_err.values, fmt='^', color='k',\n",
    "            label='RRc')\n",
    "ax.set_xlabel('$\\log P$')\n",
    "ax.set_ylabel('[3.6] - [4.5]')\n",
    "ax.set_xlim(-0.63, 0.02)\n",
    "ax.set_ylim(-0.5, 0.5)\n",
    "ppl.legend(ax, loc='lower right', prop={'size':14}, numpoints=1, handlelength=1)\n",
    "fig.tight_layout()\n",
    "fig.savefig('final_plots/period_color.pdf')"
   ]
  },
  {
   "cell_type": "code",
   "execution_count": null,
   "metadata": {
    "collapsed": false
   },
   "outputs": [],
   "source": [
    "# metallicity color plot\n",
    "\n",
    "df6 = df[condition_2]\n",
    "\n",
    "df6_ab = df6[df6.type == 0]\n",
    "df6_c = df6[df6.type == 1]\n",
    "\n",
    "df7 = df[condition_3]\n",
    "\n",
    "df7_ab = df7[df7.type == 0]\n",
    "df7_c = df7[df7.type == 1]\n",
    "\n",
    "color='#AAAAAA'\n",
    "\n",
    "fig, (ax1, ax2) = plt.subplots(2,1,figsize=(6,7),sharex=True,sharey=True)\n",
    "# hack to style plot with prettyplotlib\n",
    "ppl.plot(ax1, [],[])\n",
    "ppl.plot(ax2, [],[])\n",
    "# actual plotting\n",
    "ax1.errorbar(df6_ab.spectfeh.values, df6_ab.color.values,\n",
    "             xerr = df6_ab.spectfeh_err.values,\n",
    "             yerr = df6_ab.color_err.values, fmt='o', color='k',\n",
    "             label='RRab')\n",
    "ax1.errorbar(df6_c.spectfeh.values, df6_c.color.values,\n",
    "             xerr = df6_c.spectfeh_err.values,\n",
    "             yerr = df6_c.color_err.values, fmt='^', color='k',\n",
    "             label='RRc')\n",
    "ax2.errorbar(df7_ab.photfeh.values, df7_ab.color.values,\n",
    "             xerr = df7_ab.photfeh_err.values,\n",
    "             yerr = df7_ab.color_err.values, fmt='o', color='k',\n",
    "             label='RRab')\n",
    "ax2.errorbar(df7_c.photfeh.values, df7_c.color.values,\n",
    "             xerr = df7_c.photfeh_err.values,\n",
    "             yerr = df7_c.color_err.values, fmt='^', color='k',\n",
    "             label='RRc')\n",
    "ax2.set_xlabel('[Fe/H]')\n",
    "ax1.text(-0.3,0.45,'Spectroscopic [Fe/H]',ha='right',va='top')\n",
    "ax2.text(-0.3,0.45,'Photometric [Fe/H]',ha='right',va='top')\n",
    "ax1.set_ylabel('[3.6] - [4.5]')\n",
    "ax2.set_ylabel('[3.6] - [4.5]')\n",
    "ax1.set_xlim(-2.75,-0.25)\n",
    "ax1.set_ylim(-0.5,0.5)\n",
    "ppl.legend(ax1, loc=4, prop={'size':14}, numpoints=1, handlelength=1)\n",
    "fig.tight_layout()\n",
    "fig.savefig('final_plots/metallicity_color.pdf')"
   ]
  },
  {
   "cell_type": "code",
   "execution_count": null,
   "metadata": {
    "collapsed": false
   },
   "outputs": [],
   "source": [
    "print np.mean(df.spectfeh)"
   ]
  },
  {
   "cell_type": "code",
   "execution_count": null,
   "metadata": {
    "collapsed": true
   },
   "outputs": [],
   "source": []
  }
 ],
 "metadata": {
  "kernelspec": {
   "display_name": "Python 2",
   "language": "python",
   "name": "python2"
  },
  "language_info": {
   "codemirror_mode": {
    "name": "ipython",
    "version": 2
   },
   "file_extension": ".py",
   "mimetype": "text/x-python",
   "name": "python",
   "nbconvert_exporter": "python",
   "pygments_lexer": "ipython2",
   "version": "2.7.11"
  }
 },
 "nbformat": 4,
 "nbformat_minor": 0
}
