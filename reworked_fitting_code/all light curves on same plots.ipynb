{
 "cells": [
  {
   "cell_type": "code",
   "execution_count": 1,
   "metadata": {
    "collapsed": false
   },
   "outputs": [],
   "source": [
    "# Notes on reading the ugly light curve files:\n",
    "# MHJD is modified heliocentric julian date  =  HJD - 2400000.5\n",
    "# MAG is the mag on the 2MASS system\n",
    "# MER is the mag err\n",
    "# SRC is the src of photometry, 2 = Kaluzny Vband   3 = Kaluzny Bband\n",
    "# -1 = Fourstar H    -2 = Fourstar Ks  -5 = Fourstar J\n",
    "# NUM is the number of averaged measurements that went into MAG.  Should\n",
    "# be unity for everything\n",
    "\n",
    "%matplotlib inline\n",
    "from collections import OrderedDict\n",
    "import glob\n",
    "import matplotlib.pyplot as plt\n",
    "import numpy as np\n",
    "import os\n",
    "import pandas as pd\n",
    "import prettyplotlib as ppl\n",
    "jhk_dir = '../Omega_Cen_phot/'"
   ]
  },
  {
   "cell_type": "code",
   "execution_count": 2,
   "metadata": {
    "collapsed": false
   },
   "outputs": [],
   "source": [
    "df_orig = pd.read_csv('final_data_files/kaluzny_2004_rrl_reformat.csv')"
   ]
  },
  {
   "cell_type": "code",
   "execution_count": 3,
   "metadata": {
    "collapsed": false
   },
   "outputs": [],
   "source": [
    "ids = df_orig.id.astype(int).astype(str).str.zfill(3).values"
   ]
  },
  {
   "cell_type": "code",
   "execution_count": 4,
   "metadata": {
    "collapsed": false
   },
   "outputs": [],
   "source": [
    "def pad_nan(arr, length=12):\n",
    "    npad = length - len(arr)\n",
    "    if npad > 0:\n",
    "        return np.concatenate([arr, [np.nan]*npad])\n",
    "    else:\n",
    "        return arr"
   ]
  },
  {
   "cell_type": "code",
   "execution_count": 5,
   "metadata": {
    "collapsed": false
   },
   "outputs": [],
   "source": [
    "lc_3p6 = OrderedDict()\n",
    "for f in glob.glob('../calibrated_files/omegaCen_?_3p6um_rrl_matched_to_kaluzny.cut'):\n",
    "    mjds = np.loadtxt(f.replace('_rrl_matched_to_kaluzny.cut','.mjds'))[:,1]\n",
    "    df = pd.read_csv(f)\n",
    "    for index, row, in df.iterrows():\n",
    "        lc_3p6[row.ID.split('V')[-1] + '_mags'] = pad_nan(row.filter(regex='mag_').values)\n",
    "        lc_3p6[row.ID.split('V')[-1] + '_merr'] = pad_nan(row.filter(regex='merr_').values)\n",
    "        lc_3p6[row.ID.split('V')[-1] + '_mjds'] = sorted(mjds)\n",
    "lc_4p5 = OrderedDict()\n",
    "for f in glob.glob('../calibrated_files/omegaCen_?_4p5um_rrl_matched_to_kaluzny.cut'):\n",
    "    mjds = np.loadtxt(f.replace('_rrl_matched_to_kaluzny.cut','.mjds'))[:,1]\n",
    "    df = pd.read_csv(f)\n",
    "    for index, row, in df.iterrows():\n",
    "        lc_4p5[row.ID.split('V')[-1] + '_mags'] = pad_nan(row.filter(regex='mag_').values)\n",
    "        lc_4p5[row.ID.split('V')[-1] + '_merr'] = pad_nan(row.filter(regex='merr_').values)\n",
    "        lc_4p5[row.ID.split('V')[-1] + '_mjds'] = sorted(mjds)"
   ]
  },
  {
   "cell_type": "code",
   "execution_count": 23,
   "metadata": {
    "collapsed": true
   },
   "outputs": [],
   "source": [
    "def phase(mjd_dict,per):\n",
    "    datemin = np.min(np.concatenate(mjd_dict.values()))\n",
    "    for k,v in mjd_dict.iteritems():\n",
    "        v -= datemin\n",
    "        v /= per\n",
    "        v -= v.astype(int)\n",
    "        mjd_dict[k] = v\n",
    "    return mjd_dict"
   ]
  },
  {
   "cell_type": "code",
   "execution_count": 74,
   "metadata": {
    "collapsed": false
   },
   "outputs": [
    {
     "name": "stdout",
     "output_type": "stream",
     "text": [
      "no data for 055\n",
      "no data for 069\n",
      "file does not exist: 134\n",
      "no data for 134\n",
      "file does not exist: 159\n",
      "no data for 159\n",
      "file does not exist: 160\n",
      "no data for 160\n",
      "file does not exist: 181\n",
      "no data for 181\n",
      "file does not exist: 182\n",
      "no data for 182\n",
      "file does not exist: 183\n",
      "no data for 183\n",
      "file does not exist: 281\n",
      "no data for 281\n",
      "file does not exist: 283\n",
      "no data for 283\n",
      "file does not exist: 351\n",
      "no data for 351\n"
     ]
    }
   ],
   "source": [
    "lc_dict = OrderedDict()\n",
    "offset_dict = {'j':4,'h':3,'k':2,'3':1,'4':0}\n",
    "name_dict = {'j':'J','h':'H','k':'Ks','3':'[3.6]','4':'[4.5]'}\n",
    "cmap = plt.cm.get_cmap('gist_rainbow')\n",
    "plot_colors = list(reversed([cmap(i) for i in np.linspace(0,0.91,5)]))\n",
    "color_dict = {'j':plot_colors[0],'h':plot_colors[1],'k':plot_colors[2],'3':plot_colors[3],'4':plot_colors[4]}\n",
    "for obj in ids:\n",
    "    fname = os.path.join(jhk_dir, '{}.txt'.format(obj))\n",
    "    per = df_orig.per[df_orig.id == float(obj)].values[0]\n",
    "    mjd_dict = OrderedDict()\n",
    "    mags_dict = OrderedDict()\n",
    "    merr_dict = OrderedDict()\n",
    "    n_data = 0\n",
    "    mjds_name = '{}_mjds'.format(int(obj))\n",
    "    mags_name = '{}_mags'.format(int(obj))\n",
    "    merr_name = '{}_merr'.format(int(obj))\n",
    "    if os.path.exists(fname):\n",
    "        df = pd.read_csv(fname, delim_whitespace=True, names=['mjd','mag','merr','band','n'])\n",
    "        df_j = df[df.band==-5]\n",
    "        df_h = df[df.band==-1]\n",
    "        df_k = df[df.band==-2]\n",
    "        if df_j.shape[0] > 0:\n",
    "            mjd_dict['j'] = df_j.mjd.values\n",
    "            mags_dict['j'] = df_j.mag.values\n",
    "            merr_dict['j'] = df_j.merr.values\n",
    "            n_data += 1\n",
    "        if df_h.shape[0] > 0:\n",
    "            mjd_dict['h'] = df_h.mjd.values\n",
    "            mags_dict['h'] = df_h.mag.values\n",
    "            merr_dict['h'] = df_h.merr.values\n",
    "            n_data += 1\n",
    "        if df_j.shape[0] > 0:\n",
    "            mjd_dict['k'] = df_k.mjd.values\n",
    "            mags_dict['k'] = df_k.mag.values\n",
    "            merr_dict['k'] = df_k.merr.values\n",
    "            n_data += 1\n",
    "    else:\n",
    "        print 'file does not exist:', obj\n",
    "    if mjds_name in lc_3p6:\n",
    "        mjd_dict['3'] = lc_3p6[mjds_name]\n",
    "        mags_dict['3'] = lc_3p6[mags_name]\n",
    "        merr_dict['3'] = lc_3p6[merr_name]\n",
    "        n_data += 1\n",
    "    if mjds_name in lc_4p5:\n",
    "        mjd_dict['4'] = lc_4p5[mjds_name]\n",
    "        mags_dict['4'] = lc_4p5[mags_name]\n",
    "        merr_dict['4'] = lc_4p5[merr_name]\n",
    "        n_data += 1\n",
    "    if n_data > 0:\n",
    "        phased_dict = phase(mjd_dict,per)\n",
    "        for k,v in phased_dict.iteritems():\n",
    "            basename = '{}_{}'.format(int(obj),k)\n",
    "            lc_dict[basename + '_phase'] = pad_nan(v)\n",
    "            lc_dict[basename + '_mags'] = pad_nan(mags_dict[k])\n",
    "#         fig = plt.figure(figsize=(6,6))\n",
    "#         ax = fig.add_axes([0.1,0.09,0.725,0.85])\n",
    "#         for k,v in phased_dict.iteritems():\n",
    "#             p0 = ppl.errorbar(ax,v,mags_dict[k]-offset_dict[k],yerr=merr_dict[k],color=color_dict[k],\n",
    "#                          fmt='o', label='{}-{}'.format(name_dict[k],offset_dict[k]))\n",
    "#             ppl.errorbar(ax,v+1,mags_dict[k]-offset_dict[k],yerr=merr_dict[k],color=color_dict[k],\n",
    "#                          fmt='o', label=None)\n",
    "#             ppl.errorbar(ax,v+2,mags_dict[k]-offset_dict[k],yerr=merr_dict[k],color=color_dict[k],\n",
    "#                          fmt='o', label=None)\n",
    "#         maglist = np.concatenate([mags_dict[k] - offset_dict[k] for k in mags_dict.keys()])\n",
    "#         maglist = maglist.astype(float)[np.isfinite(maglist.astype(float))]\n",
    "#         ax.set_ylim(np.nanmax(maglist)+0.1,np.nanmin(maglist)-0.1)\n",
    "#         ax.set_xlim(-0.1,3.1)\n",
    "#         ax.set_xlabel('Phase')\n",
    "#         ax.set_ylabel('Mag')\n",
    "#         ax.set_title('V{} light curves'.format(int(obj)))\n",
    "#         try:\n",
    "#             leg = ppl.legend(loc='upper left',bbox_to_anchor=(1, 1),numpoints=1,handlelength=0)\n",
    "#         except:\n",
    "#             pass\n",
    "#         fig.savefig('../light_curves/all_{}_lightcurves.pdf'.format(int(obj)))\n",
    "    else:\n",
    "        print 'no data for', obj\n"
   ]
  },
  {
   "cell_type": "code",
   "execution_count": 75,
   "metadata": {
    "collapsed": false
   },
   "outputs": [],
   "source": [
    "lc_df = pd.DataFrame(lc_dict)\n",
    "lc_df.to_csv('final_data_files/lightcurves.csv',index=False)"
   ]
  },
  {
   "cell_type": "code",
   "execution_count": null,
   "metadata": {
    "collapsed": true
   },
   "outputs": [],
   "source": []
  }
 ],
 "metadata": {
  "kernelspec": {
   "display_name": "Python 2",
   "language": "python",
   "name": "python2"
  },
  "language_info": {
   "codemirror_mode": {
    "name": "ipython",
    "version": 2
   },
   "file_extension": ".py",
   "mimetype": "text/x-python",
   "name": "python",
   "nbconvert_exporter": "python",
   "pygments_lexer": "ipython2",
   "version": "2.7.11"
  }
 },
 "nbformat": 4,
 "nbformat_minor": 0
}
