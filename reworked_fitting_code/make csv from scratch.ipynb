{
 "cells": [
  {
   "cell_type": "code",
   "execution_count": 1,
   "metadata": {
    "collapsed": false
   },
   "outputs": [],
   "source": [
    "%matplotlib inline\n",
    "import glob\n",
    "import matplotlib.pyplot as plt\n",
    "import numpy as np\n",
    "import os\n",
    "import pandas as pd\n",
    "import prettyplotlib as ppl"
   ]
  },
  {
   "cell_type": "code",
   "execution_count": 2,
   "metadata": {
    "collapsed": false
   },
   "outputs": [],
   "source": [
    "# read in original Kaluz file, add columns we need and fill with nans so they can be overwritten\n",
    "\n",
    "df_orig = pd.read_csv('final_data_files/kaluzny_2004_rrl_reformat.csv',index_col='id')\n",
    "phot_bands = ['j','h','k','3','4']\n",
    "colnames = [['mag_{}'.format(i), 'merr_{}'.format(i)] for i in phot_bands]\n",
    "colnames += [['resid_{}'.format(i)] for i in phot_bands]\n",
    "colnames += [['photfeh','photfeh_err']]\n",
    "colnames = sum(colnames, [])\n",
    "for col in colnames:\n",
    "    df_orig[col] = np.nan"
   ]
  },
  {
   "cell_type": "code",
   "execution_count": 3,
   "metadata": {
    "collapsed": false
   },
   "outputs": [],
   "source": [
    "# ingest the oddly formatted JHK data\n",
    "\n",
    "# Light curve file columns:\n",
    "# MHJD is modified heliocentric julian date  =  HJD - 2400000.5\n",
    "# MAG is the mag on the 2MASS system\n",
    "# MER is the mag err\n",
    "# SRC is the src of photometry, 2 = Kaluzny Vband   3 = Kaluzny Bband\n",
    "# -1 = Fourstar H    -2 = Fourstar Ks  -5 = Fourstar J\n",
    "# NUM is the number of averaged measurements that went into MAG.  Should\n",
    "# be unity for everything\n",
    "\n",
    "jhk_dir = '../Omega_Cen_phot/'\n",
    "ids = df_orig.index.astype(int).astype(str).str.zfill(3).values\n",
    "for obj in ids:\n",
    "    fname = os.path.join(jhk_dir, '{}.txt'.format(obj))\n",
    "    if os.path.exists(fname):\n",
    "        row = df_orig[df_orig.index == float(obj)]\n",
    "        per = row.per.values[0]\n",
    "        df = pd.read_csv(fname, delim_whitespace=True, names=['mjd','mag','merr','band','n'])\n",
    "        df_j = df[df.band==-5]\n",
    "        df_h = df[df.band==-1]\n",
    "        df_k = df[df.band==-2]\n",
    "        if df_j.shape[0] > 0:\n",
    "            mag_j = np.log10(np.mean(10**df_j.mag))\n",
    "            merr_j = np.sqrt(np.sum(df_j.merr**2))/df_j.shape[0]\n",
    "            df_j_new = pd.DataFrame({'mag_j':mag_j,'merr_j':merr_j},index=[float(obj)])\n",
    "            df_orig.update(df_j_new)\n",
    "        if df_h.shape[0] > 0:\n",
    "            mag_h = np.log10(np.mean(10**df_h.mag))\n",
    "            merr_h = np.sqrt(np.sum(df_h.merr**2))/df_h.shape[0]\n",
    "            df_h_new = pd.DataFrame({'mag_h':mag_h,'merr_h':merr_h},index=[float(obj)])\n",
    "            df_orig.update(df_h_new)\n",
    "        if df_k.shape[0] > 0:\n",
    "            mag_k = np.log10(np.mean(10**df_k.mag))\n",
    "            merr_k = np.sqrt(np.sum(df_k.merr**2))/df_k.shape[0]\n",
    "            df_k_new = pd.DataFrame({'mag_k':mag_k,'merr_k':merr_k},index=[float(obj)])\n",
    "            df_orig.update(df_k_new)"
   ]
  },
  {
   "cell_type": "code",
   "execution_count": 4,
   "metadata": {
    "collapsed": false
   },
   "outputs": [],
   "source": [
    "# ingest gloess mags for 3.6 and 4.5\n",
    "\n",
    "cal_dir = '../calibrated_files/'\n",
    "for filt in ['3p6','4p5']:\n",
    "    cal_files = glob.glob(cal_dir + '*{}um_rrl_matched_to_kaluzny.cut'.format(filt))\n",
    "    for f in cal_files:\n",
    "        mag = 'mag_{}'.format(filt[0])\n",
    "        merr = 'merr_{}'.format(filt[0])\n",
    "        df = pd.read_csv(f,index_col='ID')\n",
    "        #print df.als_id\n",
    "        df.index = df.index.str.split('V').str.get(-1).astype(float)\n",
    "        df[mag] = df.Gloess_mag\n",
    "        df[merr] = df.Gloess_err\n",
    "        df_orig.update(df[[mag,merr]])"
   ]
  },
  {
   "cell_type": "code",
   "execution_count": 7,
   "metadata": {
    "collapsed": false
   },
   "outputs": [],
   "source": [
    "# ingest metallicities (rey only at this point)\n",
    "\n",
    "rey_csv = pd.read_csv('final_data_files/rey_2000.cat',delim_whitespace=True,index_col='id')\n",
    "df_orig.update(rey_csv[['photfeh','photfeh_err']])"
   ]
  },
  {
   "cell_type": "code",
   "execution_count": 10,
   "metadata": {
    "collapsed": false
   },
   "outputs": [],
   "source": [
    "df_orig.to_csv('final_data_files/all_possible_photometry.csv')"
   ]
  },
  {
   "cell_type": "code",
   "execution_count": null,
   "metadata": {
    "collapsed": true
   },
   "outputs": [],
   "source": []
  }
 ],
 "metadata": {
  "kernelspec": {
   "display_name": "Python 2",
   "language": "python",
   "name": "python2"
  },
  "language_info": {
   "codemirror_mode": {
    "name": "ipython",
    "version": 2
   },
   "file_extension": ".py",
   "mimetype": "text/x-python",
   "name": "python",
   "nbconvert_exporter": "python",
   "pygments_lexer": "ipython2",
   "version": "2.7.11"
  }
 },
 "nbformat": 4,
 "nbformat_minor": 0
}
