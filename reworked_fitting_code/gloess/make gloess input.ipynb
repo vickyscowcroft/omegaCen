{
 "cells": [
  {
   "cell_type": "code",
   "execution_count": 1,
   "metadata": {
    "collapsed": true
   },
   "outputs": [],
   "source": [
    "%matplotlib inline\n",
    "%config InlineBackend.figure_format='retina'\n",
    "import matplotlib.pyplot as plt\n",
    "import pandas as pd\n",
    "import numpy as np\n",
    "from astropy.coordinates import SkyCoord\n",
    "from astropy.io import fits\n",
    "from astropy.wcs import WCS\n",
    "from scipy.spatial import cKDTree\n",
    "from matplotlib import rc\n",
    "rc('font', **{'family': 'serif', 'serif': ['Computer Modern Roman'], 'size':14})\n",
    "rc('text', usetex=True)"
   ]
  },
  {
   "cell_type": "code",
   "execution_count": 61,
   "metadata": {
    "collapsed": false
   },
   "outputs": [],
   "source": [
    "def make_gloess_in(mapnum, filters):\n",
    "    g_outs = []\n",
    "    for filt in filters:\n",
    "        dates = pd.read_csv('dateslist.txt', names=['filt', 'mapnum', 'epoch', 'mjd'], delim_whitespace=True)\n",
    "        dates = dates[(dates.filt == filt) & (dates.mapnum == mapnum)].sort(columns='epoch')\n",
    "        names = ['id', 'x', 'y']#, 'm0', 'e0', 'm1', 'e1']\n",
    "        for i in range(14):\n",
    "            names.append('m{}'.format(i))\n",
    "            names.append('e{}'.format(i))\n",
    "        df = pd.read_csv('omegaCen_{}_{}um_rrl.raw'.format(mapnum, filt),\n",
    "                        delim_whitespace=True, names=names)\n",
    "        g = pd.read_csv('Kaluzny2004rrl.txt', delim_whitespace=True)\n",
    "        g_out = np.zeros((12,25))\n",
    "        g_out[:,0] = dates.mjd.values\n",
    "        g_out[:,2::2] += 9.9999\n",
    "        g_out[:,1::2] += 99.999\n",
    "        for i in range(len(df.id.values)):\n",
    "            starid = g.id[g.id == df.id.values[i]].values.astype(int)[0]\n",
    "            per = g.per[g.id == df.id.values[i]].values.astype(float)[0]\n",
    "            stuff = df[df.index==i]\n",
    "            mags = stuff[['m{}'.format(j) for j in range(1,13)]]\n",
    "            merrs = stuff[['e{}'.format(j) for j in range(1,13)]]\n",
    "            if filt == '3p6':\n",
    "                g_out[:,17] = mags\n",
    "                g_out[:,18] = merrs\n",
    "            else:\n",
    "                g_out[:,19] = mags\n",
    "                g_out[:,20] = merrs\n",
    "            f = open('{}_{}.gloess_in'.format(starid, filt), 'w')\n",
    "            f.write('{}\\n'.format(starid))\n",
    "            f.write('{}\\n'.format(per))\n",
    "            f.write('12\\n')\n",
    "            f.write('0.10 0.10 0.10 0.10 0.10 0.10 0.10 0.10 0.10 0.10 0.10 0.10\\n')\n",
    "            for k in g_out:\n",
    "                f.write(' '.join(map(str, k)) + '\\n')\n",
    "            f.close()"
   ]
  },
  {
   "cell_type": "code",
   "execution_count": 64,
   "metadata": {
    "collapsed": false
   },
   "outputs": [],
   "source": [
    "make_gloess_in(3, ['3p6','4p5'])"
   ]
  },
  {
   "cell_type": "code",
   "execution_count": null,
   "metadata": {
    "collapsed": true
   },
   "outputs": [],
   "source": [
    "import shutil\n",
    "for i in glob.glob('maybe_not_crap/*.eps'):\n",
    "    shutil.copy('fits/' + i.split('/')[-1].split('.')[0] + '.glo_avs', 'maybe_not_crap/')\n",
    "    shutil.copy('fits/' + i.split('/')[-1].split('.')[0] + '.glo_fits', 'maybe_not_crap/')"
   ]
  }
 ],
 "metadata": {
  "kernelspec": {
   "display_name": "Python 2",
   "language": "python",
   "name": "python2"
  },
  "language_info": {
   "codemirror_mode": {
    "name": "ipython",
    "version": 2
   },
   "file_extension": ".py",
   "mimetype": "text/x-python",
   "name": "python",
   "nbconvert_exporter": "python",
   "pygments_lexer": "ipython2",
   "version": "2.7.5"
  }
 },
 "nbformat": 4,
 "nbformat_minor": 0
}
