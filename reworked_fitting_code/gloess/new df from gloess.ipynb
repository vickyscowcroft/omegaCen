{
 "cells": [
  {
   "cell_type": "code",
   "execution_count": 6,
   "metadata": {
    "collapsed": true
   },
   "outputs": [],
   "source": [
    "%matplotlib inline\n",
    "import pandas as pd\n",
    "import numpy as np\n",
    "import glob"
   ]
  },
  {
   "cell_type": "code",
   "execution_count": 49,
   "metadata": {
    "collapsed": false
   },
   "outputs": [
    {
     "name": "stdout",
     "output_type": "stream",
     "text": [
      "   id  mag_j  merr_j  type  per  mag_h  merr_h  mag_k  merr_k  mag_3  merr_3  \\\n",
      "0   0      0       0     0    0      0       0      0       0      0       0   \n",
      "\n",
      "   mag_4  merr_4  mag_v  merr_v  mag_b  merr_b  \n",
      "0      0       0      0       0      0       0  \n",
      "\n",
      "[1 rows x 17 columns]\n"
     ]
    }
   ],
   "source": [
    "df_in = pd.read_csv('../final_data_files/uncrowded_photometry_bv.csv')\n",
    "df_new = pd.DataFrame(data=np.zeros((1,17)), columns=df_in.columns)\n",
    "print df_new\n",
    "\n",
    "def get_data(line):\n",
    "    mag = line.split('> = ')[1].split(' ')[0]\n",
    "    merr = line.split('dev = ')[1].split(' ')[0]\n",
    "    if mag == 'nan':\n",
    "        mag = np.nan\n",
    "    else:\n",
    "        mag = float(mag)\n",
    "    if merr == 'nan':\n",
    "        merr = np.nan\n",
    "    else:\n",
    "        merr == float(merr)\n",
    "    return mag, merr\n",
    "\n",
    "kaluz = pd.read_csv('../Kaluzny2004rrl.txt', delim_whitespace=True)\n",
    "\n",
    "def parse_gloess_output(gloessfile, df_new):\n",
    "    starid = int(gloessfile.split('/')[1].split('.')[0])\n",
    "    nanarray = np.zeros((1,17))\n",
    "    nanarray[nanarray == 0] = np.nan\n",
    "    new_row = pd.DataFrame(data = nanarray, columns=df_in.columns)\n",
    "    new_row.id = starid\n",
    "    new_row.per = kaluz.per[kaluz.id == starid].values[0]\n",
    "    new_row.type = kaluz.type[kaluz.id == starid].values[0]\n",
    "    f = open(gloessfile)\n",
    "    for line in f:\n",
    "        mag, merr = get_data(line)\n",
    "        if line.startswith('<B'):\n",
    "            new_row.mag_b = mag\n",
    "            new_row.merr_b = merr\n",
    "        if line.startswith('<V'):\n",
    "            new_row.mag_v = mag\n",
    "            new_row.merr_v = merr\n",
    "        if line.startswith('<J'):\n",
    "            new_row.mag_j = mag\n",
    "            new_row.merr_j = merr\n",
    "        if line.startswith('<H'):\n",
    "            new_row.mag_h = mag\n",
    "            new_row.merr_h = merr\n",
    "        if line.startswith('<K'):\n",
    "            new_row.mag_k = mag\n",
    "            new_row.merr_k = merr\n",
    "        if line.startswith('<[3'):\n",
    "            new_row.mag_3 = mag\n",
    "            new_row.merr_3 = merr\n",
    "        if line.startswith('<[4'):\n",
    "            new_row.mag_4 = mag\n",
    "            new_row.merr_4 = merr\n",
    "    f.close()\n",
    "    df_new = pd.concat([df_new, new_row], ignore_index=True)\n",
    "    return df_new"
   ]
  },
  {
   "cell_type": "code",
   "execution_count": 51,
   "metadata": {
    "collapsed": false
   },
   "outputs": [],
   "source": [
    "for i in glob.glob('multiband_output/*.glo_avs'):\n",
    "    df_new = parse_gloess_output(i, df_new)"
   ]
  },
  {
   "cell_type": "code",
   "execution_count": 60,
   "metadata": {
    "collapsed": false
   },
   "outputs": [],
   "source": [
    "df_new = df_new.drop(df_new[df_new.id == 0].index).sort(columns='id')"
   ]
  },
  {
   "cell_type": "code",
   "execution_count": 62,
   "metadata": {
    "collapsed": false
   },
   "outputs": [],
   "source": [
    "df_new.to_csv('../final_data_files/photometry_gloess.csv', index=False)"
   ]
  },
  {
   "cell_type": "code",
   "execution_count": 78,
   "metadata": {
    "collapsed": false
   },
   "outputs": [],
   "source": [
    "df_out = df_new.merge(df_in, how='left', on=[i for i in df_new.columns])"
   ]
  },
  {
   "cell_type": "code",
   "execution_count": 79,
   "metadata": {
    "collapsed": true
   },
   "outputs": [],
   "source": [
    "df_out.to_csv('../final_data_files/photometry_gloess_samestars.csv', index=False)"
   ]
  },
  {
   "cell_type": "code",
   "execution_count": null,
   "metadata": {
    "collapsed": true
   },
   "outputs": [],
   "source": []
  }
 ],
 "metadata": {
  "kernelspec": {
   "display_name": "Python 2",
   "language": "python",
   "name": "python2"
  },
  "language_info": {
   "codemirror_mode": {
    "name": "ipython",
    "version": 2
   },
   "file_extension": ".py",
   "mimetype": "text/x-python",
   "name": "python",
   "nbconvert_exporter": "python",
   "pygments_lexer": "ipython2",
   "version": "2.7.5"
  }
 },
 "nbformat": 4,
 "nbformat_minor": 0
}
