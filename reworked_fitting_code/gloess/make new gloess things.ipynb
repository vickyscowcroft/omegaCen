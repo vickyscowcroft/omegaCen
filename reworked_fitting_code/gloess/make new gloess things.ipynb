{
 "cells": [
  {
   "cell_type": "code",
   "execution_count": 1,
   "metadata": {
    "collapsed": true
   },
   "outputs": [],
   "source": [
    "%matplotlib inline\n",
    "%config InlineBackend.figure_format='retina'\n",
    "import matplotlib.pyplot as plt\n",
    "import pandas as pd\n",
    "import numpy as np\n",
    "import os\n",
    "import glob\n",
    "from matplotlib import rc\n",
    "rc('font', **{'family': 'serif', 'serif': ['Computer Modern Roman'], 'size':14})\n",
    "rc('text', usetex=True)"
   ]
  },
  {
   "cell_type": "code",
   "execution_count": 8,
   "metadata": {
    "collapsed": false
   },
   "outputs": [],
   "source": [
    "kaluz = pd.read_csv('Kaluzny2004rrl.txt', delim_whitespace=True)\n",
    "for thing in glob.glob('Omega_Cen_phot/*.txt'):\n",
    "    starid = int(thing.split('/')[1].split('.')[0])\n",
    "    jhk = np.loadtxt(thing)\n",
    "    b = jhk[jhk[:,3] == 3]\n",
    "    v = jhk[jhk[:,3] == 2]\n",
    "    j = jhk[jhk[:,3] == -5]\n",
    "    h = jhk[jhk[:,3] == -1]\n",
    "    k = jhk[jhk[:,3] == -2]\n",
    "    per = kaluz.per[kaluz.id == starid].values[0]\n",
    "    all_out = []\n",
    "    for index,i in {'3':b,'5':v,'11':j,'13':h,'15':k}.iteritems():\n",
    "        if i.shape[0] > 0:\n",
    "            g_out = np.zeros((len(i),25))\n",
    "            g_out[:,0] = i[:,0]\n",
    "            g_out[:,2::2] += 9.9999\n",
    "            g_out[:,1::2] += 99.999\n",
    "            g_out[:,int(index)] = i[:,1]\n",
    "            g_out[:,int(index)+1] = i[:,2]\n",
    "            all_out.append(g_out)\n",
    "    output = np.vstack(all_out)\n",
    "    if os.path.exists('irac/{}.gloess_in'.format(starid)):\n",
    "        irac = np.loadtxt('irac/{}.gloess_in'.format(starid), skiprows=4)\n",
    "        output = np.vstack([output, irac])\n",
    "    f = open('{}_multi.gloess_in'.format(starid), 'w')\n",
    "    f.write('{}\\n'.format(starid))\n",
    "    f.write('{}\\n'.format(per))\n",
    "    f.write('{}\\n'.format(len(output)))\n",
    "    f.write('0.10 0.10 0.10 0.10 0.20 0.20 0.20 0.20 0.20 0.20 0.20 0.20\\n')\n",
    "    for line in output:\n",
    "        f.write(' '.join(map(str, line)) + '\\n')\n",
    "    f.close()"
   ]
  },
  {
   "cell_type": "code",
   "execution_count": 22,
   "metadata": {
    "collapsed": false
   },
   "outputs": [],
   "source": [
    "irac = np.loadtxt('3.gloess_in', skiprows=4)\n",
    "three = irac[irac[:,17] != 99.999]\n",
    "three[:,17] = 99.999\n",
    "three[:,18] = 9.9999\n",
    "j_out = three.copy()\n",
    "j_out[:,0] = j[:,0]\n",
    "j_out[:,11] = j[:,1]\n",
    "j_out[:,12] = j[:,2]\n",
    "h_out = three.copy()\n",
    "h_out[:,0] = h[:,0]\n",
    "h_out[:,13] = h[:,1]\n",
    "h_out[:,14] = h[:,2]\n",
    "k_out = three.copy()\n",
    "k_out[:,0] = k[:,0]\n",
    "k_out[:,15] = k[:,1]\n",
    "k_out[:,16] = k[:,2]\n",
    "out = np.vstack([irac, j_out, h_out, k_out])"
   ]
  },
  {
   "cell_type": "code",
   "execution_count": 25,
   "metadata": {
    "collapsed": false
   },
   "outputs": [],
   "source": [
    "f = open('3.gloess_in')\n",
    "head = list(f)[:4]\n",
    "f.close()\n",
    "head\n",
    "f = open('multiband_test.gloess_in', 'w')\n",
    "f.write(''.join(head))\n",
    "for i in out:\n",
    "    f.write(' '.join(map(str, i)) + '\\n')\n",
    "f.close()"
   ]
  },
  {
   "cell_type": "code",
   "execution_count": null,
   "metadata": {
    "collapsed": true
   },
   "outputs": [],
   "source": []
  }
 ],
 "metadata": {
  "kernelspec": {
   "display_name": "Python 2",
   "language": "python",
   "name": "python2"
  },
  "language_info": {
   "codemirror_mode": {
    "name": "ipython",
    "version": 2
   },
   "file_extension": ".py",
   "mimetype": "text/x-python",
   "name": "python",
   "nbconvert_exporter": "python",
   "pygments_lexer": "ipython2",
   "version": "2.7.5"
  }
 },
 "nbformat": 4,
 "nbformat_minor": 0
}
