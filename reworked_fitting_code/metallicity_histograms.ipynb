{
 "cells": [
  {
   "cell_type": "code",
   "execution_count": 1,
   "metadata": {
    "collapsed": false
   },
   "outputs": [
    {
     "name": "stderr",
     "output_type": "stream",
     "text": [
      "/Users/Meredith/anaconda2/lib/python2.7/site-packages/matplotlib/font_manager.py:273: UserWarning: Matplotlib is building the font cache using fc-list. This may take a moment.\n",
      "  warnings.warn('Matplotlib is building the font cache using fc-list. This may take a moment.')\n"
     ]
    }
   ],
   "source": [
    "%matplotlib inline\n",
    "%config InlineBackend.figure_format='retina'\n",
    "import numpy as np\n",
    "import pandas as pd\n",
    "import prettyplotlib as ppl\n",
    "from scipy.optimize import curve_fit\n",
    "from matplotlib import pyplot as plt\n",
    "from matplotlib import rc\n",
    "rc('font', **{'family': 'serif', 'serif': ['Computer Modern Roman'], 'size':14})\n",
    "rc('text', usetex=True)"
   ]
  },
  {
   "cell_type": "code",
   "execution_count": 2,
   "metadata": {
    "collapsed": false
   },
   "outputs": [
    {
     "name": "stdout",
     "output_type": "stream",
     "text": [
      "['id' 'type' 'per' 'mag_j' 'merr_j' 'mag_h' 'merr_h' 'mag_k' 'merr_k'\n",
      " 'mag_3' 'merr_3' 'mag_4' 'merr_4' 'resid_m4_j' 'resid_m4_h' 'resid_m4_k'\n",
      " 'resid_m4_3' 'resid_m4_4' 'photfeh' 'photfeh_err' 'spectfeh'\n",
      " 'spectfeh_err']\n"
     ]
    }
   ],
   "source": [
    "# read in dataframe\n",
    "df = pd.read_csv('final_data_files/uncrowded_everything_m4_clipped.csv')#_clipped.csv')\n",
    "\n",
    "# show column names for reference\n",
    "print df.columns.values"
   ]
  },
  {
   "cell_type": "code",
   "execution_count": 3,
   "metadata": {
    "collapsed": false
   },
   "outputs": [
    {
     "name": "stdout",
     "output_type": "stream",
     "text": [
      "74\n",
      "34\n",
      "15\n"
     ]
    }
   ],
   "source": [
    "print len(df.spectfeh[np.isfinite(df.spectfeh)])\n",
    "print len(df.spectfeh[np.isfinite(df.spectfeh) & np.isfinite(df.type)])\n",
    "print len(df.spectfeh[np.isfinite(df.spectfeh) & df.type.isin([1, 1.])])\n"
   ]
  },
  {
   "cell_type": "code",
   "execution_count": 4,
   "metadata": {
    "collapsed": false
   },
   "outputs": [],
   "source": [
    "df_s = pd.read_csv('final_data_files/sollima_2006.cat', delim_whitespace=True, index_col=False)\n",
    "df_p = pd.read_csv('final_data_files/rey_2000.cat', delim_whitespace=True, index_col=False)"
   ]
  },
  {
   "cell_type": "code",
   "execution_count": 5,
   "metadata": {
    "collapsed": false
   },
   "outputs": [
    {
     "name": "stdout",
     "output_type": "stream",
     "text": [
      "(163, 22)\n",
      "(48, 22)\n",
      "(51, 22)\n"
     ]
    }
   ],
   "source": [
    "dfab = df[df.type == 0]\n",
    "dfc = df[df.type == 1]\n",
    "\n",
    "print df.shape\n",
    "print dfab.shape\n",
    "print dfc.shape"
   ]
  },
  {
   "cell_type": "code",
   "execution_count": 6,
   "metadata": {
    "collapsed": true
   },
   "outputs": [],
   "source": [
    "# get color and color error values\n",
    "df['color'] = df.mag_3 - df.mag_4\n",
    "df['color_err'] = np.sqrt(df.merr_3**2 + df.merr_4**2)"
   ]
  },
  {
   "cell_type": "code",
   "execution_count": 7,
   "metadata": {
    "collapsed": false
   },
   "outputs": [],
   "source": [
    "# select only rows with non-nan residuals; this is equivalent\n",
    "# to selecting rows with data in all wavelengths\n",
    "condition_1 = (np.isfinite(df.resid_m4_3))\n",
    "# select only rows with non-nan spectroscopic metallicities\n",
    "condition_2 = (np.isfinite(df.spectfeh))\n",
    "# select only rows with non-nan photometric metallicities\n",
    "condition_3 = (np.isfinite(df.photfeh))\n",
    "\n",
    "# create new dataframes based on conditions\n",
    "# star with id=103 is an outlier so we take it out\n",
    "# and make a new dataframe with it so it's\n",
    "# excluded from the linear fit but still plottable\n",
    "df1 = df[condition_1 & condition_2]\n",
    "df2 = df[condition_1 & condition_3]\n",
    "\n",
    "# create lists of values for use in the plotting loop\n",
    "# order is important here\n",
    "resids = [df1.resid_m4_3, df2.resid_m4_3, df1.resid_m4_4, df2.resid_m4_4]\n",
    "fehs = [df1.spectfeh, df2.photfeh, df1.spectfeh, df2.photfeh]\n",
    "resid_errs = [df1.merr_3, df2.merr_3, df1.merr_4, df2.merr_4]\n",
    "feh_errs = [df1.spectfeh_err, df2.photfeh_err, df1.spectfeh_err, df2.photfeh_err]\n",
    "\n",
    "dfs = [df1, df2, df1, df2]\n",
    "\n",
    "def get_type_list(inlist):\n",
    "    outlist = []\n",
    "    for i,obj in enumerate(inlist):\n",
    "        outlist.append(obj[dfs[i].type==0])\n",
    "    for i,obj in enumerate(inlist):\n",
    "        outlist.append(obj[dfs[i].type==1])\n",
    "    outlist = outlist[:2] + outlist[4:6] + outlist[2:4] + outlist[6:]\n",
    "    return outlist\n",
    "\n",
    "labels=['RRab, spectroscopic, [3.6]',\n",
    "        'RRab, photometric, [3.6]',\n",
    "        'RRab, spectroscopic, [4.5]',\n",
    "        'RRab, photometric, [4.5]',\n",
    "        'RRc, spectroscopic, [3.6]',\n",
    "        'RRc, photometric, [3.6]',\n",
    "        'RRc, spectroscopic, [4.5]',\n",
    "        'RRc, photometric, [4.5]']\n",
    "\n",
    "labels = labels[:2] + labels[4:6] + labels[2:4] + labels[6:]\n",
    "\n",
    "resids2 = get_type_list(resids)\n",
    "fehs2 = get_type_list(fehs)\n",
    "resid_errs2 = get_type_list(resid_errs)\n",
    "feh_errs2 = get_type_list(feh_errs)"
   ]
  },
  {
   "cell_type": "code",
   "execution_count": 9,
   "metadata": {
    "collapsed": false
   },
   "outputs": [
    {
     "name": "stdout",
     "output_type": "stream",
     "text": [
      "74 57 38 36\n",
      "0.227658892707\n",
      "0.274900432764\n",
      "0.117473401245\n",
      "0.282881993457\n"
     ]
    },
    {
     "data": {
      "image/png": "[encoded data removed]",
      "text/plain": [
       "<matplotlib.figure.Figure at 0x107e6e410>"
      ]
     },
     "metadata": {
      "image/png": {
       "height": 415,
       "width": 560
      }
     },
     "output_type": "display_data"
    }
   ],
   "source": [
    "fig, ((ax1, ax2), (ax3, ax4)) = plt.subplots(2, 2, sharey=True, sharex=True, figsize=(8,6))\n",
    "ax = [ax1, ax2, ax3, ax4]\n",
    "\n",
    "phot = df_p.photfeh[np.isfinite(df_p.photfeh)].values\n",
    "spect = df_s.spectfeh[np.isfinite(df_s.spectfeh)].values\n",
    "\n",
    "photab = df_p.photfeh[(df_p.type == 0)].values\n",
    "photc = df_p.photfeh[(df_p.type == 1)].values\n",
    "spectab = df_s.spectfeh[(df_s.type == 0)].values\n",
    "spectc = df_s.spectfeh[(df_s.type == 1)].values\n",
    "\n",
    "print len(photab), len(photc), len(spectab), len(spectc)\n",
    "\n",
    "from astroML.plotting import hist\n",
    "\n",
    "n, b, patches = hist(phot, bins='knuth', alpha=0)\n",
    "bins = np.linspace(b.min(), b.max(), len(b)*1.2)\n",
    "# bins = np.linspace(phot.min() + 0.5*phot.min(),phot.max()-0.5*phot.max(),84)\n",
    "\n",
    "\n",
    "ax1.hist(spectab, bins=bins, histtype='stepfilled', color='#346598', linewidth=0.5, alpha=0.3, label='All values')\n",
    "ax2.hist(photab, bins=bins, histtype='stepfilled', color='#346598', linewidth=0.5, alpha=0.3)\n",
    "ax3.hist(spectc, bins=bins, histtype='stepfilled', color='#346598', linewidth=0.5, alpha=0.3)\n",
    "ax4.hist(photc, bins=bins, histtype='stepfilled', color='#346598', linewidth=0.5, alpha=0.3)\n",
    "\n",
    "# plot the things\n",
    "for i in range(4):\n",
    "    print np.std(fehs2[i].values)\n",
    "    ax[i].hist(fehs2[i].values, bins=bins, color='#346598', histtype='stepfilled', label='In sample', linewidth=0.5)\n",
    "    ax[i].text(-0.9,13.6,'$N={}$'.format(len(fehs2[i].values)), ha='right')\n",
    "    ppl.plot(ax[i], [],[])\n",
    "ax3.set_xlabel('[Fe/H], spectroscopic')\n",
    "ax4.set_xlabel('[Fe/H], photometric')\n",
    "ax1.set_ylabel('RRab count')\n",
    "ax3.set_ylabel('RRc count')\n",
    "ax1.set_ylim(0.,15.5)\n",
    "ax1.set_yticks(np.linspace(0,15,6))\n",
    "ax1.set_xlim(-2.3,-0.85)\n",
    "ppl.legend(ax1, loc='upper left', prop={'size':14}, handlelength = 1)\n",
    "\n",
    "fig.tight_layout()\n",
    "fig.subplots_adjust(hspace=0.1)\n",
    "fig.savefig('final_plots/metallicity_hists.pdf')"
   ]
  },
  {
   "cell_type": "code",
   "execution_count": 4,
   "metadata": {
    "collapsed": false
   },
   "outputs": [
    {
     "name": "stdout",
     "output_type": "stream",
     "text": [
      "(0.2470876931633728, 0.24327077377764283, 0.247, 0.24299999999999999)\n",
      "(0.38337682463248957, 0.20831356437534834, 0.38300000000000001, 0.20799999999999999)\n",
      "(0.6421004153707596, 0.6321814854085399, 0.64200000000000002, 0.63200000000000001)\n",
      "(1.4210604745904103, 0.7721545843013004, 1.421, 0.77200000000000002)\n"
     ]
    }
   ],
   "source": [
    "#3.6 ab 0.0609201346162 / 0.249645871069  / 0.253562815756\n",
    "#3.6 c 0.0460132246303 / 0.132020153718  / 0.242967698583\n",
    "#4.5 ab 0.160184654133 / 0.249645871069  / 0.253562815756\n",
    "#4.5 c 0.187422270401 / 0.132020153718  / 0.242967698583\n",
    "\n",
    "# 3 ab 0.0877299290377 0.04 0.047870371665 0.0616844223902\n",
    "# 3 c 0.102368199291 0.079 0.0409453923154 0.0506134673199\n",
    "# 4 ab 0.172970474517 0.045 0.0468873844024 0.160297717509\n",
    "# 4 c 0.20180292728 0.057 0.0477328639205 0.187608622298\n",
    "import numpy as np\n",
    "\n",
    "sig = [0.0616844223902, 0.0506134673199, 0.160297717509, 0.187608622298]\n",
    "spect = [0.249645871069, 0.132020153718, 0.249645871069, 0.132020153718]\n",
    "phot = [0.253562815756, 0.242967698583, 0.253562815756, 0.242967698583]\n",
    "\n",
    "for i in range(4):\n",
    "    print (sig[i]/spect[i], sig[i]/phot[i], np.round(sig[i]/spect[i], decimals=3),\n",
    "           np.round(sig[i]/phot[i], decimals=3))"
   ]
  },
  {
   "cell_type": "code",
   "execution_count": null,
   "metadata": {
    "collapsed": true
   },
   "outputs": [],
   "source": []
  },
  {
   "cell_type": "code",
   "execution_count": null,
   "metadata": {
    "collapsed": true
   },
   "outputs": [],
   "source": []
  }
 ],
 "metadata": {
  "kernelspec": {
   "display_name": "Python 2",
   "language": "python",
   "name": "python2"
  },
  "language_info": {
   "codemirror_mode": {
    "name": "ipython",
    "version": 2
   },
   "file_extension": ".py",
   "mimetype": "text/x-python",
   "name": "python",
   "nbconvert_exporter": "python",
   "pygments_lexer": "ipython2",
   "version": "2.7.11"
  }
 },
 "nbformat": 4,
 "nbformat_minor": 0
}
