{
 "cells": [
  {
   "cell_type": "code",
   "execution_count": 1,
   "metadata": {
    "collapsed": false
   },
   "outputs": [],
   "source": [
    "%matplotlib inline\n",
    "%config InlineBackend.figure_format='retina'\n",
    "import brewer2mpl\n",
    "import matplotlib.pyplot as plt\n",
    "import pandas as pd\n",
    "import prettyplotlib as ppl\n",
    "import numpy as np\n",
    "import scipy\n",
    "import scipy.stats as stats\n",
    "from astropy.modeling import models, fitting\n",
    "from cycler import cycler\n",
    "from scipy import signal\n",
    "from scipy.optimize import curve_fit\n",
    "from matplotlib import rc\n",
    "set2 = brewer2mpl.get_map('Set2', 'qualitative', 8).mpl_colors\n",
    "rc('font', **{'family': 'serif', 'serif': ['Computer Modern Roman'], 'size':14})\n",
    "rc('text', usetex=True)\n",
    "rc('lines', linewidth=2)\n",
    "rc('axes', prop_cycle=cycler('color', set2))"
   ]
  },
  {
   "cell_type": "code",
   "execution_count": 5,
   "metadata": {
    "collapsed": false
   },
   "outputs": [
    {
     "name": "stdout",
     "output_type": "stream",
     "text": [
      "0.047870371665 0.0877299290378\n"
     ]
    }
   ],
   "source": [
    "df = pd.read_csv('final_data_files/uncrowded_everything_m4_clipped.csv')\n",
    "df_ab = df[df.type == 0]\n",
    "df_c = df[df.type == 1]\n",
    "\n",
    "df1 = df_ab\n",
    "if df1.type.any() == 0:\n",
    "    dftype = 'ab'\n",
    "    intrinsic_width = 0.035\n",
    "else:\n",
    "    dftype = 'c'\n",
    "    intrinsic_width = 0.021\n",
    "\n",
    "filt = '3'\n",
    "\n",
    "if (filt == '4') & (dftype == 'ab'):\n",
    "    intrinsic_width = 0.036\n",
    "\n",
    "resid_finite = np.isfinite(df1.resid_m4_3.values)\n",
    "resid3 = df1['resid_m4_' + filt].values[resid_finite]\n",
    "merr3 = df1['merr_' + filt].values[resid_finite]\n",
    "\n",
    "delta = 1e-4\n",
    "big_grid = np.arange(-1,1,delta)\n",
    "errscale = np.mean(merr3)\n",
    "obsscale = np.std(resid3)\n",
    "print errscale, obsscale"
   ]
  },
  {
   "cell_type": "code",
   "execution_count": null,
   "metadata": {
    "collapsed": false
   },
   "outputs": [],
   "source": [
    "full_width_of_PL = np.sqrt(12.)*intrinsic_width\n",
    "center_of_PL = -full_width_of_PL / 2\n",
    "intrinsic = stats.uniform(loc=center_of_PL,scale=full_width_of_PL)\n",
    "photometric = stats.norm(loc=0,scale=errscale)\n",
    "observed = stats.norm(loc=0,scale=obsscale)\n",
    "\n",
    "## Setting up the PDFs and PMFs for the components\n",
    "pmf_i = intrinsic.pdf(big_grid)*delta\n",
    "pmf_p = photometric.pdf(big_grid)*delta\n",
    "pmf_o = observed.pdf(big_grid)*delta\n",
    "\n",
    "#convolve \n",
    "conv_pmf = scipy.signal.fftconvolve(pmf_i,pmf_p,'same')\n",
    "conv_pmf = conv_pmf/sum(conv_pmf)\n",
    "\n",
    "fig = plt.figure()\n",
    "ppl.plot(big_grid,pmf_i, label='Intrinsic PL', linewidth=2, alpha=0.8)\n",
    "plt.plot(big_grid,pmf_p, label='Mean phot $\\sigma$', alpha=0.8)\n",
    "#plt.plot(big_grid,pmf_o, label='Observed PL', alpha=0.8)\n",
    "plt.plot(big_grid,conv_pmf, label='Intrinsic + phot', alpha=0.8)\n",
    "plt.plot(big_grid, pmf_o, label='Observed PL')\n",
    "ppl.legend(prop={'size':14})\n",
    "#plt.suptitle('Observed PL relation and known components')\n",
    "ylim = np.array([-0.00002, 0.0009])\n",
    "plt.ylim(ylim)\n",
    "plt.xlim(-0.45,0.55)\n",
    "plt.xlabel('Deviation from PL (mag)')\n",
    "plt.ylabel('Probability')\n",
    "fig.tight_layout()\n",
    "fig.savefig('final_plots/distributions_nofeh_{}_{}_gaussian.pdf'.format(dftype, filt))"
   ]
  },
  {
   "cell_type": "code",
   "execution_count": null,
   "metadata": {
    "collapsed": true
   },
   "outputs": [],
   "source": [
    "# so we divide big_grid by a scale factor to force the metallicity distribution\n",
    "# to fit within the observed distribution\n",
    "# this is essentially the same as changing the width of a gaussian\n",
    "# i really can't explain rigorously why this works but it does\n",
    "\n",
    "# this gets the pseudo-pdf for the rescaled metallicity distribution\n",
    "\n",
    "def get_pmf_m(big_grid, stddev):\n",
    "    mpdf = stats.norm(loc=0,scale=stddev)\n",
    "    pmf_m = mpdf.pdf(big_grid)\n",
    "    return pmf_m / sum(pmf_m)"
   ]
  },
  {
   "cell_type": "code",
   "execution_count": null,
   "metadata": {
    "collapsed": true
   },
   "outputs": [],
   "source": [
    "# this convolves the metallicity distribution with the previous convolution\n",
    "# of the intrinsic distribution and photometric errors\n",
    "\n",
    "def get_convolved_m(big_grid, stddev):\n",
    "    pmf_m = get_pmf_m(big_grid, stddev)\n",
    "    metallicity_convolved = scipy.signal.fftconvolve(conv_pmf, pmf_m, 'same')\n",
    "    metallicity_convolved = metallicity_convolved/sum(metallicity_convolved)\n",
    "    return metallicity_convolved"
   ]
  },
  {
   "cell_type": "code",
   "execution_count": null,
   "metadata": {
    "collapsed": false
   },
   "outputs": [],
   "source": [
    "# this may be the worst fitting a thing to a thing I have ever done\n",
    "# optimize the scale factor on this shit\n",
    "\n",
    "popt, pcov = curve_fit(get_convolved_m, big_grid, pmf_o, p0 = 0.1)\n",
    "print 'Stddev of observed:', obsscale\n",
    "print 'Stddev of phot errors:', errscale\n",
    "print 'Stddev of metallicity:', popt[0]#, '$\\pm$', np.sqrt(np.diag(pcov))[0]"
   ]
  },
  {
   "cell_type": "code",
   "execution_count": null,
   "metadata": {
    "collapsed": false
   },
   "outputs": [],
   "source": [
    "pmf_m = get_pmf_m(big_grid, *popt)\n",
    "metallicity_convolved = get_convolved_m(big_grid, *popt)"
   ]
  },
  {
   "cell_type": "code",
   "execution_count": null,
   "metadata": {
    "collapsed": false
   },
   "outputs": [],
   "source": [
    "fig, (ax1, ax2) = plt.subplots(2,1,figsize=(6,6.5), sharex=True)\n",
    "\n",
    "ppl.plot(ax1, big_grid,pmf_i, label='Intrinsic PL', linewidth=2, alpha=0.8)\n",
    "ax1.plot(big_grid,pmf_p, label='Median phot $\\sigma$', alpha=0.8)\n",
    "#ax1.plot(big_grid,pmf_o, label='Observed PL', alpha=0.8)\n",
    "ax1.plot(big_grid,conv_pmf, alpha=0.)\n",
    "ax1.plot(big_grid,pmf_o, label='Observed PL', alpha=0.8)\n",
    "ax1.plot(big_grid,pmf_m, label=\"[Fe/H] model\", alpha=0.8)\n",
    "ax1.plot(big_grid,metallicity_convolved, label=\"Best model\", linestyle='--',\n",
    "         color='k', alpha=0.5)\n",
    "\n",
    "ppl.plot(ax2, big_grid,pmf_o, label='Observed PL',\n",
    "         color=set2[3], linewidth=2, alpha=0.8)\n",
    "ax2.plot(big_grid,metallicity_convolved, label=\"Best model\", linestyle='--',\n",
    "         color='k', alpha=0.5)\n",
    "\n",
    "ax2.set_xlabel('Deviation from PL (mag)')\n",
    "ax1.set_ylabel('Probability')\n",
    "ax2.set_ylabel('Probability')\n",
    "\n",
    "#title_text = 'Best fit metallicity model, scale factor = {:.3f}'.format(popt[0])\n",
    "ppl.legend(ax1, loc='best', prop={'size':14})\n",
    "ppl.legend(ax2, loc='best', prop={'size':14})\n",
    "#plt.suptitle(title_text)\n",
    "\n",
    "ax1.set_xlim(-0.45,0.55)\n",
    "ax1.set_ylim(ylim)\n",
    "ax2.set_ylim(ylim * np.max(pmf_o) / np.max(pmf_p))\n",
    "fig.tight_layout()\n",
    "fig.savefig('final_plots/distributions_{}_{}_gaussian.pdf'.format(dftype, filt))"
   ]
  },
  {
   "cell_type": "code",
   "execution_count": null,
   "metadata": {
    "collapsed": false
   },
   "outputs": [],
   "source": [
    "spect = df1.spectfeh[np.isfinite(df1.spectfeh) & resid_finite]\n",
    "phot = df1.photfeh[np.isfinite(df1.photfeh) & resid_finite]\n",
    "print (popt[0] / np.std(spect))\n",
    "print (popt[0] / np.std(phot))"
   ]
  },
  {
   "cell_type": "code",
   "execution_count": null,
   "metadata": {
    "collapsed": false
   },
   "outputs": [],
   "source": [
    "print np.sqrt(errscale**2 + popt[0]**2 + full_width_of_PL**2) - obsscale"
   ]
  },
  {
   "cell_type": "code",
   "execution_count": null,
   "metadata": {
    "collapsed": true
   },
   "outputs": [],
   "source": []
  }
 ],
 "metadata": {
  "kernelspec": {
   "display_name": "Python 2",
   "language": "python",
   "name": "python2"
  },
  "language_info": {
   "codemirror_mode": {
    "name": "ipython",
    "version": 2
   },
   "file_extension": ".py",
   "mimetype": "text/x-python",
   "name": "python",
   "nbconvert_exporter": "python",
   "pygments_lexer": "ipython2",
   "version": "2.7.11"
  }
 },
 "nbformat": 4,
 "nbformat_minor": 0
}
