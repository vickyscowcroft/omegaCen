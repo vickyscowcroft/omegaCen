{
 "cells": [
  {
   "cell_type": "code",
   "execution_count": 1,
   "metadata": {
    "collapsed": false
   },
   "outputs": [],
   "source": [
    "%matplotlib inline\n",
    "%config InlineBackend.figure_format='retina'\n",
    "import numpy as np\n",
    "import pandas as pd\n",
    "import prettyplotlib as ppl\n",
    "from pls_m4 import *\n",
    "from scipy.optimize import curve_fit\n",
    "from matplotlib import pyplot as plt\n",
    "from matplotlib import rc\n",
    "rc('font', **{'family': 'serif', 'serif': ['Computer Modern Roman'], 'size':14})\n",
    "rc('text', usetex=True)"
   ]
  },
  {
   "cell_type": "code",
   "execution_count": 2,
   "metadata": {
    "collapsed": false
   },
   "outputs": [],
   "source": [
    "df_orig = pd.read_csv('final_data_files/uncrowded_photometry.csv')\n",
    "df_orig.mag_4[df_orig.id==122] = -2.5*np.log10(np.mean(10**(df_orig.mag_4[df_orig.id==122] / -2.5)))\n",
    "df_orig.merr_4[df_orig.id==122] = np.mean(df_orig.merr_4[df_orig.id==122]) / np.sqrt(2)\n",
    "df_orig = df_orig.drop_duplicates()"
   ]
  },
  {
   "cell_type": "code",
   "execution_count": 3,
   "metadata": {
    "collapsed": false
   },
   "outputs": [
    {
     "name": "stdout",
     "output_type": "stream",
     "text": [
      "j 96\n",
      "h 96\n",
      "k 98\n",
      "3 36\n",
      "4 42\n"
     ]
    }
   ],
   "source": [
    "for label in ['j', 'h', 'k', '3', '4']:\n",
    "    print label, len(df_orig['mag_{}'.format(label)][np.isfinite(df_orig['mag_{}'.format(label)])])"
   ]
  },
  {
   "cell_type": "code",
   "execution_count": 4,
   "metadata": {
    "collapsed": false
   },
   "outputs": [],
   "source": [
    "bad_ids = [103, 107]#, 40, 169]#, 169] #120, , 357\n",
    "df_bad = df_orig[df_orig.id.isin(bad_ids)]\n",
    "df_bad_ab = df_bad[df_bad.type == 0]\n",
    "df_bad_c = df_bad[df_bad.type == 1]\n",
    "\n",
    "df = df_orig[~df_orig.id.isin(bad_ids)]"
   ]
  },
  {
   "cell_type": "code",
   "execution_count": 5,
   "metadata": {
    "collapsed": false
   },
   "outputs": [],
   "source": [
    "# things for plotting loop\n",
    "funcs = [j_ab, j_c, h_ab, h_c, k_ab, k_c, t_ab, t_c, f_ab, f_c]\n",
    "band_labels = ['j', 'h', 'k', '3', '4']\n",
    "band_names = ['J', 'H', 'K_s', '[3.6]', '[4.5]']\n",
    "cmap = plt.cm.get_cmap('gist_rainbow')\n",
    "plot_colors = list(reversed([cmap(i) for i in np.linspace(0,1,len(band_labels))]))\n",
    "mag_offset = [8, 6, 4, 2, 0]\n",
    "wavelength = [1.220, 1.630, 2.190, 3.550, 4.493]"
   ]
  },
  {
   "cell_type": "code",
   "execution_count": 6,
   "metadata": {
    "collapsed": false
   },
   "outputs": [
    {
     "name": "stdout",
     "output_type": "stream",
     "text": [
      "-1.56749344383 -1.56749344383\n"
     ]
    }
   ],
   "source": [
    "print feh_ab, feh_c"
   ]
  },
  {
   "cell_type": "code",
   "execution_count": 7,
   "metadata": {
    "collapsed": false
   },
   "outputs": [],
   "source": [
    "# select only the rows with photometry for all bands\n",
    "df1 = df[(np.isfinite(df.mag_j)) & (np.isfinite(df.mag_h)) & (np.isfinite(df.mag_k)) &\n",
    "        (np.isfinite(df.mag_3)) & (np.isfinite(df.mag_4))]"
   ]
  },
  {
   "cell_type": "code",
   "execution_count": 8,
   "metadata": {
    "collapsed": false
   },
   "outputs": [
    {
     "name": "stdout",
     "output_type": "stream",
     "text": [
      "J ab 13.8455241734 0.0232872263237 c 13.8499769496 0.0189502561563\n",
      "H ab 13.8003904239 0.0324757954895 c 13.8272033737 0.0255601206413\n",
      "K_s ab 13.7958352864 0.0252456468869 c 13.8144287349 0.0210288690058\n",
      "[3.6] ab 13.7503311889 0.0264515689129 c 13.8380616047 0.0308651734852\n",
      "[4.5] ab 13.7708312102 0.0521525603163 c 13.8897564007 0.0608458717668\n"
     ]
    },
    {
     "name": "stderr",
     "output_type": "stream",
     "text": [
      "/Users/mdurbin/anaconda2/lib/python2.7/site-packages/ipykernel/__main__.py:45: SettingWithCopyWarning: \n",
      "A value is trying to be set on a copy of a slice from a DataFrame.\n",
      "Try using .loc[row_indexer,col_indexer] = value instead\n",
      "\n",
      "See the caveats in the documentation: http://pandas.pydata.org/pandas-docs/stable/indexing.html#indexing-view-versus-copy\n",
      "/Users/mdurbin/anaconda2/lib/python2.7/site-packages/ipykernel/__main__.py:46: SettingWithCopyWarning: \n",
      "A value is trying to be set on a copy of a slice from a DataFrame.\n",
      "Try using .loc[row_indexer,col_indexer] = value instead\n",
      "\n",
      "See the caveats in the documentation: http://pandas.pydata.org/pandas-docs/stable/indexing.html#indexing-view-versus-copy\n",
      "/Users/mdurbin/anaconda2/lib/python2.7/site-packages/ipykernel/__main__.py:51: SettingWithCopyWarning: \n",
      "A value is trying to be set on a copy of a slice from a DataFrame.\n",
      "Try using .loc[row_indexer,col_indexer] = value instead\n",
      "\n",
      "See the caveats in the documentation: http://pandas.pydata.org/pandas-docs/stable/indexing.html#indexing-view-versus-copy\n",
      "/Users/mdurbin/anaconda2/lib/python2.7/site-packages/ipykernel/__main__.py:52: SettingWithCopyWarning: \n",
      "A value is trying to be set on a copy of a slice from a DataFrame.\n",
      "Try using .loc[row_indexer,col_indexer] = value instead\n",
      "\n",
      "See the caveats in the documentation: http://pandas.pydata.org/pandas-docs/stable/indexing.html#indexing-view-versus-copy\n"
     ]
    }
   ],
   "source": [
    "df_ab = df[df.type == 0]\n",
    "df_c = df[df.type == 1]\n",
    "\n",
    "df1_ab = df1[df1.type == 0]\n",
    "df1_c = df1[df1.type == 1]\n",
    "\n",
    "dmod_prior = 14.\n",
    "feh = -1.56749344383\n",
    "\n",
    "per_ab = np.log10(df1_ab.per)\n",
    "per_c = np.log10(df1_c.per)\n",
    "xspace_ab = np.linspace(np.min(per_ab) - 0.03, np.max(per_ab) + 0.03, 100)\n",
    "xspace_c = np.linspace(np.min(per_c) - 0.03, np.max(per_c) + 0.03, 100)\n",
    "\n",
    "distance_df = {}\n",
    "distance_df['wavelength'] = wavelength\n",
    "distance_df['dist_ab'] = []\n",
    "distance_df['dist_c'] = []\n",
    "distance_df['err_ab'] = []\n",
    "distance_df['err_c'] = []\n",
    "\n",
    "for i in range(5):\n",
    "    mag_ab = df1_ab['mag_' + band_labels[i]]\n",
    "    merr_ab = df1_ab['merr_' + band_labels[i]]\n",
    "    mag_c = df1_c['mag_' + band_labels[i]]\n",
    "    merr_c = df1_c['merr_' + band_labels[i]]\n",
    "    \n",
    "    # do the fitting\n",
    "    popt_ab, pcov_ab = curve_fit(funcs[i*2], per_ab, mag_ab, p0 = dmod_prior)\n",
    "    popt_c, pcov_c = curve_fit(funcs[i*2 + 1], per_c, mag_c, p0 = dmod_prior)\n",
    "    dist_ab, err_ab = popt_ab[0], np.sqrt(np.diag(pcov_ab))[0]\n",
    "    dist_c, err_c = popt_c[0], np.sqrt(np.diag(pcov_c))[0]\n",
    "    \n",
    "    distance_df['dist_ab'].append(dist_ab)\n",
    "    distance_df['err_ab'].append(err_ab)\n",
    "    distance_df['dist_c'].append(dist_c)\n",
    "    distance_df['err_c'].append(err_c)\n",
    "    \n",
    "    # fit lines for plotting + get residuals\n",
    "    linfit_ab = funcs[i*2](xspace_ab, dist_ab)\n",
    "    resid_ab = funcs[i*2](per_ab, dist_ab) - mag_ab\n",
    "    linfit_c = funcs[i*2 + 1](xspace_c, dist_c)\n",
    "    resid_c = funcs[i*2 + 1](per_c, dist_c) - mag_c\n",
    "    \n",
    "    df1_ab['resid_m4_' + band_labels[i]] = resid_ab\n",
    "    df1_c['resid_m4_' + band_labels[i]] = resid_c\n",
    "    \n",
    "    resid_ab_2 = funcs[i*2](np.log10(df_ab.per), dist_ab) - df_ab['mag_' + band_labels[i]]\n",
    "    resid_c_2 = funcs[i*2 + 1](np.log10(df_c.per), dist_c) - df_c['mag_' + band_labels[i]]\n",
    "    \n",
    "    df_ab['resid_all_' + band_labels[i]] = resid_ab_2\n",
    "    df_c['resid_all_' + band_labels[i]] = resid_c_2\n",
    "\n",
    "    print band_names[i], 'ab', dist_ab, err_ab, 'c', dist_c, err_c"
   ]
  },
  {
   "cell_type": "code",
   "execution_count": 9,
   "metadata": {
    "collapsed": false
   },
   "outputs": [
    {
     "name": "stderr",
     "output_type": "stream",
     "text": [
      "/Users/mdurbin/anaconda2/lib/python2.7/site-packages/ipykernel/__main__.py:7: FutureWarning: sort(columns=....) is deprecated, use sort_values(by=.....)\n"
     ]
    }
   ],
   "source": [
    "# incorporate residuals into full table and save\n",
    "\n",
    "df1_withresid = pd.concat([df_ab, df_c])\n",
    "df2_withresid = pd.concat([df1_ab, df1_c])\n",
    "df_withresid0 = df_orig.merge(df1_withresid, how='outer', on=list(set(df.keys()) & set(df1_withresid.keys())))\n",
    "df_withresid = df_withresid0.merge(df2_withresid, how='outer', on=list(set(df.keys()) & set(df1_withresid.keys())))\n",
    "df_withresid.sort('id', inplace=True)\n",
    "df_withresid.to_csv('final_data_files/uncrowded_withresid_all_clipped.csv', index=False)"
   ]
  },
  {
   "cell_type": "code",
   "execution_count": null,
   "metadata": {
    "collapsed": true
   },
   "outputs": [],
   "source": []
  }
 ],
 "metadata": {
  "kernelspec": {
   "display_name": "Python 2",
   "language": "python",
   "name": "python2"
  },
  "language_info": {
   "codemirror_mode": {
    "name": "ipython",
    "version": 2
   },
   "file_extension": ".py",
   "mimetype": "text/x-python",
   "name": "python",
   "nbconvert_exporter": "python",
   "pygments_lexer": "ipython2",
   "version": "2.7.11"
  }
 },
 "nbformat": 4,
 "nbformat_minor": 0
}
