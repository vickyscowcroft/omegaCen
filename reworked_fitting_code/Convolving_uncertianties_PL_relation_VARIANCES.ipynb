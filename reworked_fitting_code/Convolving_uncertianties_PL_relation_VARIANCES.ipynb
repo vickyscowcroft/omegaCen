{
 "cells": [
  {
   "cell_type": "code",
   "execution_count": 1,
   "metadata": {
    "collapsed": false
   },
   "outputs": [],
   "source": [
    "import pandas as pd\n",
    "import numpy as np"
   ]
  },
  {
   "cell_type": "code",
   "execution_count": 3,
   "metadata": {
    "collapsed": false
   },
   "outputs": [
    {
     "name": "stdout",
     "output_type": "stream",
     "text": [
      "3 ab 0.0877299290377 0.04 0.047870371665 0.0616844223902\n",
      "3 c 0.102368199291 0.079 0.0409453923154 0.0506134673199\n",
      "4 ab 0.172970474517 0.045 0.0468873844024 0.160297717509\n",
      "4 c 0.20180292728 0.057 0.0477328639205 0.187608622298\n"
     ]
    }
   ],
   "source": [
    "df = pd.read_csv('final_data_files/uncrowded_everything_m4_clipped.csv')\n",
    "df_ab = df[df.type == 0]\n",
    "df_c = df[df.type == 1]\n",
    "\n",
    "dfs = [df_ab, df_c, df_ab, df_c]\n",
    "filts = ['3', '3', '4', '4']\n",
    "\n",
    "for i in range(4):\n",
    "    df1 = dfs[i]\n",
    "    filt = filts[i]\n",
    "    if df1.type.any() == 0:\n",
    "        dftype = 'ab'\n",
    "    else:\n",
    "        dftype = 'c'\n",
    "    if (filt == '3') & (dftype == 'ab'):\n",
    "        intrinsic_width = 0.040\n",
    "    if (filt == '3') & (dftype == 'c'):\n",
    "        intrinsic_width = 0.079\n",
    "    if (filt == '4') & (dftype == 'ab'):\n",
    "        intrinsic_width = 0.045\n",
    "    if (filt == '4') & (dftype == 'c'):\n",
    "        intrinsic_width = 0.057\n",
    "    resid_finite = np.isfinite(df1.resid_m4_3.values)\n",
    "    resid3 = df1['resid_m4_' + filt].values[resid_finite]\n",
    "    merr3 = df1['merr_' + filt].values[resid_finite]\n",
    "    errscale = np.nanmean(merr3)\n",
    "    obsscale = np.std(resid3)\n",
    "    fehscale = np.sqrt(obsscale**2 - intrinsic_width**2 - errscale**2)\n",
    "    print filt, dftype, obsscale, intrinsic_width, errscale, fehscale"
   ]
  },
  {
   "cell_type": "code",
   "execution_count": 4,
   "metadata": {
    "collapsed": false
   },
   "outputs": [
    {
     "name": "stdout",
     "output_type": "stream",
     "text": [
      "3 ab 0.088 0.04 0.048 0.062\n",
      "3 c 0.102 0.079 0.041 0.05\n",
      "4 ab 0.173 0.045 0.047 0.16\n",
      "4 c 0.202 0.057 0.048 0.188\n"
     ]
    }
   ],
   "source": [
    "df = pd.read_csv('final_data_files/uncrowded_everything_m4_clipped.csv')\n",
    "df_ab = df[df.type == 0]\n",
    "df_c = df[df.type == 1]\n",
    "\n",
    "dfs = [df_ab, df_c, df_ab, df_c]\n",
    "filts = ['3', '3', '4', '4']\n",
    "\n",
    "for i in range(4):\n",
    "    df1 = dfs[i]\n",
    "    filt = filts[i]\n",
    "    if df1.type.any() == 0:\n",
    "        dftype = 'ab'\n",
    "    else:\n",
    "        dftype = 'c'\n",
    "    if (filt == '3') & (dftype == 'ab'):\n",
    "        intrinsic_width = 0.040\n",
    "    if (filt == '3') & (dftype == 'c'):\n",
    "        intrinsic_width = 0.079\n",
    "    if (filt == '4') & (dftype == 'ab'):\n",
    "        intrinsic_width = 0.045\n",
    "    if (filt == '4') & (dftype == 'c'):\n",
    "        intrinsic_width = 0.057\n",
    "    resid_finite = np.isfinite(df1.resid_m4_3.values)\n",
    "    resid3 = df1['resid_m4_' + filt].values[resid_finite]\n",
    "    merr3 = df1['merr_' + filt].values[resid_finite]\n",
    "    errscale = np.round(np.nanmean(merr3), decimals=3)\n",
    "    obsscale = np.round(np.std(resid3), decimals=3)\n",
    "    fehscale = np.round(np.sqrt(obsscale**2 - intrinsic_width**2 - errscale**2), decimals=3)\n",
    "    print filt, dftype, obsscale, intrinsic_width, errscale, fehscale"
   ]
  },
  {
   "cell_type": "code",
   "execution_count": null,
   "metadata": {
    "collapsed": true
   },
   "outputs": [],
   "source": []
  }
 ],
 "metadata": {
  "kernelspec": {
   "display_name": "Python 2",
   "language": "python",
   "name": "python2"
  },
  "language_info": {
   "codemirror_mode": {
    "name": "ipython",
    "version": 2
   },
   "file_extension": ".py",
   "mimetype": "text/x-python",
   "name": "python",
   "nbconvert_exporter": "python",
   "pygments_lexer": "ipython2",
   "version": "2.7.11"
  }
 },
 "nbformat": 4,
 "nbformat_minor": 0
}
