{
 "cells": [
  {
   "cell_type": "code",
   "execution_count": 1,
   "metadata": {
    "collapsed": false
   },
   "outputs": [
    {
     "name": "stderr",
     "output_type": "stream",
     "text": [
      "/Users/mdurbin/anaconda2/lib/python2.7/site-packages/matplotlib/font_manager.py:273: UserWarning: Matplotlib is building the font cache using fc-list. This may take a moment.\n",
      "  warnings.warn('Matplotlib is building the font cache using fc-list. This may take a moment.')\n",
      "/Users/mdurbin/anaconda2/lib/python2.7/site-packages/pandas/computation/__init__.py:19: UserWarning: The installed version of numexpr 2.4.4 is not supported in pandas and will be not be used\n",
      "\n",
      "  UserWarning)\n"
     ]
    }
   ],
   "source": [
    "%matplotlib inline\n",
    "import pandas as pd\n",
    "import numpy as np\n",
    "import matplotlib.pyplot as plt"
   ]
  },
  {
   "cell_type": "code",
   "execution_count": 3,
   "metadata": {
    "collapsed": false
   },
   "outputs": [
    {
     "name": "stdout",
     "output_type": "stream",
     "text": [
      "j & RRab & 0.127 & 0.060 & 0.018 & 0.111 \\\\\n",
      "j & RRc & 0.082 & 0.040 & 0.015 & 0.070 \\\\\n",
      "h & RRab & 0.170 & 0.040 & 0.028 & 0.163 \\\\\n",
      "h & RRc & 0.107 & 0.020 & 0.024 & 0.102 \\\\\n",
      "k & RRab & 0.147 & 0.030 & 0.023 & 0.142 \\\\\n",
      "k & RRc & 0.089 & 0.020 & 0.021 & 0.084 \\\\\n",
      "3 & RRab & 0.124 & 0.040 & 0.052 & 0.106 \\\\\n",
      "3 & RRc & 0.096 & 0.079 & 0.044 & 0.034 \\\\\n",
      "4 & RRab & 0.154 & 0.045 & 0.046 & 0.140 \\\\\n",
      "4 & RRc & 0.219 & 0.057 & 0.054 & 0.205 \\\\\n"
     ]
    }
   ],
   "source": [
    "df = pd.read_csv('final_data_files/uncrowded_everything_all_clipped.csv')\n",
    "df_ab = df[df.type == 0]\n",
    "df_c = df[df.type == 1]\n",
    "\n",
    "dfs = [df_ab, df_c] * 5\n",
    "filts = ['j', 'j', 'h', 'h', 'k', 'k', '3', '3', '4', '4']\n",
    "\n",
    "intrinsic_dict = {'j_ab':0.060,'j_c':0.04,'h_ab':0.04,'h_c':0.02,'k_ab':0.03,'k_c':0.02,\n",
    "                  '3_ab':0.040,'3_c':0.079,'4_ab':0.045,'4_c':0.057}\n",
    "feh_dict = {}\n",
    "\n",
    "for i in range(10):\n",
    "    df1 = dfs[i]\n",
    "    filt = filts[i]\n",
    "    if df1.type.any() == 0:\n",
    "        dftype = 'ab'\n",
    "    else:\n",
    "        dftype = 'c'\n",
    "    intrinsic_width = intrinsic_dict['{}_{}'.format(filt,dftype)]\n",
    "    resid_finite = np.isfinite(df1['resid_all_' + filt].values)\n",
    "    resid3 = df1['resid_all_' + filt].values[resid_finite]\n",
    "    merr3 = df1['merr_' + filt].values[resid_finite]\n",
    "    errscale = np.nanmean(merr3)\n",
    "    obsscale = np.nanstd(resid3)\n",
    "    fehscale = np.sqrt(obsscale**2 - intrinsic_width**2 - errscale**2)\n",
    "    feh_dict['{}_{}'.format(filt,dftype)] = fehscale\n",
    "    print ' & '.join([filt, 'RR' + dftype] + \\\n",
    "                     ['{:.3f}'.format(i) for i in [obsscale, intrinsic_width, errscale, fehscale]]), r'\\\\'"
   ]
  },
  {
   "cell_type": "code",
   "execution_count": 16,
   "metadata": {
    "collapsed": false
   },
   "outputs": [
    {
     "name": "stdout",
     "output_type": "stream",
     "text": [
      "j & RRab & 0.215 & 0.262 & 0.515 & 0.423 \\\\\n",
      "j & RRc & 0.132 & 0.245 & 0.529 & 0.285 \\\\\n",
      "h & RRab & 0.215 & 0.260 & 0.760 & 0.627 \\\\\n",
      "h & RRc & 0.132 & 0.245 & 0.773 & 0.416 \\\\\n",
      "k & RRab & 0.215 & 0.258 & 0.659 & 0.549 \\\\\n",
      "k & RRc & 0.132 & 0.242 & 0.636 & 0.347 \\\\\n",
      "3 & RRab & 0.232 & 0.275 & 0.455 & 0.385 \\\\\n",
      "3 & RRc & 0.145 & 0.266 & 0.237 & 0.129 \\\\\n",
      "4 & RRab & 0.215 & 0.285 & 0.653 & 0.492 \\\\\n",
      "4 & RRc & 0.107 & 0.244 & 1.904 & 0.837 \\\\\n"
     ]
    }
   ],
   "source": [
    "for i in range(10):\n",
    "    df1 = dfs[i]\n",
    "    filt = filts[i]\n",
    "    if df1.type.any() == 0:\n",
    "        dftype = 'ab'\n",
    "    else:\n",
    "        dftype = 'c'\n",
    "    fehscale = feh_dict['{}_{}'.format(filt,dftype)]\n",
    "    resid_finite = np.isfinite(df1['resid_all_' + filt].values)\n",
    "    spect_finite = np.isfinite(df1['spectfeh'].values)\n",
    "    phot_finite = np.isfinite(df1['photfeh'].values)\n",
    "    spect = df1['spectfeh'].values[resid_finite & spect_finite]\n",
    "    phot = df1['photfeh'].values[resid_finite & phot_finite]\n",
    "    spectscale = np.nanstd(spect)\n",
    "    photscale = np.nanstd(phot)\n",
    "    gammaspect = fehscale / spectscale\n",
    "    gammaphot = fehscale / photscale\n",
    "    print ' & '.join([filt, 'RR' + dftype] + \\\n",
    "                     ['{:.3f}'.format(i) for i in [spectscale, photscale, gammaspect, gammaphot]]), r'\\\\'"
   ]
  },
  {
   "cell_type": "code",
   "execution_count": null,
   "metadata": {
    "collapsed": true
   },
   "outputs": [],
   "source": []
  }
 ],
 "metadata": {
  "kernelspec": {
   "display_name": "Python 2",
   "language": "python",
   "name": "python2"
  },
  "language_info": {
   "codemirror_mode": {
    "name": "ipython",
    "version": 2
   },
   "file_extension": ".py",
   "mimetype": "text/x-python",
   "name": "python",
   "nbconvert_exporter": "python",
   "pygments_lexer": "ipython2",
   "version": "2.7.11"
  }
 },
 "nbformat": 4,
 "nbformat_minor": 0
}
