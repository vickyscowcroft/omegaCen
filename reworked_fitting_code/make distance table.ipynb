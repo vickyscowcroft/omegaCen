{
 "cells": [
  {
   "cell_type": "code",
   "execution_count": 1,
   "metadata": {
    "collapsed": true
   },
   "outputs": [],
   "source": [
    "import numpy as np"
   ]
  },
  {
   "cell_type": "code",
   "execution_count": 38,
   "metadata": {
    "collapsed": false
   },
   "outputs": [
    {
     "name": "stdout",
     "output_type": "stream",
     "text": [
      "1.22 & $13.839 \\pm 0.022$ & $13.850 \\pm 0.019$ & $13.844 \\pm 0.015$ \\\\\n",
      "1.63 & $13.796 \\pm 0.030$ & $13.827 \\pm 0.026$ & $13.811 \\pm 0.020$ \\\\\n",
      "2.19 & $13.790 \\pm 0.024$ & $13.814 \\pm 0.021$ & $13.802 \\pm 0.016$ \\\\\n",
      "3.55 & $13.751 \\pm 0.024$ & $13.838 \\pm 0.031$ & $13.793 \\pm 0.019$ \\\\\n",
      "4.493 & $13.768 \\pm 0.048$ & $13.890 \\pm 0.061$ & $13.826 \\pm 0.038$ \\\\\n"
     ]
    }
   ],
   "source": [
    "f = np.loadtxt('final_data_files/dist_spect_m4_clipped.csv', skiprows=1, delimiter=',')\n",
    "\n",
    "# \\pm {:.3f} $ & $ {:.3f} \\pm {:.3f} $ & $ {:.3} \\pm {:.3f} $ \n",
    "\n",
    "for i in f:\n",
    "    print i[0], r'& ${:.3f} \\pm {:.3f}$ & ${:.3f} \\pm {:.3f}$ & ${:.3f} \\pm {:.3f}$ \\\\'.\\\n",
    "    format(i[1], i[2], i[3], i[4], i[5], i[6])"
   ]
  },
  {
   "cell_type": "code",
   "execution_count": null,
   "metadata": {
    "collapsed": true
   },
   "outputs": [],
   "source": []
  }
 ],
 "metadata": {
  "kernelspec": {
   "display_name": "Python 2",
   "language": "python",
   "name": "python2"
  },
  "language_info": {
   "codemirror_mode": {
    "name": "ipython",
    "version": 2
   },
   "file_extension": ".py",
   "mimetype": "text/x-python",
   "name": "python",
   "nbconvert_exporter": "python",
   "pygments_lexer": "ipython2",
   "version": "2.7.11"
  }
 },
 "nbformat": 4,
 "nbformat_minor": 0
}
