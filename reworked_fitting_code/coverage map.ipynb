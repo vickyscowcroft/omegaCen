{
 "cells": [
  {
   "cell_type": "code",
   "execution_count": null,
   "metadata": {
    "collapsed": false
   },
   "outputs": [],
   "source": [
    "%matplotlib inline\n",
    "%config InlineBackend.figure_format='retina'\n",
    "from matplotlib.patches import Rectangle\n",
    "import wcsaxes\n",
    "import glob\n",
    "import numpy as np\n",
    "import pandas as pd\n",
    "from matplotlib import pyplot as plt\n",
    "from astropy.io import fits\n",
    "import astropy.coordinates as coord\n",
    "import astropy.units as u\n",
    "from astropy.wcs import WCS\n",
    "import matplotlib.patheffects as PE\n",
    "import brewer2mpl\n",
    "set2 = brewer2mpl.get_map('Set2', 'qualitative', 8).mpl_colors\n",
    "dark2 = brewer2mpl.get_map('Dark2', 'qualitative', 8).mpl_colors\n",
    "import prettyplotlib as ppl\n",
    "from matplotlib import rc\n",
    "rc('font', **{'family': 'serif', 'serif': ['Computer Modern Roman'], 'size':14})\n",
    "rc('text', usetex=True)\n",
    "rc('axes', color_cycle=set2)"
   ]
  },
  {
   "cell_type": "code",
   "execution_count": null,
   "metadata": {
    "collapsed": false
   },
   "outputs": [],
   "source": [
    "hdu = fits.open('../../ocen_images/Omega_Cen_Ks.fits')\n",
    "wcs = wcsaxes.WCS(hdu[0].header)\n",
    "wcs2 = WCS(hdu[0].header)\n",
    "dat = hdu[0].data\n",
    "hdu.close()"
   ]
  },
  {
   "cell_type": "code",
   "execution_count": null,
   "metadata": {
    "collapsed": false
   },
   "outputs": [],
   "source": [
    "blerp = pd.read_csv('Kaluzny2004rrl.txt', usecols=[0,1,2,4], delim_whitespace=True)\n",
    "crowd = pd.read_csv('reject.csv')\n",
    "\n",
    "rej = blerp[blerp.id.isin(crowd.reject)]\n",
    "\n",
    "rejab = rej[rej.type == 0]\n",
    "rejc = rej[rej.type == 1]\n",
    "\n",
    "typeab = blerp[blerp.type == 0]\n",
    "typec = blerp[blerp.type == 1]\n",
    "\n",
    "def get_x_y(df):\n",
    "    ra1 = coord.Angle(df.ra, unit='hour')\n",
    "    abra = ra1.degree\n",
    "    dec1 = coord.Angle(df.dec, unit='deg')\n",
    "    abdec = dec1.degree\n",
    "    x1, y1 = wcs2.all_world2pix(abra, abdec, 1)\n",
    "    return x1, y1\n",
    "\n",
    "x1, y1 = get_x_y(typeab)\n",
    "x2, y2 = get_x_y(typec)\n",
    "x3, y3 = get_x_y(rejab)\n",
    "x4, y4 = get_x_y(rejc)"
   ]
  },
  {
   "cell_type": "code",
   "execution_count": null,
   "metadata": {
    "collapsed": false
   },
   "outputs": [],
   "source": [
    "fig = plt.figure(figsize=(9,8))\n",
    "ax = fig.add_axes([0.12,0.12,0.83,0.83], projection=wcs, aspect='equal', zorder=0)\n",
    "lon = ax.coords[0]\n",
    "lat = ax.coords[1]\n",
    "lat.set_separator(('$^{\\circ}$', '$^{\\prime}$', '$^{\\prime\\prime}$'))\n",
    "lon.set_separator(('$^d$', '$^m$', '$^s$'))\n",
    "dat[dat<1] = 1\n",
    "ax.imshow(np.log10(dat), vmin=2, vmax=3, origin='lower', cmap='Greys', zorder=0)\n",
    "ax.set_xlim(2200,dat.shape[1]-1100)\n",
    "ax.set_ylim(700,dat.shape[0]-100)\n",
    "for i in glob.glob('../../ocen_images/omegaCen_*.fits'):\n",
    "    mapnum = int(i.split('_')[2])\n",
    "    filt = i.split('_')[5].split('.')[0]\n",
    "    f = fits.open(i)\n",
    "    instrument_wcs = wcsaxes.WCS(f[0].header)\n",
    "    yshape = f[0].data.shape[0]\n",
    "    xshape = f[0].data.shape[1]\n",
    "    f.close()\n",
    "    if filt == '3p6um':\n",
    "        if mapnum == 1:\n",
    "            r = Rectangle((0, 0), xshape, yshape, linestyle='solid', linewidth = 3, facecolor='none',\n",
    "                          transform=ax.get_transform(instrument_wcs), edgecolor='k',\n",
    "                          label = '$3.6\\ \\mu$m', zorder = 5-mapnum)\n",
    "        else:\n",
    "            r = Rectangle((0, 0), xshape, yshape, linestyle='solid', linewidth = 3, facecolor='none',\n",
    "                          transform=ax.get_transform(instrument_wcs), edgecolor='k', zorder = 5-mapnum)\n",
    "    if filt == '4p5um':\n",
    "        if mapnum == 1:\n",
    "            r = Rectangle((0, 0), xshape, yshape, linestyle='solid', linewidth = 2, facecolor='none',\n",
    "                          transform=ax.get_transform(instrument_wcs), edgecolor='w',\n",
    "                          label = '$4.5\\ \\mu$m', zorder = 5-mapnum,\n",
    "                          path_effects=[PE.withStroke(linewidth=3, foreground='k')])\n",
    "        else:\n",
    "            r = Rectangle((0, 0), xshape, yshape, linestyle='solid', linewidth = 2, facecolor='none',\n",
    "                          transform=ax.get_transform(instrument_wcs), edgecolor='w', zorder = 5-mapnum,\n",
    "                          path_effects=[PE.withStroke(linewidth=3.5, foreground='k')])\n",
    "    ax.add_patch(r)\n",
    "ppl.plot(ax, x1, y1, 'o', alpha=1, zorder=0, color=set2[3],\n",
    "            linewidth=1, markersize=6, label='RRab', rasterized=True)\n",
    "ppl.plot(ax, x2, y2, '^', alpha=1, zorder=0, color=set2[3],\n",
    "            linewidth=1, markersize=7, label='RRc', rasterized=True)\n",
    "ppl.plot(ax, x3, y3, 'o', alpha=1, zorder=0, color=set2[2],\n",
    "            linewidth=1, markersize=6, label='RRab', rasterized=True)\n",
    "ppl.plot(ax, x4, y4, '^', alpha=1, zorder=0, color=set2[2],\n",
    "            linewidth=1, markersize=7, label='RRc', rasterized=True)\n",
    "plt.xlabel('RA (J2000)')\n",
    "plt.ylabel('Dec (J2000)')\n",
    "ax.set_xticks([])\n",
    "ax.set_yticks([])\n",
    "#fig.tight_layout()\n",
    "ax2 = fig.add_axes(ax.get_position(), projection=wcs, aspect='equal', zorder=-1)\n",
    "ppl.plot(ax2,[],[])\n",
    "#plt.title(r'IRAC observation coverage', fontsize=15)\n",
    "ppl.legend(ax, loc=1, prop={'size':14}, handlelength=1, numpoints=1)\n",
    "\n",
    "#fig.savefig('final_plots/omegacen_coverage_map_new.pdf', dpi=400)"
   ]
  },
  {
   "cell_type": "code",
   "execution_count": null,
   "metadata": {
    "collapsed": true
   },
   "outputs": [],
   "source": []
  },
  {
   "cell_type": "code",
   "execution_count": null,
   "metadata": {
    "collapsed": true
   },
   "outputs": [],
   "source": []
  }
 ],
 "metadata": {
  "kernelspec": {
   "display_name": "Python 2",
   "language": "python",
   "name": "python2"
  },
  "language_info": {
   "codemirror_mode": {
    "name": "ipython",
    "version": 2
   },
   "file_extension": ".py",
   "mimetype": "text/x-python",
   "name": "python",
   "nbconvert_exporter": "python",
   "pygments_lexer": "ipython2",
   "version": "2.7.11"
  }
 },
 "nbformat": 4,
 "nbformat_minor": 0
}
