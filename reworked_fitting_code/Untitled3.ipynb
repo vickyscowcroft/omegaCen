{
 "cells": [
  {
   "cell_type": "code",
   "execution_count": 1,
   "metadata": {
    "collapsed": true
   },
   "outputs": [],
   "source": [
    "import pandas as pd\n",
    "df = pd.read_csv('final_data_files/neeley_phot_err.txt', delim_whitespace=True)"
   ]
  },
  {
   "cell_type": "code",
   "execution_count": 2,
   "metadata": {
    "collapsed": false
   },
   "outputs": [
    {
     "name": "stdout",
     "output_type": "stream",
     "text": [
      "Mean RRab 3p6 Neeley error: 0.0144347826087\n",
      "Mean RRab 4p5 Neeley error: 0.0112727272727\n",
      "Mean RRc 3p6 Neeley error: 0.0175454545455\n",
      "Mean RRc 4p5 Neeley error: 0.0153333333333\n"
     ]
    }
   ],
   "source": [
    "for mode in ['RRab', 'RRc']:\n",
    "    df_mode = df[df['Type']==mode]\n",
    "    for filt in ['3p6', '4p5']:\n",
    "        col = filt + '_err'\n",
    "        print \"Mean {} {} Neeley error:\".format(mode, filt), df_mode[col][df_mode[col] < 90].mean()"
   ]
  },
  {
   "cell_type": "code",
   "execution_count": null,
   "metadata": {
    "collapsed": true
   },
   "outputs": [],
   "source": []
  }
 ],
 "metadata": {
  "kernelspec": {
   "display_name": "Python 2",
   "language": "python",
   "name": "python2"
  },
  "language_info": {
   "codemirror_mode": {
    "name": "ipython",
    "version": 2
   },
   "file_extension": ".py",
   "mimetype": "text/x-python",
   "name": "python",
   "nbconvert_exporter": "python",
   "pygments_lexer": "ipython2",
   "version": "2.7.11"
  }
 },
 "nbformat": 4,
 "nbformat_minor": 0
}
