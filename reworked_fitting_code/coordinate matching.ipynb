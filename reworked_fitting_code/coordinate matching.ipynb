{
 "cells": [
  {
   "cell_type": "code",
   "execution_count": null,
   "metadata": {
    "collapsed": false
   },
   "outputs": [],
   "source": [
    "%matplotlib inline\n",
    "import matplotlib.pyplot as plt\n",
    "import pandas as pd\n",
    "from astropy.coordinates import SkyCoord\n",
    "from astropy.wcs import WCS\n",
    "from astropy.io import fits\n",
    "import numpy as np\n",
    "from scipy.spatial import cKDTree"
   ]
  },
  {
   "cell_type": "code",
   "execution_count": 2,
   "metadata": {
    "collapsed": true
   },
   "outputs": [],
   "source": [
    "field, filt = 1, '3p6'\n",
    "kaluzny_file = 'Kaluzny2004rrl.txt'\n",
    "fitspath = '../calibrated_files/fitsimg/omegaCen_{}_{}um.fits'.format(field,filt)"
   ]
  },
  {
   "cell_type": "code",
   "execution_count": 3,
   "metadata": {
    "collapsed": false
   },
   "outputs": [],
   "source": [
    "kaluz = pd.read_csv('Kaluzny2004rrl.txt', delim_whitespace=True)\n",
    "wcs = WCS(fits.getheader(fitspath))\n",
    "coords = SkyCoord(kaluz['ra'],kaluz['dec'], unit=('hour','degree'))"
   ]
  },
  {
   "cell_type": "code",
   "execution_count": 4,
   "metadata": {
    "collapsed": false
   },
   "outputs": [],
   "source": [
    "colnames = [['id'],['x'],['y']]\n",
    "colnames += [['mag_{}'.format(i), 'merr_{}'.format(i)] for i in range(1,14)]\n",
    "colnames = sum(colnames, [])"
   ]
  },
  {
   "cell_type": "code",
   "execution_count": 5,
   "metadata": {
    "collapsed": false
   },
   "outputs": [],
   "source": [
    "photdf = pd.read_csv('../calibrated_files/omegaCen_{}_{}um.cal'.format(field,filt),\n",
    "                     delim_whitespace=True, names=colnames)"
   ]
  },
  {
   "cell_type": "code",
   "execution_count": 6,
   "metadata": {
    "collapsed": false
   },
   "outputs": [],
   "source": [
    "photwcscoo = wcs.all_pix2world(photdf.x,photdf.y,1)\n",
    "coords2 = SkyCoord(photwcscoo[0],photwcscoo[1],unit='degree')"
   ]
  },
  {
   "cell_type": "code",
   "execution_count": 13,
   "metadata": {
    "collapsed": false
   },
   "outputs": [
    {
     "data": {
      "image/png": "[encoded data removed]",
      "text/plain": [
       "<matplotlib.figure.Figure at 0x1113c95d0>"
      ]
     },
     "metadata": {},
     "output_type": "display_data"
    }
   ],
   "source": [
    "ids,d2d,d3d=coords.match_to_catalog_sky(coords2)\n",
    "cond = (d2d.value<0.002)\n",
    "#ids[cond]\n",
    "photdf[photdf.id.isin(ids[cond])]\n",
    "for j in range(10):\n",
    "    for i in range(1,13):\n",
    "        mags = photdf['mag_{}'.format(i)]\n",
    "        plt.plot(i,mags[j],'o')"
   ]
  },
  {
   "cell_type": "code",
   "execution_count": null,
   "metadata": {
    "collapsed": false
   },
   "outputs": [],
   "source": [
    "rrlcoo = np.asarray(wcs.all_world2pix(coords.ra,coords.dec,0)).T\n",
    "photcoo = np.array([photdf.x.values, photdf.y.values]).T"
   ]
  },
  {
   "cell_type": "code",
   "execution_count": null,
   "metadata": {
    "collapsed": false
   },
   "outputs": [],
   "source": [
    "rrltree = cKDTree(rrlcoo)\n",
    "phottree = cKDTree(photcoo)"
   ]
  },
  {
   "cell_type": "code",
   "execution_count": null,
   "metadata": {
    "collapsed": false
   },
   "outputs": [],
   "source": [
    "herp = rrltree.query_ball_tree(phottree, 2)\n",
    "derp = [i[0] for i in herp if len(i) > 0]\n",
    "print derp"
   ]
  },
  {
   "cell_type": "code",
   "execution_count": null,
   "metadata": {
    "collapsed": true
   },
   "outputs": [],
   "source": []
  }
 ],
 "metadata": {
  "kernelspec": {
   "display_name": "Python 2",
   "language": "python",
   "name": "python2"
  },
  "language_info": {
   "codemirror_mode": {
    "name": "ipython",
    "version": 2
   },
   "file_extension": ".py",
   "mimetype": "text/x-python",
   "name": "python",
   "nbconvert_exporter": "python",
   "pygments_lexer": "ipython2",
   "version": "2.7.11"
  }
 },
 "nbformat": 4,
 "nbformat_minor": 0
}
